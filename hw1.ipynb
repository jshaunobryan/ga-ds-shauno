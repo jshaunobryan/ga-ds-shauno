{
 "cells": [
  {
   "cell_type": "markdown",
   "metadata": {},
   "source": [
    "# Homework Assignment #1"
   ]
  },
  {
   "cell_type": "code",
   "execution_count": 4,
   "metadata": {
    "collapsed": true
   },
   "outputs": [],
   "source": [
    "import pandas as pd\n",
    "import numpy as np\n",
    "import matplotlib.pyplot as plt\n",
    "%matplotlib inline"
   ]
  },
  {
   "cell_type": "markdown",
   "metadata": {},
   "source": [
    "## Section 1: Police Killings"
   ]
  },
  {
   "cell_type": "code",
   "execution_count": 9,
   "metadata": {},
   "outputs": [
    {
     "data": {
      "text/html": [
       "<div>\n",
       "<style>\n",
       "    .dataframe thead tr:only-child th {\n",
       "        text-align: right;\n",
       "    }\n",
       "\n",
       "    .dataframe thead th {\n",
       "        text-align: left;\n",
       "    }\n",
       "\n",
       "    .dataframe tbody tr th {\n",
       "        vertical-align: top;\n",
       "    }\n",
       "</style>\n",
       "<table border=\"1\" class=\"dataframe\">\n",
       "  <thead>\n",
       "    <tr style=\"text-align: right;\">\n",
       "      <th></th>\n",
       "      <th>name</th>\n",
       "      <th>age</th>\n",
       "      <th>gender</th>\n",
       "      <th>raceethnicity</th>\n",
       "      <th>month</th>\n",
       "      <th>day</th>\n",
       "      <th>year</th>\n",
       "      <th>streetaddress</th>\n",
       "      <th>city</th>\n",
       "      <th>state</th>\n",
       "      <th>lawenforcementagency</th>\n",
       "      <th>cause</th>\n",
       "      <th>armed</th>\n",
       "      <th>county_income</th>\n",
       "    </tr>\n",
       "  </thead>\n",
       "  <tbody>\n",
       "    <tr>\n",
       "      <th>0</th>\n",
       "      <td>A'donte Washington</td>\n",
       "      <td>16</td>\n",
       "      <td>Male</td>\n",
       "      <td>Black</td>\n",
       "      <td>February</td>\n",
       "      <td>23</td>\n",
       "      <td>2015</td>\n",
       "      <td>Clearview Ln</td>\n",
       "      <td>Millbrook</td>\n",
       "      <td>AL</td>\n",
       "      <td>Millbrook Police Department</td>\n",
       "      <td>Gunshot</td>\n",
       "      <td>No</td>\n",
       "      <td>54766</td>\n",
       "    </tr>\n",
       "    <tr>\n",
       "      <th>1</th>\n",
       "      <td>Aaron Rutledge</td>\n",
       "      <td>27</td>\n",
       "      <td>Male</td>\n",
       "      <td>White</td>\n",
       "      <td>April</td>\n",
       "      <td>2</td>\n",
       "      <td>2015</td>\n",
       "      <td>300 block Iris Park Dr</td>\n",
       "      <td>Pineville</td>\n",
       "      <td>LA</td>\n",
       "      <td>Rapides Parish Sheriff's Office</td>\n",
       "      <td>Gunshot</td>\n",
       "      <td>No</td>\n",
       "      <td>40930</td>\n",
       "    </tr>\n",
       "    <tr>\n",
       "      <th>2</th>\n",
       "      <td>Aaron Siler</td>\n",
       "      <td>26</td>\n",
       "      <td>Male</td>\n",
       "      <td>White</td>\n",
       "      <td>March</td>\n",
       "      <td>14</td>\n",
       "      <td>2015</td>\n",
       "      <td>22nd Ave and 56th St</td>\n",
       "      <td>Kenosha</td>\n",
       "      <td>WI</td>\n",
       "      <td>Kenosha Police Department</td>\n",
       "      <td>Gunshot</td>\n",
       "      <td>No</td>\n",
       "      <td>54930</td>\n",
       "    </tr>\n",
       "    <tr>\n",
       "      <th>3</th>\n",
       "      <td>Aaron Valdez</td>\n",
       "      <td>25</td>\n",
       "      <td>Male</td>\n",
       "      <td>Hispanic/Latino</td>\n",
       "      <td>March</td>\n",
       "      <td>11</td>\n",
       "      <td>2015</td>\n",
       "      <td>3000 Seminole Ave</td>\n",
       "      <td>South Gate</td>\n",
       "      <td>CA</td>\n",
       "      <td>South Gate Police Department</td>\n",
       "      <td>Gunshot</td>\n",
       "      <td>Firearm</td>\n",
       "      <td>55909</td>\n",
       "    </tr>\n",
       "    <tr>\n",
       "      <th>4</th>\n",
       "      <td>Adam Jovicic</td>\n",
       "      <td>29</td>\n",
       "      <td>Male</td>\n",
       "      <td>White</td>\n",
       "      <td>March</td>\n",
       "      <td>19</td>\n",
       "      <td>2015</td>\n",
       "      <td>364 Hiwood Ave</td>\n",
       "      <td>Munroe Falls</td>\n",
       "      <td>OH</td>\n",
       "      <td>Kent Police Department</td>\n",
       "      <td>Gunshot</td>\n",
       "      <td>No</td>\n",
       "      <td>49669</td>\n",
       "    </tr>\n",
       "  </tbody>\n",
       "</table>\n",
       "</div>"
      ],
      "text/plain": [
       "                 name  age gender    raceethnicity     month  day  year  \\\n",
       "0  A'donte Washington   16   Male            Black  February   23  2015   \n",
       "1      Aaron Rutledge   27   Male            White     April    2  2015   \n",
       "2         Aaron Siler   26   Male            White     March   14  2015   \n",
       "3        Aaron Valdez   25   Male  Hispanic/Latino     March   11  2015   \n",
       "4        Adam Jovicic   29   Male            White     March   19  2015   \n",
       "\n",
       "            streetaddress          city state  \\\n",
       "0            Clearview Ln     Millbrook    AL   \n",
       "1  300 block Iris Park Dr     Pineville    LA   \n",
       "2    22nd Ave and 56th St       Kenosha    WI   \n",
       "3       3000 Seminole Ave    South Gate    CA   \n",
       "4          364 Hiwood Ave  Munroe Falls    OH   \n",
       "\n",
       "              lawenforcementagency    cause    armed  county_income  \n",
       "0      Millbrook Police Department  Gunshot       No          54766  \n",
       "1  Rapides Parish Sheriff's Office  Gunshot       No          40930  \n",
       "2        Kenosha Police Department  Gunshot       No          54930  \n",
       "3     South Gate Police Department  Gunshot  Firearm          55909  \n",
       "4           Kent Police Department  Gunshot       No          49669  "
      ]
     },
     "execution_count": 9,
     "metadata": {},
     "output_type": "execute_result"
    }
   ],
   "source": [
    "killings = pd.read_csv(r'C:\\Users\\user\\ga-ds-shauno\\data\\police-killings.csv', index_col=[0])\n",
    "killings.head()"
   ]
  },
  {
   "cell_type": "markdown",
   "metadata": {
    "collapsed": true
   },
   "source": [
    "### 1. Make the following changes to column names:\n",
    "\n",
    "- Rename \"lawenforcementagency\" to \"agency\"\n",
    "- Rename \"raceethnicity\" to \"race\""
   ]
  },
  {
   "cell_type": "code",
   "execution_count": 10,
   "metadata": {},
   "outputs": [
    {
     "data": {
      "text/html": [
       "<div>\n",
       "<style>\n",
       "    .dataframe thead tr:only-child th {\n",
       "        text-align: right;\n",
       "    }\n",
       "\n",
       "    .dataframe thead th {\n",
       "        text-align: left;\n",
       "    }\n",
       "\n",
       "    .dataframe tbody tr th {\n",
       "        vertical-align: top;\n",
       "    }\n",
       "</style>\n",
       "<table border=\"1\" class=\"dataframe\">\n",
       "  <thead>\n",
       "    <tr style=\"text-align: right;\">\n",
       "      <th></th>\n",
       "      <th>name</th>\n",
       "      <th>age</th>\n",
       "      <th>gender</th>\n",
       "      <th>race</th>\n",
       "      <th>month</th>\n",
       "      <th>day</th>\n",
       "      <th>year</th>\n",
       "      <th>streetaddress</th>\n",
       "      <th>city</th>\n",
       "      <th>state</th>\n",
       "      <th>agency</th>\n",
       "      <th>cause</th>\n",
       "      <th>armed</th>\n",
       "      <th>county_income</th>\n",
       "    </tr>\n",
       "  </thead>\n",
       "  <tbody>\n",
       "    <tr>\n",
       "      <th>0</th>\n",
       "      <td>A'donte Washington</td>\n",
       "      <td>16</td>\n",
       "      <td>Male</td>\n",
       "      <td>Black</td>\n",
       "      <td>February</td>\n",
       "      <td>23</td>\n",
       "      <td>2015</td>\n",
       "      <td>Clearview Ln</td>\n",
       "      <td>Millbrook</td>\n",
       "      <td>AL</td>\n",
       "      <td>Millbrook Police Department</td>\n",
       "      <td>Gunshot</td>\n",
       "      <td>No</td>\n",
       "      <td>54766</td>\n",
       "    </tr>\n",
       "    <tr>\n",
       "      <th>1</th>\n",
       "      <td>Aaron Rutledge</td>\n",
       "      <td>27</td>\n",
       "      <td>Male</td>\n",
       "      <td>White</td>\n",
       "      <td>April</td>\n",
       "      <td>2</td>\n",
       "      <td>2015</td>\n",
       "      <td>300 block Iris Park Dr</td>\n",
       "      <td>Pineville</td>\n",
       "      <td>LA</td>\n",
       "      <td>Rapides Parish Sheriff's Office</td>\n",
       "      <td>Gunshot</td>\n",
       "      <td>No</td>\n",
       "      <td>40930</td>\n",
       "    </tr>\n",
       "    <tr>\n",
       "      <th>2</th>\n",
       "      <td>Aaron Siler</td>\n",
       "      <td>26</td>\n",
       "      <td>Male</td>\n",
       "      <td>White</td>\n",
       "      <td>March</td>\n",
       "      <td>14</td>\n",
       "      <td>2015</td>\n",
       "      <td>22nd Ave and 56th St</td>\n",
       "      <td>Kenosha</td>\n",
       "      <td>WI</td>\n",
       "      <td>Kenosha Police Department</td>\n",
       "      <td>Gunshot</td>\n",
       "      <td>No</td>\n",
       "      <td>54930</td>\n",
       "    </tr>\n",
       "    <tr>\n",
       "      <th>3</th>\n",
       "      <td>Aaron Valdez</td>\n",
       "      <td>25</td>\n",
       "      <td>Male</td>\n",
       "      <td>Hispanic/Latino</td>\n",
       "      <td>March</td>\n",
       "      <td>11</td>\n",
       "      <td>2015</td>\n",
       "      <td>3000 Seminole Ave</td>\n",
       "      <td>South Gate</td>\n",
       "      <td>CA</td>\n",
       "      <td>South Gate Police Department</td>\n",
       "      <td>Gunshot</td>\n",
       "      <td>Firearm</td>\n",
       "      <td>55909</td>\n",
       "    </tr>\n",
       "    <tr>\n",
       "      <th>4</th>\n",
       "      <td>Adam Jovicic</td>\n",
       "      <td>29</td>\n",
       "      <td>Male</td>\n",
       "      <td>White</td>\n",
       "      <td>March</td>\n",
       "      <td>19</td>\n",
       "      <td>2015</td>\n",
       "      <td>364 Hiwood Ave</td>\n",
       "      <td>Munroe Falls</td>\n",
       "      <td>OH</td>\n",
       "      <td>Kent Police Department</td>\n",
       "      <td>Gunshot</td>\n",
       "      <td>No</td>\n",
       "      <td>49669</td>\n",
       "    </tr>\n",
       "    <tr>\n",
       "      <th>5</th>\n",
       "      <td>Adam Reinhart</td>\n",
       "      <td>29</td>\n",
       "      <td>Male</td>\n",
       "      <td>White</td>\n",
       "      <td>March</td>\n",
       "      <td>7</td>\n",
       "      <td>2015</td>\n",
       "      <td>18th St and Palm Ln</td>\n",
       "      <td>Phoenix</td>\n",
       "      <td>AZ</td>\n",
       "      <td>Phoenix Police Department</td>\n",
       "      <td>Gunshot</td>\n",
       "      <td>No</td>\n",
       "      <td>53596</td>\n",
       "    </tr>\n",
       "    <tr>\n",
       "      <th>6</th>\n",
       "      <td>Adrian Hernandez</td>\n",
       "      <td>22</td>\n",
       "      <td>Male</td>\n",
       "      <td>Hispanic/Latino</td>\n",
       "      <td>March</td>\n",
       "      <td>27</td>\n",
       "      <td>2015</td>\n",
       "      <td>4000 Union Ave</td>\n",
       "      <td>Bakersfield</td>\n",
       "      <td>CA</td>\n",
       "      <td>Bakersfield Police Department</td>\n",
       "      <td>Gunshot</td>\n",
       "      <td>Firearm</td>\n",
       "      <td>48552</td>\n",
       "    </tr>\n",
       "    <tr>\n",
       "      <th>7</th>\n",
       "      <td>Adrian Solis</td>\n",
       "      <td>35</td>\n",
       "      <td>Male</td>\n",
       "      <td>Hispanic/Latino</td>\n",
       "      <td>March</td>\n",
       "      <td>26</td>\n",
       "      <td>2015</td>\n",
       "      <td>1500 Bayview Ave</td>\n",
       "      <td>Wilmington</td>\n",
       "      <td>CA</td>\n",
       "      <td>Los Angeles Police Department</td>\n",
       "      <td>Gunshot</td>\n",
       "      <td>Non-lethal firearm</td>\n",
       "      <td>55909</td>\n",
       "    </tr>\n",
       "    <tr>\n",
       "      <th>8</th>\n",
       "      <td>Alan Alverson</td>\n",
       "      <td>44</td>\n",
       "      <td>Male</td>\n",
       "      <td>White</td>\n",
       "      <td>January</td>\n",
       "      <td>28</td>\n",
       "      <td>2015</td>\n",
       "      <td>Pickett Runn Rd</td>\n",
       "      <td>Sunset</td>\n",
       "      <td>TX</td>\n",
       "      <td>Wise County Sheriff's Department and Texas DPS</td>\n",
       "      <td>Gunshot</td>\n",
       "      <td>Firearm</td>\n",
       "      <td>38310</td>\n",
       "    </tr>\n",
       "    <tr>\n",
       "      <th>9</th>\n",
       "      <td>Alan James</td>\n",
       "      <td>31</td>\n",
       "      <td>Male</td>\n",
       "      <td>White</td>\n",
       "      <td>February</td>\n",
       "      <td>7</td>\n",
       "      <td>2015</td>\n",
       "      <td>200 Abbie St SE</td>\n",
       "      <td>Wyoming</td>\n",
       "      <td>MI</td>\n",
       "      <td>Kentwood Police Department and Wyoming DPS</td>\n",
       "      <td>Gunshot</td>\n",
       "      <td>Other</td>\n",
       "      <td>51667</td>\n",
       "    </tr>\n",
       "    <tr>\n",
       "      <th>10</th>\n",
       "      <td>Albert Hanson Jr</td>\n",
       "      <td>76</td>\n",
       "      <td>Male</td>\n",
       "      <td>White</td>\n",
       "      <td>April</td>\n",
       "      <td>26</td>\n",
       "      <td>2015</td>\n",
       "      <td>7th Ave and Kansas Ave</td>\n",
       "      <td>Hanford</td>\n",
       "      <td>CA</td>\n",
       "      <td>Kings County Sheriff's Office</td>\n",
       "      <td>Gunshot</td>\n",
       "      <td>Knife</td>\n",
       "      <td>48133</td>\n",
       "    </tr>\n",
       "    <tr>\n",
       "      <th>11</th>\n",
       "      <td>Alec Ouzounian</td>\n",
       "      <td>40</td>\n",
       "      <td>Male</td>\n",
       "      <td>White</td>\n",
       "      <td>May</td>\n",
       "      <td>12</td>\n",
       "      <td>2015</td>\n",
       "      <td>28 Paseo Viento</td>\n",
       "      <td>Rancho Santa Margarita</td>\n",
       "      <td>CA</td>\n",
       "      <td>Orange County Sheriff's Department</td>\n",
       "      <td>Gunshot</td>\n",
       "      <td>No</td>\n",
       "      <td>75422</td>\n",
       "    </tr>\n",
       "    <tr>\n",
       "      <th>12</th>\n",
       "      <td>Alejandro Salazar</td>\n",
       "      <td>40</td>\n",
       "      <td>Male</td>\n",
       "      <td>Hispanic/Latino</td>\n",
       "      <td>February</td>\n",
       "      <td>20</td>\n",
       "      <td>2015</td>\n",
       "      <td>1200 E Airtex Dr</td>\n",
       "      <td>Houston</td>\n",
       "      <td>TX</td>\n",
       "      <td>US Marshals Service</td>\n",
       "      <td>Gunshot</td>\n",
       "      <td>No</td>\n",
       "      <td>53137</td>\n",
       "    </tr>\n",
       "    <tr>\n",
       "      <th>13</th>\n",
       "      <td>Alexander Long</td>\n",
       "      <td>31</td>\n",
       "      <td>Male</td>\n",
       "      <td>White</td>\n",
       "      <td>February</td>\n",
       "      <td>25</td>\n",
       "      <td>2015</td>\n",
       "      <td>25th St and Poplar St</td>\n",
       "      <td>Terre Haute</td>\n",
       "      <td>IN</td>\n",
       "      <td>Terre Haute Police Department</td>\n",
       "      <td>Gunshot</td>\n",
       "      <td>Firearm</td>\n",
       "      <td>40692</td>\n",
       "    </tr>\n",
       "    <tr>\n",
       "      <th>14</th>\n",
       "      <td>Alexander Myers</td>\n",
       "      <td>23</td>\n",
       "      <td>Male</td>\n",
       "      <td>White</td>\n",
       "      <td>April</td>\n",
       "      <td>6</td>\n",
       "      <td>2015</td>\n",
       "      <td>5700 block Ashby Dr</td>\n",
       "      <td>Indianapolis</td>\n",
       "      <td>IN</td>\n",
       "      <td>Indianapolis Metropolitan Police Department</td>\n",
       "      <td>Gunshot</td>\n",
       "      <td>Non-lethal firearm</td>\n",
       "      <td>42334</td>\n",
       "    </tr>\n",
       "    <tr>\n",
       "      <th>15</th>\n",
       "      <td>Alexander Rivera</td>\n",
       "      <td>39</td>\n",
       "      <td>Male</td>\n",
       "      <td>Hispanic/Latino</td>\n",
       "      <td>May</td>\n",
       "      <td>30</td>\n",
       "      <td>2015</td>\n",
       "      <td>1128 Murfreesboro Pike</td>\n",
       "      <td>Nashville</td>\n",
       "      <td>TN</td>\n",
       "      <td>Metro Nashville Police Department</td>\n",
       "      <td>Gunshot</td>\n",
       "      <td>Firearm</td>\n",
       "      <td>47335</td>\n",
       "    </tr>\n",
       "    <tr>\n",
       "      <th>16</th>\n",
       "      <td>Alexia Christian</td>\n",
       "      <td>25</td>\n",
       "      <td>Female</td>\n",
       "      <td>Black</td>\n",
       "      <td>April</td>\n",
       "      <td>30</td>\n",
       "      <td>2015</td>\n",
       "      <td>141 Pryor St SW</td>\n",
       "      <td>Atlanta</td>\n",
       "      <td>GA</td>\n",
       "      <td>Atlanta Police Department</td>\n",
       "      <td>Gunshot</td>\n",
       "      <td>Vehicle</td>\n",
       "      <td>56857</td>\n",
       "    </tr>\n",
       "    <tr>\n",
       "      <th>17</th>\n",
       "      <td>Alfredo Rials-Torres</td>\n",
       "      <td>54</td>\n",
       "      <td>Male</td>\n",
       "      <td>Hispanic/Latino</td>\n",
       "      <td>May</td>\n",
       "      <td>19</td>\n",
       "      <td>2015</td>\n",
       "      <td>4219 2nd Road N</td>\n",
       "      <td>Arlington</td>\n",
       "      <td>VA</td>\n",
       "      <td>Arlington Police Department</td>\n",
       "      <td>Gunshot</td>\n",
       "      <td>Firearm</td>\n",
       "      <td>103208</td>\n",
       "    </tr>\n",
       "    <tr>\n",
       "      <th>18</th>\n",
       "      <td>Alice Brown</td>\n",
       "      <td>24</td>\n",
       "      <td>Female</td>\n",
       "      <td>White</td>\n",
       "      <td>March</td>\n",
       "      <td>17</td>\n",
       "      <td>2015</td>\n",
       "      <td>Van Ness Ave and Pine St</td>\n",
       "      <td>San Francisco</td>\n",
       "      <td>CA</td>\n",
       "      <td>San Francisco Police Department</td>\n",
       "      <td>Gunshot</td>\n",
       "      <td>Firearm</td>\n",
       "      <td>75604</td>\n",
       "    </tr>\n",
       "    <tr>\n",
       "      <th>19</th>\n",
       "      <td>Alvin Haynes</td>\n",
       "      <td>57</td>\n",
       "      <td>Male</td>\n",
       "      <td>Black</td>\n",
       "      <td>January</td>\n",
       "      <td>26</td>\n",
       "      <td>2015</td>\n",
       "      <td>1 Moreland Dr</td>\n",
       "      <td>San Francisco</td>\n",
       "      <td>CA</td>\n",
       "      <td>San Francisco Sheriff's Department</td>\n",
       "      <td>Death in custody</td>\n",
       "      <td>No</td>\n",
       "      <td>88202</td>\n",
       "    </tr>\n",
       "    <tr>\n",
       "      <th>20</th>\n",
       "      <td>Amilcar Perez-Lopez</td>\n",
       "      <td>21</td>\n",
       "      <td>Male</td>\n",
       "      <td>Hispanic/Latino</td>\n",
       "      <td>February</td>\n",
       "      <td>26</td>\n",
       "      <td>2015</td>\n",
       "      <td>Folsom St and 24th St</td>\n",
       "      <td>San Francisco</td>\n",
       "      <td>CA</td>\n",
       "      <td>San Francisco Police Department</td>\n",
       "      <td>Gunshot</td>\n",
       "      <td>Vehicle</td>\n",
       "      <td>75604</td>\n",
       "    </tr>\n",
       "    <tr>\n",
       "      <th>21</th>\n",
       "      <td>Andre Murphy Sr</td>\n",
       "      <td>42</td>\n",
       "      <td>Male</td>\n",
       "      <td>Black</td>\n",
       "      <td>January</td>\n",
       "      <td>7</td>\n",
       "      <td>2015</td>\n",
       "      <td>1223 Omaha Ave</td>\n",
       "      <td>Norfolk</td>\n",
       "      <td>NE</td>\n",
       "      <td>Norfolk Police Division</td>\n",
       "      <td>Death in custody</td>\n",
       "      <td>No</td>\n",
       "      <td>46566</td>\n",
       "    </tr>\n",
       "    <tr>\n",
       "      <th>22</th>\n",
       "      <td>Andres Lara-Rodriguez</td>\n",
       "      <td>21</td>\n",
       "      <td>Male</td>\n",
       "      <td>Hispanic/Latino</td>\n",
       "      <td>February</td>\n",
       "      <td>13</td>\n",
       "      <td>2015</td>\n",
       "      <td>S 12th St and Ruby St</td>\n",
       "      <td>Kansas City</td>\n",
       "      <td>KS</td>\n",
       "      <td>Kansas City KS Police Department and Kansas Hi...</td>\n",
       "      <td>Gunshot</td>\n",
       "      <td>Other</td>\n",
       "      <td>39402</td>\n",
       "    </tr>\n",
       "    <tr>\n",
       "      <th>23</th>\n",
       "      <td>Andrew Driver</td>\n",
       "      <td>36</td>\n",
       "      <td>Male</td>\n",
       "      <td>White</td>\n",
       "      <td>March</td>\n",
       "      <td>13</td>\n",
       "      <td>2015</td>\n",
       "      <td>9700 Kempster Ave</td>\n",
       "      <td>Fontana</td>\n",
       "      <td>CA</td>\n",
       "      <td>Fontana Police Department</td>\n",
       "      <td>Gunshot</td>\n",
       "      <td>Firearm</td>\n",
       "      <td>54090</td>\n",
       "    </tr>\n",
       "    <tr>\n",
       "      <th>24</th>\n",
       "      <td>Andrew Jackson</td>\n",
       "      <td>26</td>\n",
       "      <td>Male</td>\n",
       "      <td>White</td>\n",
       "      <td>April</td>\n",
       "      <td>29</td>\n",
       "      <td>2015</td>\n",
       "      <td>1200 W Florida Ave</td>\n",
       "      <td>Chickasha</td>\n",
       "      <td>OK</td>\n",
       "      <td>Grady County Sheriff's Department and Chickash...</td>\n",
       "      <td>Gunshot</td>\n",
       "      <td>Firearm</td>\n",
       "      <td>49637</td>\n",
       "    </tr>\n",
       "    <tr>\n",
       "      <th>25</th>\n",
       "      <td>Andrew Shipley</td>\n",
       "      <td>49</td>\n",
       "      <td>Male</td>\n",
       "      <td>White</td>\n",
       "      <td>March</td>\n",
       "      <td>17</td>\n",
       "      <td>2015</td>\n",
       "      <td>360 Argyle Ct</td>\n",
       "      <td>Medford</td>\n",
       "      <td>OR</td>\n",
       "      <td>Medford Police Department</td>\n",
       "      <td>Gunshot</td>\n",
       "      <td>Firearm</td>\n",
       "      <td>44005</td>\n",
       "    </tr>\n",
       "    <tr>\n",
       "      <th>26</th>\n",
       "      <td>Andrew Toto</td>\n",
       "      <td>54</td>\n",
       "      <td>Male</td>\n",
       "      <td>White</td>\n",
       "      <td>January</td>\n",
       "      <td>21</td>\n",
       "      <td>2015</td>\n",
       "      <td>Scobie Pond Rd and Julian Rd</td>\n",
       "      <td>Derry</td>\n",
       "      <td>NH</td>\n",
       "      <td>Derry Police Department</td>\n",
       "      <td>Gunshot</td>\n",
       "      <td>Firearm</td>\n",
       "      <td>77348</td>\n",
       "    </tr>\n",
       "    <tr>\n",
       "      <th>27</th>\n",
       "      <td>Andrew Valadez</td>\n",
       "      <td>26</td>\n",
       "      <td>Male</td>\n",
       "      <td>White</td>\n",
       "      <td>April</td>\n",
       "      <td>23</td>\n",
       "      <td>2015</td>\n",
       "      <td>Tyler St and Glenoaks Blvd</td>\n",
       "      <td>Sylmar</td>\n",
       "      <td>CA</td>\n",
       "      <td>Los Angeles Police Department</td>\n",
       "      <td>Gunshot</td>\n",
       "      <td>Firearm</td>\n",
       "      <td>55909</td>\n",
       "    </tr>\n",
       "    <tr>\n",
       "      <th>28</th>\n",
       "      <td>Andrew Williams</td>\n",
       "      <td>48</td>\n",
       "      <td>Male</td>\n",
       "      <td>Black</td>\n",
       "      <td>March</td>\n",
       "      <td>6</td>\n",
       "      <td>2015</td>\n",
       "      <td>Putnam Loop Rd</td>\n",
       "      <td>Putnam Hall</td>\n",
       "      <td>FL</td>\n",
       "      <td>Putnam County Sheriff's Office</td>\n",
       "      <td>Gunshot</td>\n",
       "      <td>Firearm</td>\n",
       "      <td>32497</td>\n",
       "    </tr>\n",
       "    <tr>\n",
       "      <th>29</th>\n",
       "      <td>Andy Martinez</td>\n",
       "      <td>33</td>\n",
       "      <td>Male</td>\n",
       "      <td>Hispanic/Latino</td>\n",
       "      <td>January</td>\n",
       "      <td>9</td>\n",
       "      <td>2015</td>\n",
       "      <td>4400 Tetons Dr</td>\n",
       "      <td>El Paso</td>\n",
       "      <td>TX</td>\n",
       "      <td>El Paso Police Department</td>\n",
       "      <td>Gunshot</td>\n",
       "      <td>Firearm</td>\n",
       "      <td>40157</td>\n",
       "    </tr>\n",
       "    <tr>\n",
       "      <th>...</th>\n",
       "      <td>...</td>\n",
       "      <td>...</td>\n",
       "      <td>...</td>\n",
       "      <td>...</td>\n",
       "      <td>...</td>\n",
       "      <td>...</td>\n",
       "      <td>...</td>\n",
       "      <td>...</td>\n",
       "      <td>...</td>\n",
       "      <td>...</td>\n",
       "      <td>...</td>\n",
       "      <td>...</td>\n",
       "      <td>...</td>\n",
       "      <td>...</td>\n",
       "    </tr>\n",
       "    <tr>\n",
       "      <th>437</th>\n",
       "      <td>Tiffany Terry</td>\n",
       "      <td>39</td>\n",
       "      <td>Female</td>\n",
       "      <td>White</td>\n",
       "      <td>January</td>\n",
       "      <td>30</td>\n",
       "      <td>2015</td>\n",
       "      <td>1702 S 50th St</td>\n",
       "      <td>Omaha</td>\n",
       "      <td>NE</td>\n",
       "      <td>Omaha Police Department</td>\n",
       "      <td>Gunshot</td>\n",
       "      <td>Firearm</td>\n",
       "      <td>53325</td>\n",
       "    </tr>\n",
       "    <tr>\n",
       "      <th>438</th>\n",
       "      <td>Tim Elliott</td>\n",
       "      <td>53</td>\n",
       "      <td>Male</td>\n",
       "      <td>Unknown</td>\n",
       "      <td>January</td>\n",
       "      <td>2</td>\n",
       "      <td>2015</td>\n",
       "      <td>600 E Island Lake Dr</td>\n",
       "      <td>Shelton</td>\n",
       "      <td>WA</td>\n",
       "      <td>Mason County Sheriff's Office</td>\n",
       "      <td>Gunshot</td>\n",
       "      <td>Non-lethal firearm</td>\n",
       "      <td>48755</td>\n",
       "    </tr>\n",
       "    <tr>\n",
       "      <th>439</th>\n",
       "      <td>Timothy Jones</td>\n",
       "      <td>27</td>\n",
       "      <td>Male</td>\n",
       "      <td>White</td>\n",
       "      <td>May</td>\n",
       "      <td>17</td>\n",
       "      <td>2015</td>\n",
       "      <td>111 Otero Dr</td>\n",
       "      <td>Ruidoso</td>\n",
       "      <td>NM</td>\n",
       "      <td>Ruidoso Police Department</td>\n",
       "      <td>Gunshot</td>\n",
       "      <td>Firearm</td>\n",
       "      <td>43014</td>\n",
       "    </tr>\n",
       "    <tr>\n",
       "      <th>440</th>\n",
       "      <td>Todd Allen Hodge</td>\n",
       "      <td>36</td>\n",
       "      <td>Male</td>\n",
       "      <td>White</td>\n",
       "      <td>January</td>\n",
       "      <td>21</td>\n",
       "      <td>2015</td>\n",
       "      <td>40200 Clark Dr</td>\n",
       "      <td>Hemet</td>\n",
       "      <td>CA</td>\n",
       "      <td>Riverside County Sheriff's Department</td>\n",
       "      <td>Gunshot</td>\n",
       "      <td>Firearm</td>\n",
       "      <td>56529</td>\n",
       "    </tr>\n",
       "    <tr>\n",
       "      <th>441</th>\n",
       "      <td>Todd Jamal Dye</td>\n",
       "      <td>20</td>\n",
       "      <td>Male</td>\n",
       "      <td>Black</td>\n",
       "      <td>April</td>\n",
       "      <td>24</td>\n",
       "      <td>2015</td>\n",
       "      <td>1505 E Main St</td>\n",
       "      <td>Trinidad</td>\n",
       "      <td>CO</td>\n",
       "      <td>Trinidad Police Department</td>\n",
       "      <td>Gunshot</td>\n",
       "      <td>Firearm</td>\n",
       "      <td>42261</td>\n",
       "    </tr>\n",
       "    <tr>\n",
       "      <th>442</th>\n",
       "      <td>Tommy Smith</td>\n",
       "      <td>39</td>\n",
       "      <td>Male</td>\n",
       "      <td>White</td>\n",
       "      <td>January</td>\n",
       "      <td>12</td>\n",
       "      <td>2015</td>\n",
       "      <td>224 Circle Dr</td>\n",
       "      <td>Arcola</td>\n",
       "      <td>IL</td>\n",
       "      <td>Tuscola Police Department</td>\n",
       "      <td>Gunshot</td>\n",
       "      <td>Firearm</td>\n",
       "      <td>52741</td>\n",
       "    </tr>\n",
       "    <tr>\n",
       "      <th>443</th>\n",
       "      <td>Tony Robinson</td>\n",
       "      <td>19</td>\n",
       "      <td>Male</td>\n",
       "      <td>Black</td>\n",
       "      <td>March</td>\n",
       "      <td>6</td>\n",
       "      <td>2015</td>\n",
       "      <td>1125 Williamson St</td>\n",
       "      <td>Madison</td>\n",
       "      <td>WI</td>\n",
       "      <td>Madison Police Department</td>\n",
       "      <td>Gunshot</td>\n",
       "      <td>Firearm</td>\n",
       "      <td>61721</td>\n",
       "    </tr>\n",
       "    <tr>\n",
       "      <th>444</th>\n",
       "      <td>Tony Ross</td>\n",
       "      <td>34</td>\n",
       "      <td>Male</td>\n",
       "      <td>White</td>\n",
       "      <td>March</td>\n",
       "      <td>6</td>\n",
       "      <td>2015</td>\n",
       "      <td>Lamar St and Whitworth St</td>\n",
       "      <td>Sulphur Springs</td>\n",
       "      <td>TX</td>\n",
       "      <td>Sulphur Springs Police Department</td>\n",
       "      <td>Taser</td>\n",
       "      <td>Knife</td>\n",
       "      <td>43657</td>\n",
       "    </tr>\n",
       "    <tr>\n",
       "      <th>445</th>\n",
       "      <td>Troy Boyd</td>\n",
       "      <td>36</td>\n",
       "      <td>Male</td>\n",
       "      <td>White</td>\n",
       "      <td>March</td>\n",
       "      <td>15</td>\n",
       "      <td>2015</td>\n",
       "      <td>McEwien Swamp Rd</td>\n",
       "      <td>Ruth</td>\n",
       "      <td>MS</td>\n",
       "      <td>Pike County Sheriff's Office</td>\n",
       "      <td>Gunshot</td>\n",
       "      <td>Firearm</td>\n",
       "      <td>34841</td>\n",
       "    </tr>\n",
       "    <tr>\n",
       "      <th>446</th>\n",
       "      <td>Tyrel Vick</td>\n",
       "      <td>34</td>\n",
       "      <td>Male</td>\n",
       "      <td>White</td>\n",
       "      <td>March</td>\n",
       "      <td>20</td>\n",
       "      <td>2015</td>\n",
       "      <td>Oklahoma Hwy 48 and E1750 Rd</td>\n",
       "      <td>Wapanucka</td>\n",
       "      <td>OK</td>\n",
       "      <td>Oklahoma Highway Patrol and Tupelo Police Depa...</td>\n",
       "      <td>Gunshot</td>\n",
       "      <td>Firearm</td>\n",
       "      <td>34867</td>\n",
       "    </tr>\n",
       "    <tr>\n",
       "      <th>447</th>\n",
       "      <td>Tyrell Larsen</td>\n",
       "      <td>31</td>\n",
       "      <td>Male</td>\n",
       "      <td>White</td>\n",
       "      <td>April</td>\n",
       "      <td>6</td>\n",
       "      <td>2015</td>\n",
       "      <td>E 100 N</td>\n",
       "      <td>Rigby</td>\n",
       "      <td>ID</td>\n",
       "      <td>Jefferson County Sheriff Department</td>\n",
       "      <td>Gunshot</td>\n",
       "      <td>No</td>\n",
       "      <td>52023</td>\n",
       "    </tr>\n",
       "    <tr>\n",
       "      <th>448</th>\n",
       "      <td>Tyrone Ryerson</td>\n",
       "      <td>45</td>\n",
       "      <td>Male</td>\n",
       "      <td>Black</td>\n",
       "      <td>March</td>\n",
       "      <td>5</td>\n",
       "      <td>2015</td>\n",
       "      <td>468 E Plainfield Ave</td>\n",
       "      <td>Milwaukee</td>\n",
       "      <td>WI</td>\n",
       "      <td>Milwaukee Police Department</td>\n",
       "      <td>Gunshot</td>\n",
       "      <td>Non-lethal firearm</td>\n",
       "      <td>43193</td>\n",
       "    </tr>\n",
       "    <tr>\n",
       "      <th>449</th>\n",
       "      <td>Tyson Hubbard</td>\n",
       "      <td>34</td>\n",
       "      <td>Male</td>\n",
       "      <td>White</td>\n",
       "      <td>March</td>\n",
       "      <td>5</td>\n",
       "      <td>2015</td>\n",
       "      <td>27th St and Fletcher Ave</td>\n",
       "      <td>Lincoln</td>\n",
       "      <td>NE</td>\n",
       "      <td>US Marshals Service</td>\n",
       "      <td>Gunshot</td>\n",
       "      <td>Unknown</td>\n",
       "      <td>51574</td>\n",
       "    </tr>\n",
       "    <tr>\n",
       "      <th>450</th>\n",
       "      <td>Unknown</td>\n",
       "      <td>34</td>\n",
       "      <td>Male</td>\n",
       "      <td>Unknown</td>\n",
       "      <td>January</td>\n",
       "      <td>16</td>\n",
       "      <td>2015</td>\n",
       "      <td>Co Rd 2718</td>\n",
       "      <td>Mabank</td>\n",
       "      <td>TX</td>\n",
       "      <td>Texas Rangers/ ATF</td>\n",
       "      <td>Gunshot</td>\n",
       "      <td>Other</td>\n",
       "      <td>43439</td>\n",
       "    </tr>\n",
       "    <tr>\n",
       "      <th>451</th>\n",
       "      <td>Unknown</td>\n",
       "      <td>34</td>\n",
       "      <td>Female</td>\n",
       "      <td>Unknown</td>\n",
       "      <td>May</td>\n",
       "      <td>25</td>\n",
       "      <td>2015</td>\n",
       "      <td>6505 Shirley Ave</td>\n",
       "      <td>Austin</td>\n",
       "      <td>TX</td>\n",
       "      <td>Austin Police Department</td>\n",
       "      <td>Gunshot</td>\n",
       "      <td>Knife</td>\n",
       "      <td>43439</td>\n",
       "    </tr>\n",
       "    <tr>\n",
       "      <th>452</th>\n",
       "      <td>Unknown</td>\n",
       "      <td>34</td>\n",
       "      <td>Male</td>\n",
       "      <td>White</td>\n",
       "      <td>June</td>\n",
       "      <td>1</td>\n",
       "      <td>2015</td>\n",
       "      <td>271 Greece Ridge Center Dr</td>\n",
       "      <td>Rochester</td>\n",
       "      <td>NY</td>\n",
       "      <td>New York State Police, Monroe County Sheriff's...</td>\n",
       "      <td>Gunshot</td>\n",
       "      <td>Firearm</td>\n",
       "      <td>43439</td>\n",
       "    </tr>\n",
       "    <tr>\n",
       "      <th>453</th>\n",
       "      <td>Victor Reyes</td>\n",
       "      <td>31</td>\n",
       "      <td>Male</td>\n",
       "      <td>Hispanic/Latino</td>\n",
       "      <td>January</td>\n",
       "      <td>31</td>\n",
       "      <td>2015</td>\n",
       "      <td>West Little York Rd</td>\n",
       "      <td>Houston</td>\n",
       "      <td>TX</td>\n",
       "      <td>Houston County Sheriff's Department</td>\n",
       "      <td>Gunshot</td>\n",
       "      <td>No</td>\n",
       "      <td>53137</td>\n",
       "    </tr>\n",
       "    <tr>\n",
       "      <th>454</th>\n",
       "      <td>Victor Terrazas</td>\n",
       "      <td>28</td>\n",
       "      <td>Male</td>\n",
       "      <td>Hispanic/Latino</td>\n",
       "      <td>March</td>\n",
       "      <td>25</td>\n",
       "      <td>2015</td>\n",
       "      <td>10200 S Vermont Ave</td>\n",
       "      <td>Los Angeles</td>\n",
       "      <td>CA</td>\n",
       "      <td>Los Angeles County Sheriff's Department</td>\n",
       "      <td>Gunshot</td>\n",
       "      <td>Firearm</td>\n",
       "      <td>55909</td>\n",
       "    </tr>\n",
       "    <tr>\n",
       "      <th>455</th>\n",
       "      <td>Vincent Cordaro</td>\n",
       "      <td>57</td>\n",
       "      <td>Male</td>\n",
       "      <td>White</td>\n",
       "      <td>February</td>\n",
       "      <td>9</td>\n",
       "      <td>2015</td>\n",
       "      <td>N Little Tor Rd</td>\n",
       "      <td>New City</td>\n",
       "      <td>NY</td>\n",
       "      <td>Clarkstown Police Department</td>\n",
       "      <td>Gunshot</td>\n",
       "      <td>Firearm</td>\n",
       "      <td>84951</td>\n",
       "    </tr>\n",
       "    <tr>\n",
       "      <th>456</th>\n",
       "      <td>Walter Brown III</td>\n",
       "      <td>29</td>\n",
       "      <td>Male</td>\n",
       "      <td>Black</td>\n",
       "      <td>March</td>\n",
       "      <td>24</td>\n",
       "      <td>2015</td>\n",
       "      <td>19 Colin Drive S</td>\n",
       "      <td>Portsmouth</td>\n",
       "      <td>VA</td>\n",
       "      <td>Portsmouth Police Department</td>\n",
       "      <td>Gunshot</td>\n",
       "      <td>Other</td>\n",
       "      <td>46166</td>\n",
       "    </tr>\n",
       "    <tr>\n",
       "      <th>457</th>\n",
       "      <td>Walter Scott</td>\n",
       "      <td>50</td>\n",
       "      <td>Male</td>\n",
       "      <td>Black</td>\n",
       "      <td>April</td>\n",
       "      <td>4</td>\n",
       "      <td>2015</td>\n",
       "      <td>1945 Remount Rd</td>\n",
       "      <td>North Charleston</td>\n",
       "      <td>SC</td>\n",
       "      <td>North Charleston Police Department</td>\n",
       "      <td>Gunshot</td>\n",
       "      <td>Knife</td>\n",
       "      <td>50792</td>\n",
       "    </tr>\n",
       "    <tr>\n",
       "      <th>458</th>\n",
       "      <td>Wendell King</td>\n",
       "      <td>40</td>\n",
       "      <td>Male</td>\n",
       "      <td>White</td>\n",
       "      <td>January</td>\n",
       "      <td>29</td>\n",
       "      <td>2015</td>\n",
       "      <td>4800 Hildring Dr E</td>\n",
       "      <td>Forth Worth</td>\n",
       "      <td>TX</td>\n",
       "      <td>Fort Worth Police Department</td>\n",
       "      <td>Gunshot</td>\n",
       "      <td>Unknown</td>\n",
       "      <td>56853</td>\n",
       "    </tr>\n",
       "    <tr>\n",
       "      <th>459</th>\n",
       "      <td>Wilber Castillo-Gongora</td>\n",
       "      <td>35</td>\n",
       "      <td>Male</td>\n",
       "      <td>Hispanic/Latino</td>\n",
       "      <td>February</td>\n",
       "      <td>5</td>\n",
       "      <td>2015</td>\n",
       "      <td>US-287</td>\n",
       "      <td>Electra</td>\n",
       "      <td>TX</td>\n",
       "      <td>Wichita County Sheriff's Office</td>\n",
       "      <td>Taser</td>\n",
       "      <td>Unknown</td>\n",
       "      <td>45086</td>\n",
       "    </tr>\n",
       "    <tr>\n",
       "      <th>460</th>\n",
       "      <td>William 'Rusty' Smith</td>\n",
       "      <td>53</td>\n",
       "      <td>Male</td>\n",
       "      <td>White</td>\n",
       "      <td>March</td>\n",
       "      <td>10</td>\n",
       "      <td>2015</td>\n",
       "      <td>700 Valley St</td>\n",
       "      <td>Hoover</td>\n",
       "      <td>AL</td>\n",
       "      <td>Hoover Police Department</td>\n",
       "      <td>Gunshot</td>\n",
       "      <td>No</td>\n",
       "      <td>45429</td>\n",
       "    </tr>\n",
       "    <tr>\n",
       "      <th>461</th>\n",
       "      <td>William Campbell</td>\n",
       "      <td>59</td>\n",
       "      <td>Male</td>\n",
       "      <td>Unknown</td>\n",
       "      <td>January</td>\n",
       "      <td>25</td>\n",
       "      <td>2015</td>\n",
       "      <td>335 New Brooklyn Rd</td>\n",
       "      <td>Berlin</td>\n",
       "      <td>NJ</td>\n",
       "      <td>Winslow Police Department</td>\n",
       "      <td>Gunshot</td>\n",
       "      <td>Non-lethal firearm</td>\n",
       "      <td>61683</td>\n",
       "    </tr>\n",
       "    <tr>\n",
       "      <th>462</th>\n",
       "      <td>William Chapman II</td>\n",
       "      <td>18</td>\n",
       "      <td>Male</td>\n",
       "      <td>Black</td>\n",
       "      <td>April</td>\n",
       "      <td>22</td>\n",
       "      <td>2015</td>\n",
       "      <td>1098 Frederick Blvd</td>\n",
       "      <td>Portsmouth</td>\n",
       "      <td>VA</td>\n",
       "      <td>Portsmouth Police Department</td>\n",
       "      <td>Gunshot</td>\n",
       "      <td>No</td>\n",
       "      <td>46166</td>\n",
       "    </tr>\n",
       "    <tr>\n",
       "      <th>463</th>\n",
       "      <td>William Dick III</td>\n",
       "      <td>28</td>\n",
       "      <td>Male</td>\n",
       "      <td>Native American</td>\n",
       "      <td>April</td>\n",
       "      <td>4</td>\n",
       "      <td>2015</td>\n",
       "      <td>Bureau of Indian Affairs Rd 66</td>\n",
       "      <td>Tonasket</td>\n",
       "      <td>WA</td>\n",
       "      <td>US Forest Service</td>\n",
       "      <td>Taser</td>\n",
       "      <td>Firearm</td>\n",
       "      <td>40368</td>\n",
       "    </tr>\n",
       "    <tr>\n",
       "      <th>464</th>\n",
       "      <td>William Poole</td>\n",
       "      <td>52</td>\n",
       "      <td>Male</td>\n",
       "      <td>White</td>\n",
       "      <td>March</td>\n",
       "      <td>16</td>\n",
       "      <td>2015</td>\n",
       "      <td>130 Wedowee Ln</td>\n",
       "      <td>Gaston</td>\n",
       "      <td>NC</td>\n",
       "      <td>Gaston County Police Department</td>\n",
       "      <td>Gunshot</td>\n",
       "      <td>Firearm</td>\n",
       "      <td>42017</td>\n",
       "    </tr>\n",
       "    <tr>\n",
       "      <th>465</th>\n",
       "      <td>Yuvette Henderson</td>\n",
       "      <td>38</td>\n",
       "      <td>Female</td>\n",
       "      <td>Black</td>\n",
       "      <td>February</td>\n",
       "      <td>3</td>\n",
       "      <td>2015</td>\n",
       "      <td>3800 Hollis St</td>\n",
       "      <td>Oakland</td>\n",
       "      <td>CA</td>\n",
       "      <td>Emeryville Police Department</td>\n",
       "      <td>Gunshot</td>\n",
       "      <td>Firearm</td>\n",
       "      <td>72112</td>\n",
       "    </tr>\n",
       "    <tr>\n",
       "      <th>466</th>\n",
       "      <td>Zaki Shinwary</td>\n",
       "      <td>48</td>\n",
       "      <td>Male</td>\n",
       "      <td>Unknown</td>\n",
       "      <td>January</td>\n",
       "      <td>16</td>\n",
       "      <td>2015</td>\n",
       "      <td>Lake Arrowhead Ave and Great Salt Lake Dr</td>\n",
       "      <td>Fremont</td>\n",
       "      <td>CA</td>\n",
       "      <td>Fremont Police Department</td>\n",
       "      <td>Gunshot</td>\n",
       "      <td>Firearm</td>\n",
       "      <td>72112</td>\n",
       "    </tr>\n",
       "  </tbody>\n",
       "</table>\n",
       "<p>467 rows × 14 columns</p>\n",
       "</div>"
      ],
      "text/plain": [
       "                        name  age  gender             race     month  day  \\\n",
       "0         A'donte Washington   16    Male            Black  February   23   \n",
       "1             Aaron Rutledge   27    Male            White     April    2   \n",
       "2                Aaron Siler   26    Male            White     March   14   \n",
       "3               Aaron Valdez   25    Male  Hispanic/Latino     March   11   \n",
       "4               Adam Jovicic   29    Male            White     March   19   \n",
       "5              Adam Reinhart   29    Male            White     March    7   \n",
       "6           Adrian Hernandez   22    Male  Hispanic/Latino     March   27   \n",
       "7               Adrian Solis   35    Male  Hispanic/Latino     March   26   \n",
       "8              Alan Alverson   44    Male            White   January   28   \n",
       "9                 Alan James   31    Male            White  February    7   \n",
       "10          Albert Hanson Jr   76    Male            White     April   26   \n",
       "11            Alec Ouzounian   40    Male            White       May   12   \n",
       "12         Alejandro Salazar   40    Male  Hispanic/Latino  February   20   \n",
       "13            Alexander Long   31    Male            White  February   25   \n",
       "14           Alexander Myers   23    Male            White     April    6   \n",
       "15          Alexander Rivera   39    Male  Hispanic/Latino       May   30   \n",
       "16          Alexia Christian   25  Female            Black     April   30   \n",
       "17      Alfredo Rials-Torres   54    Male  Hispanic/Latino       May   19   \n",
       "18               Alice Brown   24  Female            White     March   17   \n",
       "19              Alvin Haynes   57    Male            Black   January   26   \n",
       "20       Amilcar Perez-Lopez   21    Male  Hispanic/Latino  February   26   \n",
       "21           Andre Murphy Sr   42    Male            Black   January    7   \n",
       "22     Andres Lara-Rodriguez   21    Male  Hispanic/Latino  February   13   \n",
       "23             Andrew Driver   36    Male            White     March   13   \n",
       "24            Andrew Jackson   26    Male            White     April   29   \n",
       "25            Andrew Shipley   49    Male            White     March   17   \n",
       "26               Andrew Toto   54    Male            White   January   21   \n",
       "27            Andrew Valadez   26    Male            White     April   23   \n",
       "28           Andrew Williams   48    Male            Black     March    6   \n",
       "29             Andy Martinez   33    Male  Hispanic/Latino   January    9   \n",
       "..                       ...  ...     ...              ...       ...  ...   \n",
       "437            Tiffany Terry   39  Female            White   January   30   \n",
       "438              Tim Elliott   53    Male          Unknown   January    2   \n",
       "439            Timothy Jones   27    Male            White       May   17   \n",
       "440         Todd Allen Hodge   36    Male            White   January   21   \n",
       "441           Todd Jamal Dye   20    Male            Black     April   24   \n",
       "442              Tommy Smith   39    Male            White   January   12   \n",
       "443            Tony Robinson   19    Male            Black     March    6   \n",
       "444                Tony Ross   34    Male            White     March    6   \n",
       "445                Troy Boyd   36    Male            White     March   15   \n",
       "446               Tyrel Vick   34    Male            White     March   20   \n",
       "447            Tyrell Larsen   31    Male            White     April    6   \n",
       "448           Tyrone Ryerson   45    Male            Black     March    5   \n",
       "449            Tyson Hubbard   34    Male            White     March    5   \n",
       "450                  Unknown   34    Male          Unknown   January   16   \n",
       "451                  Unknown   34  Female          Unknown       May   25   \n",
       "452                  Unknown   34    Male            White      June    1   \n",
       "453             Victor Reyes   31    Male  Hispanic/Latino   January   31   \n",
       "454          Victor Terrazas   28    Male  Hispanic/Latino     March   25   \n",
       "455          Vincent Cordaro   57    Male            White  February    9   \n",
       "456         Walter Brown III   29    Male            Black     March   24   \n",
       "457             Walter Scott   50    Male            Black     April    4   \n",
       "458             Wendell King   40    Male            White   January   29   \n",
       "459  Wilber Castillo-Gongora   35    Male  Hispanic/Latino  February    5   \n",
       "460    William 'Rusty' Smith   53    Male            White     March   10   \n",
       "461         William Campbell   59    Male          Unknown   January   25   \n",
       "462       William Chapman II   18    Male            Black     April   22   \n",
       "463         William Dick III   28    Male  Native American     April    4   \n",
       "464            William Poole   52    Male            White     March   16   \n",
       "465        Yuvette Henderson   38  Female            Black  February    3   \n",
       "466            Zaki Shinwary   48    Male          Unknown   January   16   \n",
       "\n",
       "     year                              streetaddress                    city  \\\n",
       "0    2015                               Clearview Ln               Millbrook   \n",
       "1    2015                     300 block Iris Park Dr               Pineville   \n",
       "2    2015                       22nd Ave and 56th St                 Kenosha   \n",
       "3    2015                          3000 Seminole Ave              South Gate   \n",
       "4    2015                             364 Hiwood Ave            Munroe Falls   \n",
       "5    2015                        18th St and Palm Ln                 Phoenix   \n",
       "6    2015                             4000 Union Ave             Bakersfield   \n",
       "7    2015                           1500 Bayview Ave              Wilmington   \n",
       "8    2015                            Pickett Runn Rd                  Sunset   \n",
       "9    2015                            200 Abbie St SE                 Wyoming   \n",
       "10   2015                     7th Ave and Kansas Ave                 Hanford   \n",
       "11   2015                            28 Paseo Viento  Rancho Santa Margarita   \n",
       "12   2015                           1200 E Airtex Dr                 Houston   \n",
       "13   2015                      25th St and Poplar St            Terre Haute    \n",
       "14   2015                        5700 block Ashby Dr            Indianapolis   \n",
       "15   2015                     1128 Murfreesboro Pike               Nashville   \n",
       "16   2015                            141 Pryor St SW                 Atlanta   \n",
       "17   2015                            4219 2nd Road N               Arlington   \n",
       "18   2015                   Van Ness Ave and Pine St           San Francisco   \n",
       "19   2015                              1 Moreland Dr           San Francisco   \n",
       "20   2015                      Folsom St and 24th St           San Francisco   \n",
       "21   2015                             1223 Omaha Ave                 Norfolk   \n",
       "22   2015                      S 12th St and Ruby St             Kansas City   \n",
       "23   2015                          9700 Kempster Ave                 Fontana   \n",
       "24   2015                         1200 W Florida Ave               Chickasha   \n",
       "25   2015                              360 Argyle Ct                 Medford   \n",
       "26   2015               Scobie Pond Rd and Julian Rd                   Derry   \n",
       "27   2015                 Tyler St and Glenoaks Blvd                  Sylmar   \n",
       "28   2015                             Putnam Loop Rd             Putnam Hall   \n",
       "29   2015                             4400 Tetons Dr                 El Paso   \n",
       "..    ...                                        ...                     ...   \n",
       "437  2015                             1702 S 50th St                   Omaha   \n",
       "438  2015                       600 E Island Lake Dr                 Shelton   \n",
       "439  2015                               111 Otero Dr                 Ruidoso   \n",
       "440  2015                             40200 Clark Dr                   Hemet   \n",
       "441  2015                             1505 E Main St                Trinidad   \n",
       "442  2015                              224 Circle Dr                  Arcola   \n",
       "443  2015                         1125 Williamson St                 Madison   \n",
       "444  2015                  Lamar St and Whitworth St         Sulphur Springs   \n",
       "445  2015                           McEwien Swamp Rd                    Ruth   \n",
       "446  2015               Oklahoma Hwy 48 and E1750 Rd               Wapanucka   \n",
       "447  2015                                    E 100 N                   Rigby   \n",
       "448  2015                       468 E Plainfield Ave               Milwaukee   \n",
       "449  2015                   27th St and Fletcher Ave                 Lincoln   \n",
       "450  2015                                 Co Rd 2718                  Mabank   \n",
       "451  2015                           6505 Shirley Ave                  Austin   \n",
       "452  2015                 271 Greece Ridge Center Dr               Rochester   \n",
       "453  2015                        West Little York Rd                 Houston   \n",
       "454  2015                        10200 S Vermont Ave             Los Angeles   \n",
       "455  2015                            N Little Tor Rd                New City   \n",
       "456  2015                           19 Colin Drive S              Portsmouth   \n",
       "457  2015                            1945 Remount Rd        North Charleston   \n",
       "458  2015                         4800 Hildring Dr E             Forth Worth   \n",
       "459  2015                                     US-287                 Electra   \n",
       "460  2015                              700 Valley St                  Hoover   \n",
       "461  2015                        335 New Brooklyn Rd                  Berlin   \n",
       "462  2015                        1098 Frederick Blvd              Portsmouth   \n",
       "463  2015             Bureau of Indian Affairs Rd 66                Tonasket   \n",
       "464  2015                             130 Wedowee Ln                  Gaston   \n",
       "465  2015                             3800 Hollis St                 Oakland   \n",
       "466  2015  Lake Arrowhead Ave and Great Salt Lake Dr                 Fremont   \n",
       "\n",
       "    state                                             agency  \\\n",
       "0      AL                        Millbrook Police Department   \n",
       "1      LA                    Rapides Parish Sheriff's Office   \n",
       "2      WI                          Kenosha Police Department   \n",
       "3      CA                       South Gate Police Department   \n",
       "4      OH                             Kent Police Department   \n",
       "5      AZ                          Phoenix Police Department   \n",
       "6      CA                      Bakersfield Police Department   \n",
       "7      CA                      Los Angeles Police Department   \n",
       "8      TX    Wise County Sheriff's Department and Texas DPS    \n",
       "9      MI         Kentwood Police Department and Wyoming DPS   \n",
       "10     CA                      Kings County Sheriff's Office   \n",
       "11     CA                 Orange County Sheriff's Department   \n",
       "12     TX                                US Marshals Service   \n",
       "13     IN                     Terre Haute Police Department    \n",
       "14     IN        Indianapolis Metropolitan Police Department   \n",
       "15     TN                  Metro Nashville Police Department   \n",
       "16     GA                          Atlanta Police Department   \n",
       "17     VA                        Arlington Police Department   \n",
       "18     CA                    San Francisco Police Department   \n",
       "19     CA                 San Francisco Sheriff's Department   \n",
       "20     CA                    San Francisco Police Department   \n",
       "21     NE                            Norfolk Police Division   \n",
       "22     KS  Kansas City KS Police Department and Kansas Hi...   \n",
       "23     CA                          Fontana Police Department   \n",
       "24     OK  Grady County Sheriff's Department and Chickash...   \n",
       "25     OR                          Medford Police Department   \n",
       "26     NH                            Derry Police Department   \n",
       "27     CA                      Los Angeles Police Department   \n",
       "28     FL                     Putnam County Sheriff's Office   \n",
       "29     TX                          El Paso Police Department   \n",
       "..    ...                                                ...   \n",
       "437    NE                            Omaha Police Department   \n",
       "438    WA                      Mason County Sheriff's Office   \n",
       "439    NM                          Ruidoso Police Department   \n",
       "440    CA              Riverside County Sheriff's Department   \n",
       "441    CO                         Trinidad Police Department   \n",
       "442    IL                          Tuscola Police Department   \n",
       "443    WI                          Madison Police Department   \n",
       "444    TX                  Sulphur Springs Police Department   \n",
       "445    MS                       Pike County Sheriff's Office   \n",
       "446    OK  Oklahoma Highway Patrol and Tupelo Police Depa...   \n",
       "447    ID                Jefferson County Sheriff Department   \n",
       "448    WI                        Milwaukee Police Department   \n",
       "449    NE                                US Marshals Service   \n",
       "450    TX                                 Texas Rangers/ ATF   \n",
       "451    TX                           Austin Police Department   \n",
       "452    NY  New York State Police, Monroe County Sheriff's...   \n",
       "453    TX                Houston County Sheriff's Department   \n",
       "454    CA            Los Angeles County Sheriff's Department   \n",
       "455    NY                       Clarkstown Police Department   \n",
       "456    VA                       Portsmouth Police Department   \n",
       "457    SC                 North Charleston Police Department   \n",
       "458    TX                       Fort Worth Police Department   \n",
       "459    TX                    Wichita County Sheriff's Office   \n",
       "460    AL                           Hoover Police Department   \n",
       "461    NJ                          Winslow Police Department   \n",
       "462    VA                       Portsmouth Police Department   \n",
       "463    WA                                 US Forest Service    \n",
       "464    NC                    Gaston County Police Department   \n",
       "465    CA                       Emeryville Police Department   \n",
       "466    CA                          Fremont Police Department   \n",
       "\n",
       "                cause               armed  county_income  \n",
       "0             Gunshot                  No          54766  \n",
       "1             Gunshot                  No          40930  \n",
       "2             Gunshot                  No          54930  \n",
       "3             Gunshot             Firearm          55909  \n",
       "4             Gunshot                  No          49669  \n",
       "5             Gunshot                  No          53596  \n",
       "6             Gunshot             Firearm          48552  \n",
       "7             Gunshot  Non-lethal firearm          55909  \n",
       "8             Gunshot             Firearm          38310  \n",
       "9             Gunshot               Other          51667  \n",
       "10            Gunshot               Knife          48133  \n",
       "11            Gunshot                  No          75422  \n",
       "12            Gunshot                  No          53137  \n",
       "13            Gunshot             Firearm          40692  \n",
       "14            Gunshot  Non-lethal firearm          42334  \n",
       "15            Gunshot             Firearm          47335  \n",
       "16            Gunshot             Vehicle          56857  \n",
       "17            Gunshot             Firearm         103208  \n",
       "18            Gunshot             Firearm          75604  \n",
       "19   Death in custody                  No          88202  \n",
       "20            Gunshot             Vehicle          75604  \n",
       "21   Death in custody                  No          46566  \n",
       "22            Gunshot               Other          39402  \n",
       "23            Gunshot             Firearm          54090  \n",
       "24            Gunshot             Firearm          49637  \n",
       "25            Gunshot             Firearm          44005  \n",
       "26            Gunshot             Firearm          77348  \n",
       "27            Gunshot             Firearm          55909  \n",
       "28            Gunshot             Firearm          32497  \n",
       "29            Gunshot             Firearm          40157  \n",
       "..                ...                 ...            ...  \n",
       "437           Gunshot             Firearm          53325  \n",
       "438           Gunshot  Non-lethal firearm          48755  \n",
       "439           Gunshot             Firearm          43014  \n",
       "440           Gunshot             Firearm          56529  \n",
       "441           Gunshot             Firearm          42261  \n",
       "442           Gunshot             Firearm          52741  \n",
       "443           Gunshot             Firearm          61721  \n",
       "444             Taser               Knife          43657  \n",
       "445           Gunshot             Firearm          34841  \n",
       "446           Gunshot             Firearm          34867  \n",
       "447           Gunshot                  No          52023  \n",
       "448           Gunshot  Non-lethal firearm          43193  \n",
       "449           Gunshot             Unknown          51574  \n",
       "450           Gunshot               Other          43439  \n",
       "451           Gunshot               Knife          43439  \n",
       "452           Gunshot             Firearm          43439  \n",
       "453           Gunshot                  No          53137  \n",
       "454           Gunshot             Firearm          55909  \n",
       "455           Gunshot             Firearm          84951  \n",
       "456           Gunshot               Other          46166  \n",
       "457           Gunshot               Knife          50792  \n",
       "458           Gunshot             Unknown          56853  \n",
       "459             Taser             Unknown          45086  \n",
       "460           Gunshot                  No          45429  \n",
       "461           Gunshot  Non-lethal firearm          61683  \n",
       "462           Gunshot                  No          46166  \n",
       "463             Taser             Firearm          40368  \n",
       "464           Gunshot             Firearm          42017  \n",
       "465           Gunshot             Firearm          72112  \n",
       "466           Gunshot             Firearm          72112  \n",
       "\n",
       "[467 rows x 14 columns]"
      ]
     },
     "execution_count": 10,
     "metadata": {},
     "output_type": "execute_result"
    }
   ],
   "source": [
    "killings.rename(index=str, columns = {\"lawenforcementagency\": \"agency\", \"raceethnicity\": \"race\"}, inplace=True)\n",
    "killings"
   ]
  },
  {
   "cell_type": "markdown",
   "metadata": {
    "collapsed": true
   },
   "source": [
    "### 2. Show the count of missing values in each column"
   ]
  },
  {
   "cell_type": "code",
   "execution_count": 51,
   "metadata": {},
   "outputs": [
    {
     "data": {
      "text/plain": [
       "name             0\n",
       "age              0\n",
       "gender           0\n",
       "race             0\n",
       "month            0\n",
       "day              0\n",
       "year             0\n",
       "streetaddress    0\n",
       "city             0\n",
       "state            0\n",
       "agency           0\n",
       "cause            0\n",
       "armed            0\n",
       "county_income    0\n",
       "dtype: int64"
      ]
     },
     "execution_count": 51,
     "metadata": {},
     "output_type": "execute_result"
    }
   ],
   "source": [
    "killings.isnull().sum()"
   ]
  },
  {
   "cell_type": "markdown",
   "metadata": {
    "collapsed": true
   },
   "source": [
    "### 3. Replace each null/missing value in the dataframe with the string \"unknown\""
   ]
  },
  {
   "cell_type": "code",
   "execution_count": 6,
   "metadata": {},
   "outputs": [
    {
     "data": {
      "text/plain": [
       "name                    0\n",
       "age                     0\n",
       "gender                  0\n",
       "raceethnicity           0\n",
       "month                   0\n",
       "day                     0\n",
       "year                    0\n",
       "streetaddress           0\n",
       "city                    0\n",
       "state                   0\n",
       "lawenforcementagency    0\n",
       "cause                   0\n",
       "armed                   0\n",
       "county_income           0\n",
       "dtype: int64"
      ]
     },
     "execution_count": 6,
     "metadata": {},
     "output_type": "execute_result"
    }
   ],
   "source": [
    "killings.fillna('unknown',inplace=True)\n",
    "killings.isnull().sum()"
   ]
  },
  {
   "cell_type": "markdown",
   "metadata": {
    "collapsed": true
   },
   "source": [
    "### 4. How many killings were there in March and April?"
   ]
  },
  {
   "cell_type": "code",
   "execution_count": 14,
   "metadata": {},
   "outputs": [
    {
     "data": {
      "text/plain": [
       "March    114\n",
       "April     96\n",
       "Name: month, dtype: int64"
      ]
     },
     "execution_count": 14,
     "metadata": {},
     "output_type": "execute_result"
    }
   ],
   "source": [
    "a = killings[(killings.month =='March')+(killings.month =='April')]\n",
    "a['month'].value_counts()"
   ]
  },
  {
   "cell_type": "markdown",
   "metadata": {
    "collapsed": true
   },
   "source": [
    "### 5. How many male and how many female victims are there?"
   ]
  },
  {
   "cell_type": "code",
   "execution_count": 16,
   "metadata": {},
   "outputs": [
    {
     "data": {
      "text/plain": [
       "Male      445\n",
       "Female     22\n",
       "Name: gender, dtype: int64"
      ]
     },
     "execution_count": 16,
     "metadata": {},
     "output_type": "execute_result"
    }
   ],
   "source": [
    "b = killings[(killings.gender =='Male')+(killings.gender =='Female')]\n",
    "b['gender'].value_counts()\n"
   ]
  },
  {
   "cell_type": "markdown",
   "metadata": {
    "collapsed": true
   },
   "source": [
    "### 6. How many killings were of unarmed people?"
   ]
  },
  {
   "cell_type": "code",
   "execution_count": 18,
   "metadata": {},
   "outputs": [
    {
     "data": {
      "text/plain": [
       "No    102\n",
       "Name: armed, dtype: int64"
      ]
     },
     "execution_count": 18,
     "metadata": {},
     "output_type": "execute_result"
    }
   ],
   "source": [
    "c = killings[(killings.armed =='No')]\n",
    "c['armed'].value_counts()"
   ]
  },
  {
   "cell_type": "markdown",
   "metadata": {
    "collapsed": true
   },
   "source": [
    "### 7. What percentage of all killings were unarmed?"
   ]
  },
  {
   "cell_type": "code",
   "execution_count": 41,
   "metadata": {},
   "outputs": [
    {
     "data": {
      "text/plain": [
       "0.21841541755888652"
      ]
     },
     "execution_count": 41,
     "metadata": {},
     "output_type": "execute_result"
    }
   ],
   "source": [
    "unarmK = killings.armed\n",
    "\n",
    "perK = unarmK.value_counts(normalize=True)\n",
    "perK[1]\n",
    "\n"
   ]
  },
  {
   "cell_type": "markdown",
   "metadata": {
    "collapsed": true
   },
   "source": [
    "### 8. What are the 5 states with the most killings?"
   ]
  },
  {
   "cell_type": "code",
   "execution_count": 44,
   "metadata": {},
   "outputs": [
    {
     "data": {
      "text/html": [
       "<div>\n",
       "<style>\n",
       "    .dataframe thead tr:only-child th {\n",
       "        text-align: right;\n",
       "    }\n",
       "\n",
       "    .dataframe thead th {\n",
       "        text-align: left;\n",
       "    }\n",
       "\n",
       "    .dataframe tbody tr th {\n",
       "        vertical-align: top;\n",
       "    }\n",
       "</style>\n",
       "<table border=\"1\" class=\"dataframe\">\n",
       "  <thead>\n",
       "    <tr style=\"text-align: right;\">\n",
       "      <th></th>\n",
       "      <th>name</th>\n",
       "    </tr>\n",
       "    <tr>\n",
       "      <th>state</th>\n",
       "      <th></th>\n",
       "    </tr>\n",
       "  </thead>\n",
       "  <tbody>\n",
       "    <tr>\n",
       "      <th>CA</th>\n",
       "      <td>74</td>\n",
       "    </tr>\n",
       "    <tr>\n",
       "      <th>TX</th>\n",
       "      <td>46</td>\n",
       "    </tr>\n",
       "    <tr>\n",
       "      <th>FL</th>\n",
       "      <td>29</td>\n",
       "    </tr>\n",
       "    <tr>\n",
       "      <th>AZ</th>\n",
       "      <td>25</td>\n",
       "    </tr>\n",
       "    <tr>\n",
       "      <th>OK</th>\n",
       "      <td>22</td>\n",
       "    </tr>\n",
       "  </tbody>\n",
       "</table>\n",
       "</div>"
      ],
      "text/plain": [
       "       name\n",
       "state      \n",
       "CA       74\n",
       "TX       46\n",
       "FL       29\n",
       "AZ       25\n",
       "OK       22"
      ]
     },
     "execution_count": 44,
     "metadata": {},
     "output_type": "execute_result"
    }
   ],
   "source": [
    "kS = killings.groupby('state').count()\n",
    "kS.sort_values('name', ascending=False).head(5)[['name']]"
   ]
  },
  {
   "cell_type": "markdown",
   "metadata": {
    "collapsed": true
   },
   "source": [
    "### 9. Show a value counts of deaths for each race"
   ]
  },
  {
   "cell_type": "code",
   "execution_count": 56,
   "metadata": {},
   "outputs": [
    {
     "data": {
      "text/plain": [
       "White                     236\n",
       "Black                     135\n",
       "Hispanic/Latino            67\n",
       "Unknown                    15\n",
       "Asian/Pacific Islander     10\n",
       "Native American             4\n",
       "Name: race, dtype: int64"
      ]
     },
     "execution_count": 56,
     "metadata": {},
     "output_type": "execute_result"
    }
   ],
   "source": [
    "killings.race.value_counts()"
   ]
  },
  {
   "cell_type": "markdown",
   "metadata": {
    "collapsed": true
   },
   "source": [
    "### 10. Display a histogram of ages of all killings"
   ]
  },
  {
   "cell_type": "code",
   "execution_count": 21,
   "metadata": {},
   "outputs": [
    {
     "data": {
      "text/plain": [
       "<matplotlib.text.Text at 0xfec5ac8>"
      ]
     },
     "execution_count": 21,
     "metadata": {},
     "output_type": "execute_result"
    },
    {
     "data": {
      "image/png": "[encoded data removed]",
      "text/plain": [
       "<matplotlib.figure.Figure at 0xfaf4d30>"
      ]
     },
     "metadata": {},
     "output_type": "display_data"
    }
   ],
   "source": [
    "killings.age.plot(kind='hist',\n",
    "                  figsize=(6,4),\n",
    "                  color='green',\n",
    "                  ec='black',\n",
    "                  linewidth=2.0)\n",
    "\n",
    "plt.xlabel('Age')\n",
    "plt.ylabel('Police Shootings')"
   ]
  },
  {
   "cell_type": "markdown",
   "metadata": {
    "collapsed": true
   },
   "source": [
    "### 11. Show histogram of ages for each race"
   ]
  },
  {
   "cell_type": "code",
   "execution_count": 24,
   "metadata": {},
   "outputs": [
    {
     "data": {
      "text/plain": [
       "<matplotlib.text.Text at 0x11ee8550>"
      ]
     },
     "execution_count": 24,
     "metadata": {},
     "output_type": "execute_result"
    },
    {
     "data": {
      "image/png": "[encoded data removed]",
      "text/plain": [
       "<matplotlib.figure.Figure at 0x11814630>"
      ]
     },
     "metadata": {},
     "output_type": "display_data"
    }
   ],
   "source": [
    "killings.age.hist(by=killings.race,\n",
    "     figsize=(10,8),\n",
    "     bins=10,\n",
    "     layout=(2,3))\n",
    "                        \n",
    "plt.xlabel('Age')\n",
    "plt.ylabel('Police Killings')"
   ]
  },
  {
   "cell_type": "markdown",
   "metadata": {
    "collapsed": true
   },
   "source": [
    "### 12. What is the average age of death by race?"
   ]
  },
  {
   "cell_type": "code",
   "execution_count": 110,
   "metadata": {},
   "outputs": [
    {
     "data": {
      "text/plain": [
       "race\n",
       "Asian/Pacific Islander    40.800000\n",
       "Black                     34.044444\n",
       "Hispanic/Latino           31.716418\n",
       "Native American           27.750000\n",
       "Unknown                   43.533333\n",
       "White                     40.466102\n",
       "Name: age, dtype: float64"
      ]
     },
     "execution_count": 110,
     "metadata": {},
     "output_type": "execute_result"
    }
   ],
   "source": [
    "killings.age.groupby(killings['race']).mean()"
   ]
  },
  {
   "cell_type": "markdown",
   "metadata": {
    "collapsed": true
   },
   "source": [
    "### 13. Show a bar chart with counts of deaths every month"
   ]
  },
  {
   "cell_type": "code",
   "execution_count": 30,
   "metadata": {},
   "outputs": [
    {
     "data": {
      "text/plain": [
       "<matplotlib.axes._subplots.AxesSubplot at 0x1228c390>"
      ]
     },
     "execution_count": 30,
     "metadata": {},
     "output_type": "execute_result"
    },
    {
     "data": {
      "image/png": "[encoded data removed]",
      "text/plain": [
       "<matplotlib.figure.Figure at 0x12289dd8>"
      ]
     },
     "metadata": {},
     "output_type": "display_data"
    }
   ],
   "source": [
    "months = {'January': 1, 'February': 2, 'March': 3, 'April': 4, 'May': 5, 'June': 6}\n",
    "killings['month_number'] = killings['month'].map(months)\n",
    "\n",
    "killings.groupby(['month', 'month_number'])['name'].count().sort_index(level=1).reset_index(level=1, drop=True).plot(kind='bar')\n"
   ]
  },
  {
   "cell_type": "markdown",
   "metadata": {},
   "source": [
    "## Section 2: College Majors"
   ]
  },
  {
   "cell_type": "code",
   "execution_count": 5,
   "metadata": {},
   "outputs": [
    {
     "data": {
      "text/html": [
       "<div>\n",
       "<style>\n",
       "    .dataframe thead tr:only-child th {\n",
       "        text-align: right;\n",
       "    }\n",
       "\n",
       "    .dataframe thead th {\n",
       "        text-align: left;\n",
       "    }\n",
       "\n",
       "    .dataframe tbody tr th {\n",
       "        vertical-align: top;\n",
       "    }\n",
       "</style>\n",
       "<table border=\"1\" class=\"dataframe\">\n",
       "  <thead>\n",
       "    <tr style=\"text-align: right;\">\n",
       "      <th></th>\n",
       "      <th>Major_code</th>\n",
       "      <th>Major</th>\n",
       "      <th>Major_category</th>\n",
       "      <th>Total</th>\n",
       "      <th>Employed</th>\n",
       "      <th>Employed_full_time_year_round</th>\n",
       "      <th>Unemployed</th>\n",
       "      <th>Unemployment_rate</th>\n",
       "      <th>Median</th>\n",
       "      <th>P25th</th>\n",
       "      <th>P75th</th>\n",
       "    </tr>\n",
       "  </thead>\n",
       "  <tbody>\n",
       "    <tr>\n",
       "      <th>0</th>\n",
       "      <td>1100</td>\n",
       "      <td>GENERAL AGRICULTURE</td>\n",
       "      <td>Agriculture &amp; Natural Resources</td>\n",
       "      <td>128148</td>\n",
       "      <td>90245</td>\n",
       "      <td>74078</td>\n",
       "      <td>2423</td>\n",
       "      <td>0.026147</td>\n",
       "      <td>50000</td>\n",
       "      <td>34000</td>\n",
       "      <td>80000.0</td>\n",
       "    </tr>\n",
       "    <tr>\n",
       "      <th>1</th>\n",
       "      <td>1101</td>\n",
       "      <td>AGRICULTURE PRODUCTION AND MANAGEMENT</td>\n",
       "      <td>Agriculture &amp; Natural Resources</td>\n",
       "      <td>95326</td>\n",
       "      <td>76865</td>\n",
       "      <td>64240</td>\n",
       "      <td>2266</td>\n",
       "      <td>0.028636</td>\n",
       "      <td>54000</td>\n",
       "      <td>36000</td>\n",
       "      <td>80000.0</td>\n",
       "    </tr>\n",
       "    <tr>\n",
       "      <th>2</th>\n",
       "      <td>1102</td>\n",
       "      <td>AGRICULTURAL ECONOMICS</td>\n",
       "      <td>Agriculture &amp; Natural Resources</td>\n",
       "      <td>33955</td>\n",
       "      <td>26321</td>\n",
       "      <td>22810</td>\n",
       "      <td>821</td>\n",
       "      <td>0.030248</td>\n",
       "      <td>63000</td>\n",
       "      <td>40000</td>\n",
       "      <td>98000.0</td>\n",
       "    </tr>\n",
       "    <tr>\n",
       "      <th>3</th>\n",
       "      <td>1103</td>\n",
       "      <td>ANIMAL SCIENCES</td>\n",
       "      <td>Agriculture &amp; Natural Resources</td>\n",
       "      <td>103549</td>\n",
       "      <td>81177</td>\n",
       "      <td>64937</td>\n",
       "      <td>3619</td>\n",
       "      <td>0.042679</td>\n",
       "      <td>46000</td>\n",
       "      <td>30000</td>\n",
       "      <td>72000.0</td>\n",
       "    </tr>\n",
       "    <tr>\n",
       "      <th>4</th>\n",
       "      <td>1104</td>\n",
       "      <td>FOOD SCIENCE</td>\n",
       "      <td>Agriculture &amp; Natural Resources</td>\n",
       "      <td>24280</td>\n",
       "      <td>17281</td>\n",
       "      <td>12722</td>\n",
       "      <td>894</td>\n",
       "      <td>0.049188</td>\n",
       "      <td>62000</td>\n",
       "      <td>38500</td>\n",
       "      <td>90000.0</td>\n",
       "    </tr>\n",
       "  </tbody>\n",
       "</table>\n",
       "</div>"
      ],
      "text/plain": [
       "   Major_code                                  Major  \\\n",
       "0        1100                    GENERAL AGRICULTURE   \n",
       "1        1101  AGRICULTURE PRODUCTION AND MANAGEMENT   \n",
       "2        1102                 AGRICULTURAL ECONOMICS   \n",
       "3        1103                        ANIMAL SCIENCES   \n",
       "4        1104                           FOOD SCIENCE   \n",
       "\n",
       "                    Major_category   Total  Employed  \\\n",
       "0  Agriculture & Natural Resources  128148     90245   \n",
       "1  Agriculture & Natural Resources   95326     76865   \n",
       "2  Agriculture & Natural Resources   33955     26321   \n",
       "3  Agriculture & Natural Resources  103549     81177   \n",
       "4  Agriculture & Natural Resources   24280     17281   \n",
       "\n",
       "   Employed_full_time_year_round  Unemployed  Unemployment_rate  Median  \\\n",
       "0                          74078        2423           0.026147   50000   \n",
       "1                          64240        2266           0.028636   54000   \n",
       "2                          22810         821           0.030248   63000   \n",
       "3                          64937        3619           0.042679   46000   \n",
       "4                          12722         894           0.049188   62000   \n",
       "\n",
       "   P25th    P75th  \n",
       "0  34000  80000.0  \n",
       "1  36000  80000.0  \n",
       "2  40000  98000.0  \n",
       "3  30000  72000.0  \n",
       "4  38500  90000.0  "
      ]
     },
     "execution_count": 5,
     "metadata": {},
     "output_type": "execute_result"
    }
   ],
   "source": [
    "majors = pd.read_csv(r'C:\\Users\\user\\ga-ds-shauno\\data\\college-majors.csv', index_col=[0])\n",
    "majors.head()"
   ]
  },
  {
   "cell_type": "markdown",
   "metadata": {},
   "source": [
    "### 1. Delete the columns (employed_full_time_year_round, major_code)\n"
   ]
  },
  {
   "cell_type": "code",
   "execution_count": 55,
   "metadata": {
    "collapsed": true
   },
   "outputs": [],
   "source": [
    "majors.drop(['Employed_full_time_year_round', 'Major_code'], axis=1, inplace =True)\n"
   ]
  },
  {
   "cell_type": "markdown",
   "metadata": {
    "collapsed": true
   },
   "source": [
    "### 2. Show the count of missing values in each column"
   ]
  },
  {
   "cell_type": "code",
   "execution_count": 47,
   "metadata": {},
   "outputs": [
    {
     "data": {
      "text/plain": [
       "Major                0\n",
       "Major_category       0\n",
       "Total                0\n",
       "Employed             0\n",
       "Unemployed           0\n",
       "Unemployment_rate    0\n",
       "Median               0\n",
       "P25th                0\n",
       "P75th                0\n",
       "dtype: int64"
      ]
     },
     "execution_count": 47,
     "metadata": {},
     "output_type": "execute_result"
    }
   ],
   "source": [
    "majors.isnull().sum()"
   ]
  },
  {
   "cell_type": "markdown",
   "metadata": {},
   "source": [
    "### 3. What are the top 10 highest paying majors?"
   ]
  },
  {
   "cell_type": "code",
   "execution_count": 48,
   "metadata": {},
   "outputs": [
    {
     "data": {
      "text/plain": [
       "59                                 PETROLEUM ENGINEERING\n",
       "154    PHARMACY PHARMACEUTICAL SCIENCES AND ADMINISTR...\n",
       "57             NAVAL ARCHITECTURE AND MARINE ENGINEERING\n",
       "55                             METALLURGICAL ENGINEERING\n",
       "58                                   NUCLEAR ENGINEERING\n",
       "56                        MINING AND MINERAL ENGINEERING\n",
       "97                      MATHEMATICS AND COMPUTER SCIENCE\n",
       "48                                ELECTRICAL ENGINEERING\n",
       "45                                  CHEMICAL ENGINEERING\n",
       "51                GEOLOGICAL AND GEOPHYSICAL ENGINEERING\n",
       "Name: Major, dtype: object"
      ]
     },
     "execution_count": 48,
     "metadata": {},
     "output_type": "execute_result"
    }
   ],
   "source": [
    "majors.sort_values(by='Median', ascending=False)['Major'].head(10)"
   ]
  },
  {
   "cell_type": "markdown",
   "metadata": {},
   "source": [
    "### 4. Plot the data from the last question in a bar chart, include proper title, and labels\n"
   ]
  },
  {
   "cell_type": "code",
   "execution_count": 58,
   "metadata": {},
   "outputs": [
    {
     "data": {
      "text/plain": [
       "<matplotlib.axes._subplots.AxesSubplot at 0x124da940>"
      ]
     },
     "execution_count": 58,
     "metadata": {},
     "output_type": "execute_result"
    },
    {
     "data": {
      "image/png": "[encoded data removed]",
      "text/plain": [
       "<matplotlib.figure.Figure at 0x12619128>"
      ]
     },
     "metadata": {},
     "output_type": "display_data"
    }
   ],
   "source": [
    "majors.sort_values(by='Median', ascending=False).head(10).plot(\n",
    "    x='Major',\n",
    "    y='Median',\n",
    "    kind='barh',\n",
    "    title='Top 10 Majors by Median Salary')\n",
    "\n"
   ]
  },
  {
   "cell_type": "markdown",
   "metadata": {
    "collapsed": true
   },
   "source": [
    "### 5. What is the average median salary for each major category?"
   ]
  },
  {
   "cell_type": "code",
   "execution_count": 64,
   "metadata": {},
   "outputs": [
    {
     "data": {
      "text/plain": [
       "Major_category\n",
       "Agriculture & Natural Resources        55000.000000\n",
       "Arts                                   43525.000000\n",
       "Biology & Life Science                 50821.428571\n",
       "Business                               60615.384615\n",
       "Communications & Journalism            49500.000000\n",
       "Computers & Mathematics                66272.727273\n",
       "Education                              43831.250000\n",
       "Engineering                            77758.620690\n",
       "Health                                 56458.333333\n",
       "Humanities & Liberal Arts              46080.000000\n",
       "Industrial Arts & Consumer Services    52642.857143\n",
       "Interdisciplinary                      43000.000000\n",
       "Law & Public Policy                    52800.000000\n",
       "Physical Sciences                      62400.000000\n",
       "Psychology & Social Work               44555.555556\n",
       "Social Science                         53222.222222\n",
       "Name: Median, dtype: float64"
      ]
     },
     "execution_count": 64,
     "metadata": {},
     "output_type": "execute_result"
    }
   ],
   "source": [
    "majors.groupby('Major_category').Median.mean()"
   ]
  },
  {
   "cell_type": "markdown",
   "metadata": {
    "collapsed": true
   },
   "source": [
    "### 6. Visualize only the top 5 paying major categories"
   ]
  },
  {
   "cell_type": "code",
   "execution_count": 67,
   "metadata": {},
   "outputs": [
    {
     "data": {
      "text/plain": [
       "<matplotlib.axes._subplots.AxesSubplot at 0x12947048>"
      ]
     },
     "execution_count": 67,
     "metadata": {},
     "output_type": "execute_result"
    },
    {
     "data": {
      "image/png": "[encoded data removed]",
      "text/plain": [
       "<matplotlib.figure.Figure at 0x124becf8>"
      ]
     },
     "metadata": {},
     "output_type": "display_data"
    }
   ],
   "source": [
    "majors.sort_values('Median', ascending=False).head(5).plot(\n",
    "    x = 'Major',\n",
    "    y = 'Median',\n",
    "    kind = 'barh',\n",
    "    title = 'Majors by Salary')"
   ]
  },
  {
   "cell_type": "markdown",
   "metadata": {
    "collapsed": true
   },
   "source": [
    "### 7. Plot a histogram of the distribution of median salaries"
   ]
  },
  {
   "cell_type": "code",
   "execution_count": 8,
   "metadata": {},
   "outputs": [
    {
     "data": {
      "text/plain": [
       "<matplotlib.axes._subplots.AxesSubplot at 0xbe8a2e8>"
      ]
     },
     "execution_count": 8,
     "metadata": {},
     "output_type": "execute_result"
    },
    {
     "data": {
      "image/png": "[encoded data removed]",
      "text/plain": [
       "<matplotlib.figure.Figure at 0xcc38f98>"
      ]
     },
     "metadata": {},
     "output_type": "display_data"
    }
   ],
   "source": [
    "majors.Median.plot(kind='hist', by=('Major'), ec='brown', bins =12)"
   ]
  },
  {
   "cell_type": "markdown",
   "metadata": {
    "collapsed": true
   },
   "source": [
    "### 8. Plot a histogram of the distribution of median salaries by major category"
   ]
  },
  {
   "cell_type": "code",
   "execution_count": 74,
   "metadata": {},
   "outputs": [
    {
     "data": {
      "text/plain": [
       "<matplotlib.axes._subplots.AxesSubplot at 0x12c48eb8>"
      ]
     },
     "execution_count": 74,
     "metadata": {},
     "output_type": "execute_result"
    },
    {
     "data": {
      "image/png": "[encoded data removed]",
      "text/plain": [
       "<matplotlib.figure.Figure at 0x12e686d8>"
      ]
     },
     "metadata": {},
     "output_type": "display_data"
    }
   ],
   "source": [
    "majors.Median.plot(by=('Major_category'), kind='hist', ec='black', bins=15)"
   ]
  },
  {
   "cell_type": "markdown",
   "metadata": {},
   "source": [
    "### 9. What are the top 10 most UNemployed majors?"
   ]
  },
  {
   "cell_type": "code",
   "execution_count": 9,
   "metadata": {},
   "outputs": [
    {
     "data": {
      "text/plain": [
       "Major\n",
       "BUSINESS MANAGEMENT AND ADMINISTRATION    147261\n",
       "GENERAL BUSINESS                           85626\n",
       "PSYCHOLOGY                                 79066\n",
       "ACCOUNTING                                 75379\n",
       "COMMUNICATIONS                             54390\n",
       "ENGLISH LANGUAGE AND LITERATURE            52248\n",
       "MARKETING AND MARKETING RESEARCH           51839\n",
       "POLITICAL SCIENCE AND GOVERNMENT           40376\n",
       "GENERAL EDUCATION                          38742\n",
       "BIOLOGY                                    36757\n",
       "Name: Unemployed, dtype: int64"
      ]
     },
     "execution_count": 9,
     "metadata": {},
     "output_type": "execute_result"
    }
   ],
   "source": [
    "majors.groupby('Major')['Unemployed'].mean().sort_values(ascending=False).head(10)"
   ]
  },
  {
   "cell_type": "markdown",
   "metadata": {
    "collapsed": true
   },
   "source": [
    "### 10. What are the top 10 most UNemployed majors CATEGORIES? Use the mean for each category"
   ]
  },
  {
   "cell_type": "code",
   "execution_count": 13,
   "metadata": {},
   "outputs": [
    {
     "data": {
      "text/plain": [
       "Major_category\n",
       "Communications & Journalism            18092.5\n",
       "Arts                                   10617.5\n",
       "Business                                8862.0\n",
       "Social Science                          6132.0\n",
       "Humanities & Liberal Arts               5525.0\n",
       "Education                               5251.0\n",
       "Industrial Arts & Consumer Services     4257.0\n",
       "Health                                  3723.0\n",
       "Interdisciplinary                       2990.0\n",
       "Law & Public Policy                     2836.0\n",
       "Name: Unemployed, dtype: float64"
      ]
     },
     "execution_count": 13,
     "metadata": {},
     "output_type": "execute_result"
    }
   ],
   "source": [
    "majors.groupby('Major_category')['Unemployed'].median().sort_values(ascending=False).head(10)"
   ]
  },
  {
   "cell_type": "markdown",
   "metadata": {},
   "source": [
    "## Section 3: FIFA Soccer Game data"
   ]
  },
  {
   "cell_type": "code",
   "execution_count": 16,
   "metadata": {},
   "outputs": [
    {
     "data": {
      "text/html": [
       "<div>\n",
       "<style>\n",
       "    .dataframe thead tr:only-child th {\n",
       "        text-align: right;\n",
       "    }\n",
       "\n",
       "    .dataframe thead th {\n",
       "        text-align: left;\n",
       "    }\n",
       "\n",
       "    .dataframe tbody tr th {\n",
       "        vertical-align: top;\n",
       "    }\n",
       "</style>\n",
       "<table border=\"1\" class=\"dataframe\">\n",
       "  <thead>\n",
       "    <tr style=\"text-align: right;\">\n",
       "      <th></th>\n",
       "      <th>Name</th>\n",
       "      <th>Nationality</th>\n",
       "      <th>National_Position</th>\n",
       "      <th>National_Kit</th>\n",
       "      <th>Club</th>\n",
       "      <th>Club_Position</th>\n",
       "      <th>Club_Kit</th>\n",
       "      <th>Club_Joining</th>\n",
       "      <th>Contract_Expiry</th>\n",
       "      <th>Rating</th>\n",
       "      <th>...</th>\n",
       "      <th>Long_Shots</th>\n",
       "      <th>Curve</th>\n",
       "      <th>Freekick_Accuracy</th>\n",
       "      <th>Penalties</th>\n",
       "      <th>Volleys</th>\n",
       "      <th>GK_Positioning</th>\n",
       "      <th>GK_Diving</th>\n",
       "      <th>GK_Kicking</th>\n",
       "      <th>GK_Handling</th>\n",
       "      <th>GK_Reflexes</th>\n",
       "    </tr>\n",
       "  </thead>\n",
       "  <tbody>\n",
       "    <tr>\n",
       "      <th>0</th>\n",
       "      <td>Cristiano Ronaldo</td>\n",
       "      <td>Portugal</td>\n",
       "      <td>LS</td>\n",
       "      <td>7.0</td>\n",
       "      <td>Real Madrid</td>\n",
       "      <td>LW</td>\n",
       "      <td>7.0</td>\n",
       "      <td>07/01/2009</td>\n",
       "      <td>2021.0</td>\n",
       "      <td>94</td>\n",
       "      <td>...</td>\n",
       "      <td>90</td>\n",
       "      <td>81</td>\n",
       "      <td>76</td>\n",
       "      <td>85</td>\n",
       "      <td>88</td>\n",
       "      <td>14</td>\n",
       "      <td>7</td>\n",
       "      <td>15</td>\n",
       "      <td>11</td>\n",
       "      <td>11</td>\n",
       "    </tr>\n",
       "    <tr>\n",
       "      <th>1</th>\n",
       "      <td>Lionel Messi</td>\n",
       "      <td>Argentina</td>\n",
       "      <td>RW</td>\n",
       "      <td>10.0</td>\n",
       "      <td>FC Barcelona</td>\n",
       "      <td>RW</td>\n",
       "      <td>10.0</td>\n",
       "      <td>07/01/2004</td>\n",
       "      <td>2018.0</td>\n",
       "      <td>93</td>\n",
       "      <td>...</td>\n",
       "      <td>88</td>\n",
       "      <td>89</td>\n",
       "      <td>90</td>\n",
       "      <td>74</td>\n",
       "      <td>85</td>\n",
       "      <td>14</td>\n",
       "      <td>6</td>\n",
       "      <td>15</td>\n",
       "      <td>11</td>\n",
       "      <td>8</td>\n",
       "    </tr>\n",
       "    <tr>\n",
       "      <th>2</th>\n",
       "      <td>Neymar</td>\n",
       "      <td>Brazil</td>\n",
       "      <td>LW</td>\n",
       "      <td>10.0</td>\n",
       "      <td>FC Barcelona</td>\n",
       "      <td>LW</td>\n",
       "      <td>11.0</td>\n",
       "      <td>07/01/2013</td>\n",
       "      <td>2021.0</td>\n",
       "      <td>92</td>\n",
       "      <td>...</td>\n",
       "      <td>77</td>\n",
       "      <td>79</td>\n",
       "      <td>84</td>\n",
       "      <td>81</td>\n",
       "      <td>83</td>\n",
       "      <td>15</td>\n",
       "      <td>9</td>\n",
       "      <td>15</td>\n",
       "      <td>9</td>\n",
       "      <td>11</td>\n",
       "    </tr>\n",
       "    <tr>\n",
       "      <th>3</th>\n",
       "      <td>Luis Suárez</td>\n",
       "      <td>Uruguay</td>\n",
       "      <td>LS</td>\n",
       "      <td>9.0</td>\n",
       "      <td>FC Barcelona</td>\n",
       "      <td>ST</td>\n",
       "      <td>9.0</td>\n",
       "      <td>07/11/2014</td>\n",
       "      <td>2021.0</td>\n",
       "      <td>92</td>\n",
       "      <td>...</td>\n",
       "      <td>86</td>\n",
       "      <td>86</td>\n",
       "      <td>84</td>\n",
       "      <td>85</td>\n",
       "      <td>88</td>\n",
       "      <td>33</td>\n",
       "      <td>27</td>\n",
       "      <td>31</td>\n",
       "      <td>25</td>\n",
       "      <td>37</td>\n",
       "    </tr>\n",
       "    <tr>\n",
       "      <th>4</th>\n",
       "      <td>Manuel Neuer</td>\n",
       "      <td>Germany</td>\n",
       "      <td>GK</td>\n",
       "      <td>1.0</td>\n",
       "      <td>FC Bayern</td>\n",
       "      <td>GK</td>\n",
       "      <td>1.0</td>\n",
       "      <td>07/01/2011</td>\n",
       "      <td>2021.0</td>\n",
       "      <td>92</td>\n",
       "      <td>...</td>\n",
       "      <td>16</td>\n",
       "      <td>14</td>\n",
       "      <td>11</td>\n",
       "      <td>47</td>\n",
       "      <td>11</td>\n",
       "      <td>91</td>\n",
       "      <td>89</td>\n",
       "      <td>95</td>\n",
       "      <td>90</td>\n",
       "      <td>89</td>\n",
       "    </tr>\n",
       "  </tbody>\n",
       "</table>\n",
       "<p>5 rows × 53 columns</p>\n",
       "</div>"
      ],
      "text/plain": [
       "                Name Nationality National_Position  National_Kit  \\\n",
       "0  Cristiano Ronaldo    Portugal                LS           7.0   \n",
       "1       Lionel Messi   Argentina                RW          10.0   \n",
       "2             Neymar      Brazil                LW          10.0   \n",
       "3        Luis Suárez     Uruguay                LS           9.0   \n",
       "4       Manuel Neuer     Germany                GK           1.0   \n",
       "\n",
       "           Club Club_Position  Club_Kit Club_Joining  Contract_Expiry  Rating  \\\n",
       "0   Real Madrid            LW       7.0   07/01/2009           2021.0      94   \n",
       "1  FC Barcelona            RW      10.0   07/01/2004           2018.0      93   \n",
       "2  FC Barcelona            LW      11.0   07/01/2013           2021.0      92   \n",
       "3  FC Barcelona            ST       9.0   07/11/2014           2021.0      92   \n",
       "4     FC Bayern            GK       1.0   07/01/2011           2021.0      92   \n",
       "\n",
       "      ...      Long_Shots Curve Freekick_Accuracy Penalties  Volleys  \\\n",
       "0     ...              90    81                76        85       88   \n",
       "1     ...              88    89                90        74       85   \n",
       "2     ...              77    79                84        81       83   \n",
       "3     ...              86    86                84        85       88   \n",
       "4     ...              16    14                11        47       11   \n",
       "\n",
       "  GK_Positioning GK_Diving  GK_Kicking  GK_Handling  GK_Reflexes  \n",
       "0             14         7          15           11           11  \n",
       "1             14         6          15           11            8  \n",
       "2             15         9          15            9           11  \n",
       "3             33        27          31           25           37  \n",
       "4             91        89          95           90           89  \n",
       "\n",
       "[5 rows x 53 columns]"
      ]
     },
     "execution_count": 16,
     "metadata": {},
     "output_type": "execute_result"
    }
   ],
   "source": [
    "fifa = pd.read_csv(r'C:/Users/user/ga-ds-shauno/data/fifa_data.csv')\n",
    "fifa.head()"
   ]
  },
  {
   "cell_type": "markdown",
   "metadata": {},
   "source": [
    "### 1. Clean up the dataset.\n",
    "\n",
    "    - Lowercase the column names\n",
    "    - Set the \"name\" column as the index\n",
    "    - Drop the following columns \"national_position\", \"national_kit\", \"club_kit\", \"club_joining\", and \"contract_expiry\"\n",
    "    - Get rid of all players who are goalkeepers and drop every column that starts with GK\n",
    "    - Drop every player whose rating is less than 70\n",
    "    - Convert the \"height\" and \"weight\" columns to float types\n",
    "    - Check to see if there any nulls, if so drop them from the dataset"
   ]
  },
  {
   "cell_type": "code",
   "execution_count": 44,
   "metadata": {},
   "outputs": [],
   "source": [
    "fifa.columns = [x.lower() for x in fifa.columns]\n",
    "fifa.set_index('name')\n",
    "fifa.drop([\"national_position\", \"national_kit\", \"club_kit\", \"club_joining\", \"contract_expiry\"], axis = 1, inplace=True)\n",
    "fifa.drop(fifa.club_position == 'GK')\n",
    "for x in fifa.columns:\n",
    "    if x[0:2] == 'gk':\n",
    "        fifa.drop(x, axis=1, inplace=True)\n",
    "\n",
    "fifa.drop(fifa.rating < 70, inplace=True)\n",
    "fifa['height'] = pd.to_numeric(fifa['height'].str.replace('cm', ''))\n",
    "fifa['weight'] = pd.to_numeric(fifa['weight'].str.replace('kg', ''))\n",
    "fifa.dropna(inplace=True)\n",
    "\n",
    "\n",
    "\n",
    "\n",
    "\n"
   ]
  },
  {
   "cell_type": "markdown",
   "metadata": {},
   "source": [
    "### 2.  Who are the top five players of the following attributes: speed, marking, and finishing"
   ]
  },
  {
   "cell_type": "code",
   "execution_count": 51,
   "metadata": {},
   "outputs": [
    {
     "name": "stdout",
     "output_type": "stream",
     "text": [
      "8598    96\n",
      "35      96\n",
      "1461    96\n",
      "7       95\n",
      "5091    95\n",
      "Name: speed, dtype: int64\n",
      "\n",
      "\n",
      "27    92\n",
      "10    90\n",
      "64    90\n",
      "15    90\n",
      "59    89\n",
      "Name: marking, dtype: int64\n",
      "\n",
      "\n",
      "3     94\n",
      "14    92\n",
      "6     91\n",
      "8     90\n",
      "17    90\n",
      "Name: finishing, dtype: int64\n"
     ]
    }
   ],
   "source": [
    "print fifa['speed'].sort_values(ascending=False).head(5)\n",
    "print '\\n'\n",
    "print fifa['marking'].sort_values(ascending=False).head(5)\n",
    "print '\\n'\n",
    "print fifa['finishing'].sort_values(ascending=False).head(5)"
   ]
  },
  {
   "cell_type": "markdown",
   "metadata": {},
   "source": [
    "### 3. Who is the tallest French lefted foot player?"
   ]
  },
  {
   "cell_type": "code",
   "execution_count": 54,
   "metadata": {},
   "outputs": [
    {
     "data": {
      "text/plain": [
       "12046    197\n",
       "Name: height, dtype: int64"
      ]
     },
     "execution_count": 54,
     "metadata": {},
     "output_type": "execute_result"
    }
   ],
   "source": [
    "fifa[(fifa['preffered_foot'] == 'Left') & (fifa['nationality'] == 'France')]['height'].sort_values(ascending=False).head(1)"
   ]
  },
  {
   "cell_type": "markdown",
   "metadata": {},
   "source": [
    "### 4. Show a pandas series of every attribute's correlation with the rating attribute"
   ]
  },
  {
   "cell_type": "code",
   "execution_count": 55,
   "metadata": {},
   "outputs": [
    {
     "data": {
      "text/plain": [
       "rating                1.000000\n",
       "height                0.047209\n",
       "weight                0.139772\n",
       "age                   0.458044\n",
       "weak_foot             0.225775\n",
       "skill_moves           0.250971\n",
       "ball_control          0.462785\n",
       "dribbling             0.368050\n",
       "marking               0.237608\n",
       "sliding_tackle        0.216011\n",
       "standing_tackle       0.249738\n",
       "aggression            0.404776\n",
       "reactions             0.828057\n",
       "attacking_position    0.353911\n",
       "interceptions         0.320251\n",
       "vision                0.488805\n",
       "composure             0.613250\n",
       "crossing              0.401522\n",
       "short_pass            0.495954\n",
       "long_pass             0.482898\n",
       "acceleration          0.205808\n",
       "speed                 0.223731\n",
       "stamina               0.355116\n",
       "strength              0.369214\n",
       "balance               0.087427\n",
       "agility               0.282798\n",
       "jumping               0.289496\n",
       "heading               0.342954\n",
       "shot_power            0.441413\n",
       "finishing             0.327866\n",
       "long_shots            0.419033\n",
       "curve                 0.420356\n",
       "freekick_accuracy     0.399051\n",
       "penalties             0.339417\n",
       "volleys               0.385879\n",
       "Name: rating, dtype: float64"
      ]
     },
     "execution_count": 55,
     "metadata": {},
     "output_type": "execute_result"
    }
   ],
   "source": [
    "fifa.corr()['rating']"
   ]
  },
  {
   "cell_type": "markdown",
   "metadata": {},
   "source": [
    "### 5. Make a heatmap of the dataset's correlation table"
   ]
  },
  {
   "cell_type": "code",
   "execution_count": 56,
   "metadata": {},
   "outputs": [
    {
     "data": {
      "text/plain": [
       "<matplotlib.collections.PolyCollection at 0xd22a240>"
      ]
     },
     "execution_count": 56,
     "metadata": {},
     "output_type": "execute_result"
    },
    {
     "data": {
      "image/png": "[encoded data removed]",
      "text/plain": [
       "<matplotlib.figure.Figure at 0x7d449b0>"
      ]
     },
     "metadata": {},
     "output_type": "display_data"
    }
   ],
   "source": [
    "plt.pcolor(fifa.corr())"
   ]
  },
  {
   "cell_type": "markdown",
   "metadata": {},
   "source": [
    "### 6. Return a dataframe with only players from the following clubs. Call the dataframe fifa2. From now on we'll be using fifa2"
   ]
  },
  {
   "cell_type": "code",
   "execution_count": 57,
   "metadata": {
    "collapsed": true
   },
   "outputs": [],
   "source": [
    "clubs_list = ['Real Madrid', 'FC Barcelona', 'FC Bayern', 'Manchester Utd',\n",
    "              'Chelsea', 'Arsenal', 'Juventus', 'PSG', 'Manchester City',\n",
    "              'Bor. Dortmund', 'Liverpool', 'Roma']"
   ]
  },
  {
   "cell_type": "code",
   "execution_count": 58,
   "metadata": {
    "collapsed": true
   },
   "outputs": [],
   "source": [
    "fifa2 = fifa[fifa.club.isin(clubs_list)]"
   ]
  },
  {
   "cell_type": "markdown",
   "metadata": {},
   "source": [
    "### 7. Make a bar plot of the average long_shots, curve, and dribbling attributes of the clubs in the data"
   ]
  },
  {
   "cell_type": "code",
   "execution_count": 59,
   "metadata": {},
   "outputs": [
    {
     "data": {
      "text/plain": [
       "array([<matplotlib.axes._subplots.AxesSubplot object at 0x000000000CEB3160>,\n",
       "       <matplotlib.axes._subplots.AxesSubplot object at 0x000000000FC9E4A8>,\n",
       "       <matplotlib.axes._subplots.AxesSubplot object at 0x000000001002CB70>], dtype=object)"
      ]
     },
     "execution_count": 59,
     "metadata": {},
     "output_type": "execute_result"
    },
    {
     "data": {
      "image/png": "[encoded data removed]",
      "text/plain": [
       "<matplotlib.figure.Figure at 0xfe6fc18>"
      ]
     },
     "metadata": {},
     "output_type": "display_data"
    }
   ],
   "source": [
    "fifa2.groupby('club')[['long_shots', 'curve', 'dribbling']].mean().plot(kind='barh', subplots=True, figsize=(6,10))"
   ]
  },
  {
   "cell_type": "markdown",
   "metadata": {},
   "source": [
    "### 8. Make a scatter plot of short_pass vs marking and use the preffered_foot column to color-encode the dots."
   ]
  },
  {
   "cell_type": "code",
   "execution_count": 61,
   "metadata": {},
   "outputs": [
    {
     "data": {
      "text/plain": [
       "<matplotlib.axes._subplots.AxesSubplot at 0x101a0be0>"
      ]
     },
     "execution_count": 61,
     "metadata": {},
     "output_type": "execute_result"
    },
    {
     "data": {
      "image/png": "[encoded data removed]",
      "text/plain": [
       "<matplotlib.figure.Figure at 0x101c5b38>"
      ]
     },
     "metadata": {},
     "output_type": "display_data"
    }
   ],
   "source": [
    "colors = fifa2.preffered_foot.map({'Left': 'blue', 'Right': 'red'})\n",
    "fifa2.plot(x='short_pass', y='marking', kind='scatter', c=colors, figsize=(8,5))"
   ]
  },
  {
   "cell_type": "code",
   "execution_count": null,
   "metadata": {
    "collapsed": true
   },
   "outputs": [],
   "source": []
  }
 ],
 "metadata": {
  "anaconda-cloud": {},
  "kernelspec": {
   "display_name": "Python 2",
   "language": "python",
   "name": "python2"
  },
  "language_info": {
   "codemirror_mode": {
    "name": "ipython",
    "version": 2
   },
   "file_extension": ".py",
   "mimetype": "text/x-python",
   "name": "python",
   "nbconvert_exporter": "python",
   "pygments_lexer": "ipython2",
   "version": "2.7.13"
  }
 },
 "nbformat": 4,
 "nbformat_minor": 1
}
