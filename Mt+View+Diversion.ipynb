{
 "cells": [
  {
   "cell_type": "code",
   "execution_count": 101,
   "metadata": {
    "collapsed": true
   },
   "outputs": [],
   "source": [
    "import pandas as pd\n",
    "import numpy as np\n",
    "import os"
   ]
  },
  {
   "cell_type": "code",
   "execution_count": 102,
   "metadata": {
    "collapsed": true
   },
   "outputs": [],
   "source": [
    "path = r\"C:\\Data\\Waste_Intervention\\Census_Tables\\Cleaned\"\n",
    "fList = os.listdir(path)"
   ]
  },
  {
   "cell_type": "code",
   "execution_count": 103,
   "metadata": {},
   "outputs": [
    {
     "name": "stdout",
     "output_type": "stream",
     "text": [
      "           Id2  med_age\n",
      "0  60855001001     27.2\n",
      "1  60855001002     33.7\n",
      "2  60855001003     26.9\n",
      "3  60855001004     34.1\n",
      "4  60855002001     30.6\n",
      "5  60855002002     36.9\n",
      "6  60855002003     36.9\n",
      "7  60855002004     29.2\n",
      "8  60855003001     37.3\n",
      "9  60855003002     35.4\n",
      "           Id2  White  AfAm  NatAm  Asian  Hawaiin  Other  Inter\n",
      "0  60855001001    310     0      0    112        0    500     10\n",
      "1  60855001002    397    18     12    727        0    717     65\n",
      "2  60855001003    731     0      0    403        0   1418     68\n",
      "3  60855001004    755   150     22    559        0    756     94\n",
      "4  60855002001    796    43     50    212       63    154    250\n",
      "5  60855002002    337   118     12     46        0    123     58\n",
      "6  60855002003    812    83      0    250        0    376    190\n",
      "7  60855002004    895    88     29    629        0    602     53\n",
      "8  60855003001    265    65      7     54        0     35    127\n",
      "9  60855003002   1865   215     20    726        0    202    209\n",
      "           Id2  Total_HH  FamHH  NonFM  NoFamAloneHH\n",
      "0  60855001001       286    174    112            86\n",
      "1  60855001002       664    436    228           142\n",
      "2  60855001003       561    364    197            79\n",
      "3  60855001004       884    512    372           289\n",
      "4  60855002001       526    256    270           171\n",
      "5  60855002002         0      0      0             0\n",
      "6  60855002003       615    291    324           229\n",
      "7  60855002004      1004    159    845           496\n",
      "8  60855003001       142     61     81            73\n",
      "9  60855003002      1322    623    699           313\n",
      "           Id2  HH1  HH2  HH3  HH4  HH5  HH6  HH7\n",
      "0  60855001001   86   67   69   16    0    0   48\n",
      "1  60855001002  142  135  157  211   19    0    0\n",
      "2  60855001003   79   65   33   85  152   49   98\n",
      "3  60855001004  289  296   67  114   67   24   27\n",
      "4  60855002001  171  108   71  175    1    0    0\n",
      "5  60855002002    0    0    0    0    0    0    0\n",
      "6  60855002003  229   95  142   94   29    0   26\n",
      "7  60855002004  496  241  107   55   36   69    0\n",
      "8  60855003001   73    8   26   29    6    0    0\n",
      "9  60855003002  313  647  164  104   58    0   36\n",
      "           Id2  MedHHInc\n",
      "0  60855001001   59118.0\n",
      "1  60855001002  110714.0\n",
      "2  60855001003   62730.0\n",
      "3  60855001004   85648.0\n",
      "4  60855002001  103265.0\n",
      "5  60855002003   62067.0\n",
      "6  60855002004   99821.0\n",
      "7  60855003001   30625.0\n",
      "8  60855003002  114904.0\n",
      "9  60855004001   54489.0\n",
      "           Id2  Vacant\n",
      "0  60855001001       0\n",
      "1  60855001002       0\n",
      "2  60855001003       0\n",
      "3  60855001004      89\n",
      "4  60855002001      15\n",
      "5  60855002002       0\n",
      "6  60855002003      34\n",
      "7  60855002004      44\n",
      "8  60855003001       7\n",
      "9  60855003002      46\n",
      "           Id2  TotalHH  OwnerHH  RenterHH\n",
      "0  60855001001      888      290       598\n",
      "1  60855001002     1883      607      1276\n",
      "2  60855001003     2620      999      1621\n",
      "3  60855001004     2336      760      1576\n",
      "4  60855002001     1424      611       813\n",
      "5  60855002002        0        0         0\n",
      "6  60855002003     1711      573      1138\n",
      "7  60855002004     2296      440      1856\n",
      "8  60855003001      312       88       224\n",
      "9  60855003002     3237     1628      1609\n",
      "           Id2  AvgHHSize  AvOwnHHsize  AvRenHHsize\n",
      "0  60855001001       3.10         3.02         3.15\n",
      "1  60855001002       2.84         2.21         3.28\n",
      "2  60855001003       4.67         4.22         5.00\n",
      "3  60855001004       2.64         2.43         2.76\n",
      "4  60855002001       2.71         3.20         2.43\n",
      "5  60855002003       2.78         4.34         2.36\n",
      "6  60855002004       2.29         1.68         2.50\n",
      "7  60855003001       2.20         2.15         2.22\n",
      "8  60855003002       2.45         2.39         2.51\n",
      "9  60855004001       2.33         2.60         2.25\n",
      "           Id2  DetachUnit  AttachUnit  TwoUnits  Units_3_4  Units_5_9  \\\n",
      "0  60855001001         185          17         0         15         43   \n",
      "1  60855001002         189         269        61        114         16   \n",
      "2  60855001003         273          75        84          0          0   \n",
      "3  60855001004         287         176        77         93         52   \n",
      "4  60855002001         298          16        79         40         59   \n",
      "5  60855002002           0           0         0          0          0   \n",
      "6  60855002003         119          63         0         65        266   \n",
      "7  60855002004         137          76        31         15        137   \n",
      "8  60855003001          54          18        42         26          9   \n",
      "9  60855003002         422         302        14         55        120   \n",
      "\n",
      "   Units_10_19  Units_20_49  Units_50plus  UnitMobile  Unit_Other  \n",
      "0           26            0             0           0           0  \n",
      "1           15            0             0           0           0  \n",
      "2           47           82             0           0           0  \n",
      "3            0           66           222           0           0  \n",
      "4            0           12            37           0           0  \n",
      "5            0            0             0           0           0  \n",
      "6           88           38            10           0           0  \n",
      "7           13          166           473           0           0  \n",
      "8            0            0             0           0           0  \n",
      "9           45            8           402           0           0  \n",
      "           Id2  HouseYear\n",
      "0  60855001001       1948\n",
      "1  60855001002       1968\n",
      "2  60855001003       1986\n",
      "3  60855001004       1999\n",
      "4  60855002001       1947\n",
      "5  60855002003       1963\n",
      "6  60855002004       1998\n",
      "7  60855003001       1956\n",
      "8  60855003002       1997\n",
      "9  60855004001       1957\n",
      "           Id2  studio  bed1  bed2  bed3  bed4  bed5\n",
      "0  60855001001      14    12   204    19    37     0\n",
      "1  60855001002       0    64   251   320    29     0\n",
      "2  60855001003       0    12   321   197    18    13\n",
      "3  60855001004      17   190   390   244   108    24\n",
      "4  60855002001      12   112   267   124    26     0\n",
      "5  60855002002       0     0     0     0     0     0\n",
      "6  60855002003      86   239   257    41     0    26\n",
      "7  60855002004      51   400   362   184    36    15\n",
      "8  60855003001       0    48    88     0    13     0\n",
      "9  60855003002      67   338   534   262   139    28\n",
      "           Id2  R100  R150  R199  R249  R299  R349  R399  R449  R499  \\\n",
      "0  60855001001     0     0     0     0     0     0     0     0     0   \n",
      "1  60855001002     0     0     0     0     0     0     0     0    17   \n",
      "2  60855001003     0     0     0     0     0     0     0     0     0   \n",
      "3  60855001004     0    35     0     0    17     0     0     0     0   \n",
      "4  60855002001     0     0     0     0    31     0     0     0     0   \n",
      "5  60855002002     0     0     0     0     0     0     0     0     0   \n",
      "6  60855002003     0     0     0     0     0     0     0     0     0   \n",
      "7  60855002004     0     0     0     0     0     0     0     0     0   \n",
      "8  60855003001     0     0     0     0     0     0     0     0     0   \n",
      "9  60855003002     0     9     0     0     0     0     0     0     0   \n",
      "\n",
      "     ...      R799  R899  R999  R1249  R1499  R1999  R2499  R2999  R3499  \\\n",
      "0    ...         0     0    60     43      0     57     15      0      0   \n",
      "1    ...        12    49     0     46     97     71     49      0     48   \n",
      "2    ...         0     0     0     12    137    161     14      0      0   \n",
      "3    ...         0     0     0     90    136     58    107     34     47   \n",
      "4    ...         0     0    22     26     73     96     42      9      0   \n",
      "5    ...         0     0     0      0      0      0      0      0      0   \n",
      "6    ...         0    61     0    113    116     96      0     14      0   \n",
      "7    ...         0    12     0      0    112    275    148    139     24   \n",
      "8    ...         0    29     0     24     48      0      0      0      0   \n",
      "9    ...        18     8     0     50     52    111    108    172    102   \n",
      "\n",
      "   R3500plus  \n",
      "0          0  \n",
      "1          0  \n",
      "2          0  \n",
      "3          0  \n",
      "4          0  \n",
      "5          0  \n",
      "6          0  \n",
      "7          0  \n",
      "8          0  \n",
      "9          0  \n",
      "\n",
      "[10 rows x 25 columns]\n",
      "           Id2  Total_Bachelors  STEM  STEM_rel  Business  Education  \\\n",
      "0  60855001001              192    88         0        38          0   \n",
      "1  60855001002              573   368         0        98         14   \n",
      "2  60855001003              360   127        81        84         17   \n",
      "3  60855001004              710   387         0       122         10   \n",
      "4  60855002001              523   309        12        30         12   \n",
      "5  60855002002               64    13        11        31          0   \n",
      "6  60855002003              295   138        37        38         11   \n",
      "7  60855002004              964   543        28       153         13   \n",
      "8  60855003001               53    32         0         0          0   \n",
      "9  60855003002             1606   594       159       332         61   \n",
      "\n",
      "   Humanities  \n",
      "0          66  \n",
      "1          93  \n",
      "2          51  \n",
      "3         191  \n",
      "4         160  \n",
      "5           9  \n",
      "6          71  \n",
      "7         227  \n",
      "8          21  \n",
      "9         460  \n",
      "           Id2  Population\n",
      "0  60855001001         932\n",
      "1  60855001002        1936\n",
      "2  60855001003        2620\n",
      "3  60855001004        2336\n",
      "4  60855002001        1568\n",
      "5  60855002002         694\n",
      "6  60855002003        1711\n",
      "7  60855002004        2296\n",
      "8  60855003001         553\n",
      "9  60855003002        3237\n"
     ]
    }
   ],
   "source": [
    "dfs = {}\n",
    "\n",
    "for doc in fList:\n",
    "    i = \"{}\\\\{}\".format(path, doc)\n",
    "    j = doc.split(\"_\")[-1][:-4]\n",
    "    \n",
    "    dfs[j] = pd.read_csv(i, na_values=(\"-\"))\n",
    "    \n",
    "    df = pd.read_csv(i, na_values=(\"-\"))\n",
    "    #print dfs  \n",
    "        \n",
    "    df = df.dropna()\n",
    "    print df.head(10)"
   ]
  },
  {
   "cell_type": "code",
   "execution_count": 105,
   "metadata": {
    "collapsed": true
   },
   "outputs": [],
   "source": [
    "tabs = dfs.values()\n",
    "df = tabs.pop()\n",
    "for x in tabs:\n",
    "    df = df.merge(x)\n",
    "\n",
    "df.to_csv(r\"C:\\Data\\CO_054\\census_merged.csv\", index=False)\n"
   ]
  },
  {
   "cell_type": "code",
   "execution_count": 110,
   "metadata": {},
   "outputs": [],
   "source": [
    "rts = pd.read_csv(r\"C:\\Data\\CO_054\\MtVwResRCY.csv\")"
   ]
  },
  {
   "cell_type": "code",
   "execution_count": 111,
   "metadata": {},
   "outputs": [
    {
     "data": {
      "text/html": [
       "<div>\n",
       "<style>\n",
       "    .dataframe thead tr:only-child th {\n",
       "        text-align: right;\n",
       "    }\n",
       "\n",
       "    .dataframe thead th {\n",
       "        text-align: left;\n",
       "    }\n",
       "\n",
       "    .dataframe tbody tr th {\n",
       "        vertical-align: top;\n",
       "    }\n",
       "</style>\n",
       "<table border=\"1\" class=\"dataframe\">\n",
       "  <thead>\n",
       "    <tr style=\"text-align: right;\">\n",
       "      <th></th>\n",
       "      <th>fid</th>\n",
       "      <th>loc_name</th>\n",
       "      <th>status</th>\n",
       "      <th>score</th>\n",
       "      <th>match_addr</th>\n",
       "      <th>pct_along</th>\n",
       "      <th>side</th>\n",
       "      <th>ref_id</th>\n",
       "      <th>ref_id_side</th>\n",
       "      <th>x</th>\n",
       "      <th>...</th>\n",
       "      <th>sl_set</th>\n",
       "      <th>trip</th>\n",
       "      <th>arrival_ti</th>\n",
       "      <th>service_si</th>\n",
       "      <th>sequence</th>\n",
       "      <th>route</th>\n",
       "      <th>cycle_day</th>\n",
       "      <th>partition</th>\n",
       "      <th>service_mode</th>\n",
       "      <th>geo_index</th>\n",
       "    </tr>\n",
       "  </thead>\n",
       "  <tbody>\n",
       "    <tr>\n",
       "      <th>0</th>\n",
       "      <td>569</td>\n",
       "      <td>CO_052_053_054</td>\n",
       "      <td>M</td>\n",
       "      <td>100.0</td>\n",
       "      <td>1097 MERCY ST</td>\n",
       "      <td>97.959184</td>\n",
       "      <td>L</td>\n",
       "      <td>23,708,145.00</td>\n",
       "      <td>23708145L</td>\n",
       "      <td>-122.084501</td>\n",
       "      <td>...</td>\n",
       "      <td>0</td>\n",
       "      <td>0</td>\n",
       "      <td>0</td>\n",
       "      <td>0</td>\n",
       "      <td>0</td>\n",
       "      <td>2F1A</td>\n",
       "      <td>0</td>\n",
       "      <td>NaN</td>\n",
       "      <td>NaN</td>\n",
       "      <td>0</td>\n",
       "    </tr>\n",
       "    <tr>\n",
       "      <th>1</th>\n",
       "      <td>1,648</td>\n",
       "      <td>NaN</td>\n",
       "      <td>M</td>\n",
       "      <td>0.0</td>\n",
       "      <td>NaN</td>\n",
       "      <td>0.000000</td>\n",
       "      <td>R</td>\n",
       "      <td>23,749,160.00</td>\n",
       "      <td>23749160R</td>\n",
       "      <td>-122.071408</td>\n",
       "      <td>...</td>\n",
       "      <td>0</td>\n",
       "      <td>0</td>\n",
       "      <td>0</td>\n",
       "      <td>0</td>\n",
       "      <td>0</td>\n",
       "      <td>4F1A</td>\n",
       "      <td>0</td>\n",
       "      <td>NaN</td>\n",
       "      <td>NaN</td>\n",
       "      <td>0</td>\n",
       "    </tr>\n",
       "  </tbody>\n",
       "</table>\n",
       "<p>2 rows × 75 columns</p>\n",
       "</div>"
      ],
      "text/plain": [
       "     fid        loc_name status  score     match_addr  pct_along side  \\\n",
       "0    569  CO_052_053_054      M  100.0  1097 MERCY ST  97.959184    L   \n",
       "1  1,648             NaN      M    0.0            NaN   0.000000    R   \n",
       "\n",
       "          ref_id ref_id_side           x    ...     sl_set trip arrival_ti  \\\n",
       "0  23,708,145.00   23708145L -122.084501    ...          0    0          0   \n",
       "1  23,749,160.00   23749160R -122.071408    ...          0    0          0   \n",
       "\n",
       "  service_si  sequence  route cycle_day  partition service_mode geo_index  \n",
       "0          0         0   2F1A         0        NaN          NaN         0  \n",
       "1          0         0   4F1A         0        NaN          NaN         0  \n",
       "\n",
       "[2 rows x 75 columns]"
      ]
     },
     "execution_count": 111,
     "metadata": {},
     "output_type": "execute_result"
    }
   ],
   "source": [
    "rts.columns = [x.lower() for x in rts.columns]\n",
    "rts.head(2)"
   ]
  },
  {
   "cell_type": "code",
   "execution_count": 11,
   "metadata": {
    "scrolled": true
   },
   "outputs": [
    {
     "ename": "AttributeError",
     "evalue": "'module' object has no attribute 'mode'",
     "output_type": "error",
     "traceback": [
      "\u001b[1;31m---------------------------------------------------------------------------\u001b[0m",
      "\u001b[1;31mAttributeError\u001b[0m                            Traceback (most recent call last)",
      "\u001b[1;32m<ipython-input-11-627755d9e89f>\u001b[0m in \u001b[0;36m<module>\u001b[1;34m()\u001b[0m\n\u001b[1;32m----> 1\u001b[1;33m \u001b[0mcheck\u001b[0m \u001b[1;33m=\u001b[0m \u001b[0mrts\u001b[0m\u001b[1;33m.\u001b[0m\u001b[0mgroupby\u001b[0m\u001b[1;33m(\u001b[0m\u001b[1;33m[\u001b[0m\u001b[1;34m'ref_id'\u001b[0m\u001b[1;33m]\u001b[0m\u001b[1;33m)\u001b[0m\u001b[1;33m.\u001b[0m\u001b[0mapply\u001b[0m\u001b[1;33m(\u001b[0m\u001b[0mnp\u001b[0m\u001b[1;33m.\u001b[0m\u001b[0mmode\u001b[0m\u001b[1;33m)\u001b[0m\u001b[1;33m\u001b[0m\u001b[0m\n\u001b[0m",
      "\u001b[1;31mAttributeError\u001b[0m: 'module' object has no attribute 'mode'"
     ]
    }
   ],
   "source": [
    "\n",
    "check = rts.groupby(['ref_id']).apply(np.mode)"
   ]
  },
  {
   "cell_type": "code",
   "execution_count": 112,
   "metadata": {},
   "outputs": [
    {
     "data": {
      "text/plain": [
       "pandas.core.frame.DataFrame"
      ]
     },
     "execution_count": 112,
     "metadata": {},
     "output_type": "execute_result"
    }
   ],
   "source": [
    "rts_f1 = rts.loc[rts['z1tims'] < 2]\n",
    "mxRt = rts_f1.groupby(['ref_id_side', 'route']).size().reset_index(name='count')\n",
    "mxRt = mxRt.sort_values(by=(['ref_id_side', 'count']))\n",
    "mxRt = mxRt.drop_duplicates('ref_id_side', keep='last')\n",
    "#count = mxRt['ref_id_side']\n",
    "mxRt.head(5)\n",
    "mxRt.to_csv(r\"C:\\Data\\CO_054\\maxRCY.csv\", index=False)\n",
    "type(mxRt)"
   ]
  },
  {
   "cell_type": "code",
   "execution_count": 113,
   "metadata": {},
   "outputs": [
    {
     "data": {
      "text/plain": [
       "2827"
      ]
     },
     "execution_count": 113,
     "metadata": {},
     "output_type": "execute_result"
    }
   ],
   "source": [
    "len(mxRt)"
   ]
  },
  {
   "cell_type": "code",
   "execution_count": 94,
   "metadata": {},
   "outputs": [],
   "source": [
    "def get_mode(group):\n",
    "    return group.mode()[0]"
   ]
  },
  {
   "cell_type": "code",
   "execution_count": 95,
   "metadata": {},
   "outputs": [],
   "source": [
    "rts_f1 = rts.loc[rts['z1tims'] < 2]\n",
    "merged = rts_f1.merge(rts_f1.groupby(['ref_id_side'])['route'].apply(get_mode).reset_index(), how='left', indicator=True)\n",
    "merged[merged['_merge'] != 'both'].groupby(['ref_id_side', 'route']).size().to_csv(r\"C:\\Data\\CO_054\\noMaxYW.csv\")"
   ]
  },
  {
   "cell_type": "code",
   "execution_count": 96,
   "metadata": {},
   "outputs": [],
   "source": [
    "fix = merged[merged['_merge'] != 'both'].groupby(['ref_id_side', 'route']).size()\n"
   ]
  },
  {
   "cell_type": "code",
   "execution_count": 97,
   "metadata": {},
   "outputs": [
    {
     "ename": "NameError",
     "evalue": "name 'mxRts' is not defined",
     "output_type": "error",
     "traceback": [
      "\u001b[1;31m---------------------------------------------------------------------------\u001b[0m",
      "\u001b[1;31mNameError\u001b[0m                                 Traceback (most recent call last)",
      "\u001b[1;32m<ipython-input-97-1871867f1e91>\u001b[0m in \u001b[0;36m<module>\u001b[1;34m()\u001b[0m\n\u001b[1;32m----> 1\u001b[1;33m \u001b[0mfinal\u001b[0m \u001b[1;33m=\u001b[0m \u001b[0mrts\u001b[0m\u001b[1;33m.\u001b[0m\u001b[0mmerge\u001b[0m\u001b[1;33m(\u001b[0m\u001b[0mmxRts\u001b[0m\u001b[1;33m)\u001b[0m\u001b[1;33m\u001b[0m\u001b[0m\n\u001b[0m",
      "\u001b[1;31mNameError\u001b[0m: name 'mxRts' is not defined"
     ]
    }
   ],
   "source": [
    "final = rts.merge(mxRts)"
   ]
  },
  {
   "cell_type": "code",
   "execution_count": null,
   "metadata": {
    "collapsed": true
   },
   "outputs": [],
   "source": []
  }
 ],
 "metadata": {
  "kernelspec": {
   "display_name": "Python 2",
   "language": "python",
   "name": "python2"
  },
  "language_info": {
   "codemirror_mode": {
    "name": "ipython",
    "version": 2
   },
   "file_extension": ".py",
   "mimetype": "text/x-python",
   "name": "python",
   "nbconvert_exporter": "python",
   "pygments_lexer": "ipython2",
   "version": "2.7.13"
  }
 },
 "nbformat": 4,
 "nbformat_minor": 2
}
