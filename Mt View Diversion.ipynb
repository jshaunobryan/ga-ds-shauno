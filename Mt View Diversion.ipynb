{
 "cells": [
  {
   "cell_type": "code",
   "execution_count": 3,
   "metadata": {
    "collapsed": true
   },
   "outputs": [],
   "source": [
    "import pandas as pd\n",
    "import numpy as np\n",
    "import os"
   ]
  },
  {
   "cell_type": "code",
   "execution_count": 4,
   "metadata": {
    "collapsed": true
   },
   "outputs": [],
   "source": [
    "path = r\"C:\\Data\\Waste_Intervention\\Census_Tables\\Cleaned\"\n",
    "fList = os.listdir(path)"
   ]
  },
  {
   "cell_type": "code",
   "execution_count": 5,
   "metadata": {},
   "outputs": [
    {
     "name": "stdout",
     "output_type": "stream",
     "text": [
      "           Id2  med_age\n",
      "0  60855001001     27.2\n",
      "1  60855001002     33.7\n",
      "2  60855001003     26.9\n",
      "3  60855001004     34.1\n",
      "4  60855002001     30.6\n",
      "5  60855002002     36.9\n",
      "6  60855002003     36.9\n",
      "7  60855002004     29.2\n",
      "8  60855003001     37.3\n",
      "9  60855003002     35.4\n",
      "           Id2  White  AfAm  NatAm  Asian  Hawaiin  Other  Inter\n",
      "0  60855001001    310     0      0    112        0    500     10\n",
      "1  60855001002    397    18     12    727        0    717     65\n",
      "2  60855001003    731     0      0    403        0   1418     68\n",
      "3  60855001004    755   150     22    559        0    756     94\n",
      "4  60855002001    796    43     50    212       63    154    250\n",
      "5  60855002002    337   118     12     46        0    123     58\n",
      "6  60855002003    812    83      0    250        0    376    190\n",
      "7  60855002004    895    88     29    629        0    602     53\n",
      "8  60855003001    265    65      7     54        0     35    127\n",
      "9  60855003002   1865   215     20    726        0    202    209\n",
      "           Id2  Total_HH  FamHH  NonFM  NoFamAloneHH\n",
      "0  60855001001       286    174    112            86\n",
      "1  60855001002       664    436    228           142\n",
      "2  60855001003       561    364    197            79\n",
      "3  60855001004       884    512    372           289\n",
      "4  60855002001       526    256    270           171\n",
      "5  60855002002         0      0      0             0\n",
      "6  60855002003       615    291    324           229\n",
      "7  60855002004      1004    159    845           496\n",
      "8  60855003001       142     61     81            73\n",
      "9  60855003002      1322    623    699           313\n",
      "           Id2  HH1  HH2  HH3  HH4  HH5  HH6  HH7\n",
      "0  60855001001   86   67   69   16    0    0   48\n",
      "1  60855001002  142  135  157  211   19    0    0\n",
      "2  60855001003   79   65   33   85  152   49   98\n",
      "3  60855001004  289  296   67  114   67   24   27\n",
      "4  60855002001  171  108   71  175    1    0    0\n",
      "5  60855002002    0    0    0    0    0    0    0\n",
      "6  60855002003  229   95  142   94   29    0   26\n",
      "7  60855002004  496  241  107   55   36   69    0\n",
      "8  60855003001   73    8   26   29    6    0    0\n",
      "9  60855003002  313  647  164  104   58    0   36\n",
      "           Id2  MedHHInc\n",
      "0  60855001001   59118.0\n",
      "1  60855001002  110714.0\n",
      "2  60855001003   62730.0\n",
      "3  60855001004   85648.0\n",
      "4  60855002001  103265.0\n",
      "5  60855002003   62067.0\n",
      "6  60855002004   99821.0\n",
      "7  60855003001   30625.0\n",
      "8  60855003002  114904.0\n",
      "9  60855004001   54489.0\n",
      "           Id2  Vacant\n",
      "0  60855001001       0\n",
      "1  60855001002       0\n",
      "2  60855001003       0\n",
      "3  60855001004      89\n",
      "4  60855002001      15\n",
      "5  60855002002       0\n",
      "6  60855002003      34\n",
      "7  60855002004      44\n",
      "8  60855003001       7\n",
      "9  60855003002      46\n",
      "           Id2  TotalHH  OwnerHH  RenterHH\n",
      "0  60855001001      888      290       598\n",
      "1  60855001002     1883      607      1276\n",
      "2  60855001003     2620      999      1621\n",
      "3  60855001004     2336      760      1576\n",
      "4  60855002001     1424      611       813\n",
      "5  60855002002        0        0         0\n",
      "6  60855002003     1711      573      1138\n",
      "7  60855002004     2296      440      1856\n",
      "8  60855003001      312       88       224\n",
      "9  60855003002     3237     1628      1609\n",
      "           Id2  AvgHHSize  AvOwnHHsize  AvRenHHsize\n",
      "0  60855001001       3.10         3.02         3.15\n",
      "1  60855001002       2.84         2.21         3.28\n",
      "2  60855001003       4.67         4.22         5.00\n",
      "3  60855001004       2.64         2.43         2.76\n",
      "4  60855002001       2.71         3.20         2.43\n",
      "5  60855002003       2.78         4.34         2.36\n",
      "6  60855002004       2.29         1.68         2.50\n",
      "7  60855003001       2.20         2.15         2.22\n",
      "8  60855003002       2.45         2.39         2.51\n",
      "9  60855004001       2.33         2.60         2.25\n",
      "           Id2  DetachUnit  AttachUnit  TwoUnits  Units_3_4  Units_5_9  \\\n",
      "0  60855001001         185          17         0         15         43   \n",
      "1  60855001002         189         269        61        114         16   \n",
      "2  60855001003         273          75        84          0          0   \n",
      "3  60855001004         287         176        77         93         52   \n",
      "4  60855002001         298          16        79         40         59   \n",
      "5  60855002002           0           0         0          0          0   \n",
      "6  60855002003         119          63         0         65        266   \n",
      "7  60855002004         137          76        31         15        137   \n",
      "8  60855003001          54          18        42         26          9   \n",
      "9  60855003002         422         302        14         55        120   \n",
      "\n",
      "   Units_10_19  Units_20_49  Units_50plus  UnitMobile  Unit_Other  \n",
      "0           26            0             0           0           0  \n",
      "1           15            0             0           0           0  \n",
      "2           47           82             0           0           0  \n",
      "3            0           66           222           0           0  \n",
      "4            0           12            37           0           0  \n",
      "5            0            0             0           0           0  \n",
      "6           88           38            10           0           0  \n",
      "7           13          166           473           0           0  \n",
      "8            0            0             0           0           0  \n",
      "9           45            8           402           0           0  \n",
      "           Id2  HouseYear\n",
      "0  60855001001       1948\n",
      "1  60855001002       1968\n",
      "2  60855001003       1986\n",
      "3  60855001004       1999\n",
      "4  60855002001       1947\n",
      "5  60855002003       1963\n",
      "6  60855002004       1998\n",
      "7  60855003001       1956\n",
      "8  60855003002       1997\n",
      "9  60855004001       1957\n",
      "           Id2  studio  bed1  bed2  bed3  bed4  bed5\n",
      "0  60855001001      14    12   204    19    37     0\n",
      "1  60855001002       0    64   251   320    29     0\n",
      "2  60855001003       0    12   321   197    18    13\n",
      "3  60855001004      17   190   390   244   108    24\n",
      "4  60855002001      12   112   267   124    26     0\n",
      "5  60855002002       0     0     0     0     0     0\n",
      "6  60855002003      86   239   257    41     0    26\n",
      "7  60855002004      51   400   362   184    36    15\n",
      "8  60855003001       0    48    88     0    13     0\n",
      "9  60855003002      67   338   534   262   139    28\n",
      "           Id2  R100  R150  R199  R249  R299  R349  R399  R449  R499  \\\n",
      "0  60855001001     0     0     0     0     0     0     0     0     0   \n",
      "1  60855001002     0     0     0     0     0     0     0     0    17   \n",
      "2  60855001003     0     0     0     0     0     0     0     0     0   \n",
      "3  60855001004     0    35     0     0    17     0     0     0     0   \n",
      "4  60855002001     0     0     0     0    31     0     0     0     0   \n",
      "5  60855002002     0     0     0     0     0     0     0     0     0   \n",
      "6  60855002003     0     0     0     0     0     0     0     0     0   \n",
      "7  60855002004     0     0     0     0     0     0     0     0     0   \n",
      "8  60855003001     0     0     0     0     0     0     0     0     0   \n",
      "9  60855003002     0     9     0     0     0     0     0     0     0   \n",
      "\n",
      "     ...      R799  R899  R999  R1249  R1499  R1999  R2499  R2999  R3499  \\\n",
      "0    ...         0     0    60     43      0     57     15      0      0   \n",
      "1    ...        12    49     0     46     97     71     49      0     48   \n",
      "2    ...         0     0     0     12    137    161     14      0      0   \n",
      "3    ...         0     0     0     90    136     58    107     34     47   \n",
      "4    ...         0     0    22     26     73     96     42      9      0   \n",
      "5    ...         0     0     0      0      0      0      0      0      0   \n",
      "6    ...         0    61     0    113    116     96      0     14      0   \n",
      "7    ...         0    12     0      0    112    275    148    139     24   \n",
      "8    ...         0    29     0     24     48      0      0      0      0   \n",
      "9    ...        18     8     0     50     52    111    108    172    102   \n",
      "\n",
      "   R3500plus  \n",
      "0          0  \n",
      "1          0  \n",
      "2          0  \n",
      "3          0  \n",
      "4          0  \n",
      "5          0  \n",
      "6          0  \n",
      "7          0  \n",
      "8          0  \n",
      "9          0  \n",
      "\n",
      "[10 rows x 25 columns]\n",
      "           Id2  Total_Bachelors  STEM  STEM_rel  Business  Education  \\\n",
      "0  60855001001              192    88         0        38          0   \n",
      "1  60855001002              573   368         0        98         14   \n",
      "2  60855001003              360   127        81        84         17   \n",
      "3  60855001004              710   387         0       122         10   \n",
      "4  60855002001              523   309        12        30         12   \n",
      "5  60855002002               64    13        11        31          0   \n",
      "6  60855002003              295   138        37        38         11   \n",
      "7  60855002004              964   543        28       153         13   \n",
      "8  60855003001               53    32         0         0          0   \n",
      "9  60855003002             1606   594       159       332         61   \n",
      "\n",
      "   Humanities  \n",
      "0          66  \n",
      "1          93  \n",
      "2          51  \n",
      "3         191  \n",
      "4         160  \n",
      "5           9  \n",
      "6          71  \n",
      "7         227  \n",
      "8          21  \n",
      "9         460  \n",
      "           Id2  Population\n",
      "0  60855001001         932\n",
      "1  60855001002        1936\n",
      "2  60855001003        2620\n",
      "3  60855001004        2336\n",
      "4  60855002001        1568\n",
      "5  60855002002         694\n",
      "6  60855002003        1711\n",
      "7  60855002004        2296\n",
      "8  60855003001         553\n",
      "9  60855003002        3237\n"
     ]
    }
   ],
   "source": [
    "dfs = {}\n",
    "\n",
    "for doc in fList:\n",
    "    i = \"{}\\\\{}\".format(path, doc)\n",
    "    j = doc.split(\"_\")[-1][:-4]\n",
    "    \n",
    "    dfs[j] = pd.read_csv(i, na_values=(\"-\"))\n",
    "    \n",
    "    df = pd.read_csv(i, na_values=(\"-\"))\n",
    "    #print dfs  \n",
    "        \n",
    "    df = df.fillna(0)\n",
    "    print df.head(10)"
   ]
  },
  {
   "cell_type": "code",
   "execution_count": 6,
   "metadata": {
    "collapsed": true
   },
   "outputs": [],
   "source": [
    "tabs = dfs.values()\n",
    "df = tabs.pop()\n",
    "for x in tabs:\n",
    "    df = df.merge(x, how='outer')\n",
    "\n",
    "df.to_csv(r\"C:\\Data\\CO_054\\census_merged_2.csv\", index=False)\n"
   ]
  },
  {
   "cell_type": "code",
   "execution_count": 110,
   "metadata": {
    "collapsed": true
   },
   "outputs": [],
   "source": [
    "rts = pd.read_csv(r\"C:\\Data\\CO_054\\MtVwResRCY.csv\")"
   ]
  },
  {
   "cell_type": "code",
   "execution_count": 111,
   "metadata": {},
   "outputs": [
    {
     "data": {
      "text/html": [
       "<div>\n",
       "<style>\n",
       "    .dataframe thead tr:only-child th {\n",
       "        text-align: right;\n",
       "    }\n",
       "\n",
       "    .dataframe thead th {\n",
       "        text-align: left;\n",
       "    }\n",
       "\n",
       "    .dataframe tbody tr th {\n",
       "        vertical-align: top;\n",
       "    }\n",
       "</style>\n",
       "<table border=\"1\" class=\"dataframe\">\n",
       "  <thead>\n",
       "    <tr style=\"text-align: right;\">\n",
       "      <th></th>\n",
       "      <th>fid</th>\n",
       "      <th>loc_name</th>\n",
       "      <th>status</th>\n",
       "      <th>score</th>\n",
       "      <th>match_addr</th>\n",
       "      <th>pct_along</th>\n",
       "      <th>side</th>\n",
       "      <th>ref_id</th>\n",
       "      <th>ref_id_side</th>\n",
       "      <th>x</th>\n",
       "      <th>...</th>\n",
       "      <th>sl_set</th>\n",
       "      <th>trip</th>\n",
       "      <th>arrival_ti</th>\n",
       "      <th>service_si</th>\n",
       "      <th>sequence</th>\n",
       "      <th>route</th>\n",
       "      <th>cycle_day</th>\n",
       "      <th>partition</th>\n",
       "      <th>service_mode</th>\n",
       "      <th>geo_index</th>\n",
       "    </tr>\n",
       "  </thead>\n",
       "  <tbody>\n",
       "    <tr>\n",
       "      <th>0</th>\n",
       "      <td>569</td>\n",
       "      <td>CO_052_053_054</td>\n",
       "      <td>M</td>\n",
       "      <td>100.0</td>\n",
       "      <td>1097 MERCY ST</td>\n",
       "      <td>97.959184</td>\n",
       "      <td>L</td>\n",
       "      <td>23,708,145.00</td>\n",
       "      <td>23708145L</td>\n",
       "      <td>-122.084501</td>\n",
       "      <td>...</td>\n",
       "      <td>0</td>\n",
       "      <td>0</td>\n",
       "      <td>0</td>\n",
       "      <td>0</td>\n",
       "      <td>0</td>\n",
       "      <td>2F1A</td>\n",
       "      <td>0</td>\n",
       "      <td>NaN</td>\n",
       "      <td>NaN</td>\n",
       "      <td>0</td>\n",
       "    </tr>\n",
       "    <tr>\n",
       "      <th>1</th>\n",
       "      <td>1,648</td>\n",
       "      <td>NaN</td>\n",
       "      <td>M</td>\n",
       "      <td>0.0</td>\n",
       "      <td>NaN</td>\n",
       "      <td>0.000000</td>\n",
       "      <td>R</td>\n",
       "      <td>23,749,160.00</td>\n",
       "      <td>23749160R</td>\n",
       "      <td>-122.071408</td>\n",
       "      <td>...</td>\n",
       "      <td>0</td>\n",
       "      <td>0</td>\n",
       "      <td>0</td>\n",
       "      <td>0</td>\n",
       "      <td>0</td>\n",
       "      <td>4F1A</td>\n",
       "      <td>0</td>\n",
       "      <td>NaN</td>\n",
       "      <td>NaN</td>\n",
       "      <td>0</td>\n",
       "    </tr>\n",
       "  </tbody>\n",
       "</table>\n",
       "<p>2 rows × 75 columns</p>\n",
       "</div>"
      ],
      "text/plain": [
       "     fid        loc_name status  score     match_addr  pct_along side  \\\n",
       "0    569  CO_052_053_054      M  100.0  1097 MERCY ST  97.959184    L   \n",
       "1  1,648             NaN      M    0.0            NaN   0.000000    R   \n",
       "\n",
       "          ref_id ref_id_side           x    ...     sl_set trip arrival_ti  \\\n",
       "0  23,708,145.00   23708145L -122.084501    ...          0    0          0   \n",
       "1  23,749,160.00   23749160R -122.071408    ...          0    0          0   \n",
       "\n",
       "  service_si  sequence  route cycle_day  partition service_mode geo_index  \n",
       "0          0         0   2F1A         0        NaN          NaN         0  \n",
       "1          0         0   4F1A         0        NaN          NaN         0  \n",
       "\n",
       "[2 rows x 75 columns]"
      ]
     },
     "execution_count": 111,
     "metadata": {},
     "output_type": "execute_result"
    }
   ],
   "source": [
    "rts.columns = [x.lower() for x in rts.columns]\n",
    "rts.head(2)"
   ]
  },
  {
   "cell_type": "code",
   "execution_count": 11,
   "metadata": {
    "scrolled": true
   },
   "outputs": [
    {
     "ename": "AttributeError",
     "evalue": "'module' object has no attribute 'mode'",
     "output_type": "error",
     "traceback": [
      "\u001b[1;31m---------------------------------------------------------------------------\u001b[0m",
      "\u001b[1;31mAttributeError\u001b[0m                            Traceback (most recent call last)",
      "\u001b[1;32m<ipython-input-11-627755d9e89f>\u001b[0m in \u001b[0;36m<module>\u001b[1;34m()\u001b[0m\n\u001b[1;32m----> 1\u001b[1;33m \u001b[0mcheck\u001b[0m \u001b[1;33m=\u001b[0m \u001b[0mrts\u001b[0m\u001b[1;33m.\u001b[0m\u001b[0mgroupby\u001b[0m\u001b[1;33m(\u001b[0m\u001b[1;33m[\u001b[0m\u001b[1;34m'ref_id'\u001b[0m\u001b[1;33m]\u001b[0m\u001b[1;33m)\u001b[0m\u001b[1;33m.\u001b[0m\u001b[0mapply\u001b[0m\u001b[1;33m(\u001b[0m\u001b[0mnp\u001b[0m\u001b[1;33m.\u001b[0m\u001b[0mmode\u001b[0m\u001b[1;33m)\u001b[0m\u001b[1;33m\u001b[0m\u001b[0m\n\u001b[0m",
      "\u001b[1;31mAttributeError\u001b[0m: 'module' object has no attribute 'mode'"
     ]
    }
   ],
   "source": [
    "\n",
    "check = rts.groupby(['ref_id']).apply(np.mode)"
   ]
  },
  {
   "cell_type": "code",
   "execution_count": 112,
   "metadata": {},
   "outputs": [
    {
     "data": {
      "text/plain": [
       "pandas.core.frame.DataFrame"
      ]
     },
     "execution_count": 112,
     "metadata": {},
     "output_type": "execute_result"
    }
   ],
   "source": [
    "rts_f1 = rts.loc[rts['z1tims'] < 2]\n",
    "mxRt = rts_f1.groupby(['ref_id_side', 'route']).size().reset_index(name='count')\n",
    "mxRt = mxRt.sort_values(by=(['ref_id_side', 'count']))\n",
    "mxRt = mxRt.drop_duplicates('ref_id_side', keep='last')\n",
    "#count = mxRt['ref_id_side']\n",
    "mxRt.head(5)\n",
    "mxRt.to_csv(r\"C:\\Data\\CO_054\\maxRCY.csv\", index=False)\n",
    "type(mxRt)"
   ]
  },
  {
   "cell_type": "code",
   "execution_count": 113,
   "metadata": {},
   "outputs": [
    {
     "data": {
      "text/plain": [
       "2827"
      ]
     },
     "execution_count": 113,
     "metadata": {},
     "output_type": "execute_result"
    }
   ],
   "source": [
    "len(mxRt)"
   ]
  },
  {
   "cell_type": "code",
   "execution_count": 94,
   "metadata": {
    "collapsed": true
   },
   "outputs": [],
   "source": [
    "def get_mode(group):\n",
    "    return group.mode()[0]"
   ]
  },
  {
   "cell_type": "code",
   "execution_count": 95,
   "metadata": {
    "collapsed": true
   },
   "outputs": [],
   "source": [
    "rts_f1 = rts.loc[rts['z1tims'] < 2]\n",
    "merged = rts_f1.merge(rts_f1.groupby(['ref_id_side'])['route'].apply(get_mode).reset_index(), how='left', indicator=True)\n",
    "merged[merged['_merge'] != 'both'].groupby(['ref_id_side', 'route']).size().to_csv(r\"C:\\Data\\CO_054\\noMaxYW.csv\")"
   ]
  },
  {
   "cell_type": "code",
   "execution_count": 96,
   "metadata": {
    "collapsed": true
   },
   "outputs": [],
   "source": [
    "fix = merged[merged['_merge'] != 'both'].groupby(['ref_id_side', 'route']).size()\n"
   ]
  },
  {
   "cell_type": "code",
   "execution_count": 97,
   "metadata": {},
   "outputs": [
    {
     "ename": "NameError",
     "evalue": "name 'mxRts' is not defined",
     "output_type": "error",
     "traceback": [
      "\u001b[1;31m---------------------------------------------------------------------------\u001b[0m",
      "\u001b[1;31mNameError\u001b[0m                                 Traceback (most recent call last)",
      "\u001b[1;32m<ipython-input-97-1871867f1e91>\u001b[0m in \u001b[0;36m<module>\u001b[1;34m()\u001b[0m\n\u001b[1;32m----> 1\u001b[1;33m \u001b[0mfinal\u001b[0m \u001b[1;33m=\u001b[0m \u001b[0mrts\u001b[0m\u001b[1;33m.\u001b[0m\u001b[0mmerge\u001b[0m\u001b[1;33m(\u001b[0m\u001b[0mmxRts\u001b[0m\u001b[1;33m)\u001b[0m\u001b[1;33m\u001b[0m\u001b[0m\n\u001b[0m",
      "\u001b[1;31mNameError\u001b[0m: name 'mxRts' is not defined"
     ]
    }
   ],
   "source": [
    "final = rts.merge(mxRts)"
   ]
  },
  {
   "cell_type": "code",
   "execution_count": 9,
   "metadata": {
    "collapsed": true
   },
   "outputs": [],
   "source": [
    "# Group by BG ID and route to get the count of rount numbers in a block group\n",
    "\n",
    "bgRoute = pd.read_csv(r\"C:\\Data\\Waste_Intervention\\Mountain_View\\AllComs.csv\", low_memory=False)\n",
    "#create series that gets number of route stops in a BG, include route to do a join later as we will be using the route count\n",
    "bg = bgRoute.groupby(['GEOID','Z1COMM','Route']).size().reset_index(name='count')\n",
    "\n",
    "# mkae a dataframe getting the count of stops per commodity in each BG\n",
    "bgCom = bgRoute.groupby(['GEOID','Z1COMM']).size().reset_index(name='count')\n",
    "\n",
    "# create a dateframe that gets a count of the route that can be joined back to the BG table\n",
    "rt = bgRoute.groupby(['Route', 'Z1COMM']).size().reset_index(name='count') \n",
    "\n",
    "bgRt = pd.merge(bg, rt, on = 'Route')\n",
    "bgRtCom = pd.merge(bgRt, bgCom, left_on=(['GEOID','Z1COMM_x']), right_on=(['GEOID', 'Z1COMM']))"
   ]
  },
  {
   "cell_type": "code",
   "execution_count": 10,
   "metadata": {},
   "outputs": [
    {
     "data": {
      "text/html": [
       "<div>\n",
       "<style>\n",
       "    .dataframe thead tr:only-child th {\n",
       "        text-align: right;\n",
       "    }\n",
       "\n",
       "    .dataframe thead th {\n",
       "        text-align: left;\n",
       "    }\n",
       "\n",
       "    .dataframe tbody tr th {\n",
       "        vertical-align: top;\n",
       "    }\n",
       "</style>\n",
       "<table border=\"1\" class=\"dataframe\">\n",
       "  <thead>\n",
       "    <tr style=\"text-align: right;\">\n",
       "      <th></th>\n",
       "      <th>GEOID</th>\n",
       "      <th>Z1COMM_x</th>\n",
       "      <th>Route</th>\n",
       "      <th>count_x</th>\n",
       "      <th>Z1COMM_y</th>\n",
       "      <th>count_y</th>\n",
       "      <th>Z1COMM</th>\n",
       "      <th>count</th>\n",
       "    </tr>\n",
       "  </thead>\n",
       "  <tbody>\n",
       "    <tr>\n",
       "      <th>0</th>\n",
       "      <td>60855046011</td>\n",
       "      <td>G</td>\n",
       "      <td>303X</td>\n",
       "      <td>4</td>\n",
       "      <td>G</td>\n",
       "      <td>622</td>\n",
       "      <td>G</td>\n",
       "      <td>367</td>\n",
       "    </tr>\n",
       "    <tr>\n",
       "      <th>1</th>\n",
       "      <td>60855046011</td>\n",
       "      <td>G</td>\n",
       "      <td>404X</td>\n",
       "      <td>363</td>\n",
       "      <td>G</td>\n",
       "      <td>817</td>\n",
       "      <td>G</td>\n",
       "      <td>367</td>\n",
       "    </tr>\n",
       "    <tr>\n",
       "      <th>2</th>\n",
       "      <td>60855092023</td>\n",
       "      <td>G</td>\n",
       "      <td>303X</td>\n",
       "      <td>148</td>\n",
       "      <td>G</td>\n",
       "      <td>622</td>\n",
       "      <td>G</td>\n",
       "      <td>152</td>\n",
       "    </tr>\n",
       "    <tr>\n",
       "      <th>3</th>\n",
       "      <td>60855092023</td>\n",
       "      <td>G</td>\n",
       "      <td>305X</td>\n",
       "      <td>4</td>\n",
       "      <td>G</td>\n",
       "      <td>725</td>\n",
       "      <td>G</td>\n",
       "      <td>152</td>\n",
       "    </tr>\n",
       "    <tr>\n",
       "      <th>4</th>\n",
       "      <td>60855093031</td>\n",
       "      <td>G</td>\n",
       "      <td>303X</td>\n",
       "      <td>9</td>\n",
       "      <td>G</td>\n",
       "      <td>622</td>\n",
       "      <td>G</td>\n",
       "      <td>162</td>\n",
       "    </tr>\n",
       "  </tbody>\n",
       "</table>\n",
       "</div>"
      ],
      "text/plain": [
       "         GEOID Z1COMM_x Route  count_x Z1COMM_y  count_y Z1COMM  count\n",
       "0  60855046011        G  303X        4        G      622      G    367\n",
       "1  60855046011        G  404X      363        G      817      G    367\n",
       "2  60855092023        G  303X      148        G      622      G    152\n",
       "3  60855092023        G  305X        4        G      725      G    152\n",
       "4  60855093031        G  303X        9        G      622      G    162"
      ]
     },
     "execution_count": 10,
     "metadata": {},
     "output_type": "execute_result"
    }
   ],
   "source": [
    "bgRtCom.head()"
   ]
  },
  {
   "cell_type": "code",
   "execution_count": 11,
   "metadata": {
    "collapsed": true
   },
   "outputs": [],
   "source": [
    "bgRtCom['perRt'] = bgRtCom['count_x'] / bgRtCom['count_y']"
   ]
  },
  {
   "cell_type": "code",
   "execution_count": 12,
   "metadata": {},
   "outputs": [
    {
     "data": {
      "text/html": [
       "<div>\n",
       "<style>\n",
       "    .dataframe thead tr:only-child th {\n",
       "        text-align: right;\n",
       "    }\n",
       "\n",
       "    .dataframe thead th {\n",
       "        text-align: left;\n",
       "    }\n",
       "\n",
       "    .dataframe tbody tr th {\n",
       "        vertical-align: top;\n",
       "    }\n",
       "</style>\n",
       "<table border=\"1\" class=\"dataframe\">\n",
       "  <thead>\n",
       "    <tr style=\"text-align: right;\">\n",
       "      <th></th>\n",
       "      <th>GEOID</th>\n",
       "      <th>Z1COMM_x</th>\n",
       "      <th>Route</th>\n",
       "      <th>count_x</th>\n",
       "      <th>Z1COMM_y</th>\n",
       "      <th>count_y</th>\n",
       "      <th>Z1COMM</th>\n",
       "      <th>count</th>\n",
       "      <th>perRt</th>\n",
       "    </tr>\n",
       "  </thead>\n",
       "  <tbody>\n",
       "    <tr>\n",
       "      <th>0</th>\n",
       "      <td>60855046011</td>\n",
       "      <td>G</td>\n",
       "      <td>303X</td>\n",
       "      <td>4</td>\n",
       "      <td>G</td>\n",
       "      <td>622</td>\n",
       "      <td>G</td>\n",
       "      <td>367</td>\n",
       "      <td>0.006431</td>\n",
       "    </tr>\n",
       "    <tr>\n",
       "      <th>1</th>\n",
       "      <td>60855046011</td>\n",
       "      <td>G</td>\n",
       "      <td>404X</td>\n",
       "      <td>363</td>\n",
       "      <td>G</td>\n",
       "      <td>817</td>\n",
       "      <td>G</td>\n",
       "      <td>367</td>\n",
       "      <td>0.444308</td>\n",
       "    </tr>\n",
       "    <tr>\n",
       "      <th>2</th>\n",
       "      <td>60855092023</td>\n",
       "      <td>G</td>\n",
       "      <td>303X</td>\n",
       "      <td>148</td>\n",
       "      <td>G</td>\n",
       "      <td>622</td>\n",
       "      <td>G</td>\n",
       "      <td>152</td>\n",
       "      <td>0.237942</td>\n",
       "    </tr>\n",
       "    <tr>\n",
       "      <th>3</th>\n",
       "      <td>60855092023</td>\n",
       "      <td>G</td>\n",
       "      <td>305X</td>\n",
       "      <td>4</td>\n",
       "      <td>G</td>\n",
       "      <td>725</td>\n",
       "      <td>G</td>\n",
       "      <td>152</td>\n",
       "      <td>0.005517</td>\n",
       "    </tr>\n",
       "    <tr>\n",
       "      <th>4</th>\n",
       "      <td>60855093031</td>\n",
       "      <td>G</td>\n",
       "      <td>303X</td>\n",
       "      <td>9</td>\n",
       "      <td>G</td>\n",
       "      <td>622</td>\n",
       "      <td>G</td>\n",
       "      <td>162</td>\n",
       "      <td>0.014469</td>\n",
       "    </tr>\n",
       "  </tbody>\n",
       "</table>\n",
       "</div>"
      ],
      "text/plain": [
       "         GEOID Z1COMM_x Route  count_x Z1COMM_y  count_y Z1COMM  count  \\\n",
       "0  60855046011        G  303X        4        G      622      G    367   \n",
       "1  60855046011        G  404X      363        G      817      G    367   \n",
       "2  60855092023        G  303X      148        G      622      G    152   \n",
       "3  60855092023        G  305X        4        G      725      G    152   \n",
       "4  60855093031        G  303X        9        G      622      G    162   \n",
       "\n",
       "      perRt  \n",
       "0  0.006431  \n",
       "1  0.444308  \n",
       "2  0.237942  \n",
       "3  0.005517  \n",
       "4  0.014469  "
      ]
     },
     "execution_count": 12,
     "metadata": {},
     "output_type": "execute_result"
    }
   ],
   "source": [
    "bgRtCom.head()"
   ]
  },
  {
   "cell_type": "code",
   "execution_count": 13,
   "metadata": {},
   "outputs": [
    {
     "data": {
      "text/html": [
       "<div>\n",
       "<style>\n",
       "    .dataframe thead tr:only-child th {\n",
       "        text-align: right;\n",
       "    }\n",
       "\n",
       "    .dataframe thead th {\n",
       "        text-align: left;\n",
       "    }\n",
       "\n",
       "    .dataframe tbody tr th {\n",
       "        vertical-align: top;\n",
       "    }\n",
       "</style>\n",
       "<table border=\"1\" class=\"dataframe\">\n",
       "  <thead>\n",
       "    <tr style=\"text-align: right;\">\n",
       "      <th></th>\n",
       "      <th>Route</th>\n",
       "      <th>Tons</th>\n",
       "    </tr>\n",
       "  </thead>\n",
       "  <tbody>\n",
       "    <tr>\n",
       "      <th>0</th>\n",
       "      <td>101X</td>\n",
       "      <td>4.470000</td>\n",
       "    </tr>\n",
       "    <tr>\n",
       "      <th>1</th>\n",
       "      <td>102X</td>\n",
       "      <td>6.063750</td>\n",
       "    </tr>\n",
       "    <tr>\n",
       "      <th>2</th>\n",
       "      <td>103X</td>\n",
       "      <td>8.566000</td>\n",
       "    </tr>\n",
       "    <tr>\n",
       "      <th>3</th>\n",
       "      <td>104X</td>\n",
       "      <td>7.159412</td>\n",
       "    </tr>\n",
       "    <tr>\n",
       "      <th>4</th>\n",
       "      <td>105X</td>\n",
       "      <td>7.731053</td>\n",
       "    </tr>\n",
       "  </tbody>\n",
       "</table>\n",
       "</div>"
      ],
      "text/plain": [
       "  Route      Tons\n",
       "0  101X  4.470000\n",
       "1  102X  6.063750\n",
       "2  103X  8.566000\n",
       "3  104X  7.159412\n",
       "4  105X  7.731053"
      ]
     },
     "execution_count": 13,
     "metadata": {},
     "output_type": "execute_result"
    }
   ],
   "source": [
    "wt = pd.read_csv(r\"C:\\Data\\Waste_Intervention\\Mountain_View\\Rts_Wts.csv\")\n",
    "wt.head()"
   ]
  },
  {
   "cell_type": "code",
   "execution_count": 14,
   "metadata": {
    "collapsed": true
   },
   "outputs": [],
   "source": [
    "y_raw = pd.merge(bgRtCom, wt, on='Route')"
   ]
  },
  {
   "cell_type": "code",
   "execution_count": 15,
   "metadata": {},
   "outputs": [
    {
     "data": {
      "text/html": [
       "<div>\n",
       "<style>\n",
       "    .dataframe thead tr:only-child th {\n",
       "        text-align: right;\n",
       "    }\n",
       "\n",
       "    .dataframe thead th {\n",
       "        text-align: left;\n",
       "    }\n",
       "\n",
       "    .dataframe tbody tr th {\n",
       "        vertical-align: top;\n",
       "    }\n",
       "</style>\n",
       "<table border=\"1\" class=\"dataframe\">\n",
       "  <thead>\n",
       "    <tr style=\"text-align: right;\">\n",
       "      <th></th>\n",
       "      <th>GEOID</th>\n",
       "      <th>Z1COMM_x</th>\n",
       "      <th>Route</th>\n",
       "      <th>count_x</th>\n",
       "      <th>Z1COMM_y</th>\n",
       "      <th>count_y</th>\n",
       "      <th>Z1COMM</th>\n",
       "      <th>count</th>\n",
       "      <th>perRt</th>\n",
       "      <th>Tons</th>\n",
       "      <th>bgTons</th>\n",
       "    </tr>\n",
       "  </thead>\n",
       "  <tbody>\n",
       "    <tr>\n",
       "      <th>0</th>\n",
       "      <td>60855046011</td>\n",
       "      <td>G</td>\n",
       "      <td>303X</td>\n",
       "      <td>4</td>\n",
       "      <td>G</td>\n",
       "      <td>622</td>\n",
       "      <td>G</td>\n",
       "      <td>367</td>\n",
       "      <td>0.006431</td>\n",
       "      <td>6.764667</td>\n",
       "      <td>0.043503</td>\n",
       "    </tr>\n",
       "    <tr>\n",
       "      <th>1</th>\n",
       "      <td>60855092023</td>\n",
       "      <td>G</td>\n",
       "      <td>303X</td>\n",
       "      <td>148</td>\n",
       "      <td>G</td>\n",
       "      <td>622</td>\n",
       "      <td>G</td>\n",
       "      <td>152</td>\n",
       "      <td>0.237942</td>\n",
       "      <td>6.764667</td>\n",
       "      <td>1.609599</td>\n",
       "    </tr>\n",
       "    <tr>\n",
       "      <th>2</th>\n",
       "      <td>60855093031</td>\n",
       "      <td>G</td>\n",
       "      <td>303X</td>\n",
       "      <td>9</td>\n",
       "      <td>G</td>\n",
       "      <td>622</td>\n",
       "      <td>G</td>\n",
       "      <td>162</td>\n",
       "      <td>0.014469</td>\n",
       "      <td>6.764667</td>\n",
       "      <td>0.097881</td>\n",
       "    </tr>\n",
       "    <tr>\n",
       "      <th>3</th>\n",
       "      <td>60855093041</td>\n",
       "      <td>G</td>\n",
       "      <td>303X</td>\n",
       "      <td>336</td>\n",
       "      <td>G</td>\n",
       "      <td>622</td>\n",
       "      <td>G</td>\n",
       "      <td>337</td>\n",
       "      <td>0.540193</td>\n",
       "      <td>6.764667</td>\n",
       "      <td>3.654225</td>\n",
       "    </tr>\n",
       "    <tr>\n",
       "      <th>4</th>\n",
       "      <td>60855093042</td>\n",
       "      <td>G</td>\n",
       "      <td>303X</td>\n",
       "      <td>115</td>\n",
       "      <td>G</td>\n",
       "      <td>622</td>\n",
       "      <td>G</td>\n",
       "      <td>115</td>\n",
       "      <td>0.184887</td>\n",
       "      <td>6.764667</td>\n",
       "      <td>1.250702</td>\n",
       "    </tr>\n",
       "  </tbody>\n",
       "</table>\n",
       "</div>"
      ],
      "text/plain": [
       "         GEOID Z1COMM_x Route  count_x Z1COMM_y  count_y Z1COMM  count  \\\n",
       "0  60855046011        G  303X        4        G      622      G    367   \n",
       "1  60855092023        G  303X      148        G      622      G    152   \n",
       "2  60855093031        G  303X        9        G      622      G    162   \n",
       "3  60855093041        G  303X      336        G      622      G    337   \n",
       "4  60855093042        G  303X      115        G      622      G    115   \n",
       "\n",
       "      perRt      Tons    bgTons  \n",
       "0  0.006431  6.764667  0.043503  \n",
       "1  0.237942  6.764667  1.609599  \n",
       "2  0.014469  6.764667  0.097881  \n",
       "3  0.540193  6.764667  3.654225  \n",
       "4  0.184887  6.764667  1.250702  "
      ]
     },
     "execution_count": 15,
     "metadata": {},
     "output_type": "execute_result"
    }
   ],
   "source": [
    "\n",
    "y_raw['bgTons'] = y_raw['perRt'] * y_raw['Tons']\n",
    "y_raw.head()"
   ]
  },
  {
   "cell_type": "code",
   "execution_count": 16,
   "metadata": {
    "collapsed": true
   },
   "outputs": [],
   "source": [
    "y_con = y_raw.groupby(['GEOID', 'Z1COMM_x'])[['bgTons']].sum().reset_index()"
   ]
  },
  {
   "cell_type": "code",
   "execution_count": 17,
   "metadata": {
    "collapsed": true
   },
   "outputs": [],
   "source": [
    "y_G = y_con[y_con['Z1COMM_x'] == 'G']\n",
    "y_O = y_con[y_con['Z1COMM_x'] == 'O']\n",
    "y_R = y_con[y_con['Z1COMM_x'] == 'R']"
   ]
  },
  {
   "cell_type": "code",
   "execution_count": 18,
   "metadata": {},
   "outputs": [
    {
     "data": {
      "text/html": [
       "<div>\n",
       "<style>\n",
       "    .dataframe thead tr:only-child th {\n",
       "        text-align: right;\n",
       "    }\n",
       "\n",
       "    .dataframe thead th {\n",
       "        text-align: left;\n",
       "    }\n",
       "\n",
       "    .dataframe tbody tr th {\n",
       "        vertical-align: top;\n",
       "    }\n",
       "</style>\n",
       "<table border=\"1\" class=\"dataframe\">\n",
       "  <thead>\n",
       "    <tr style=\"text-align: right;\">\n",
       "      <th></th>\n",
       "      <th>GEOID</th>\n",
       "      <th>Z1COMM_x</th>\n",
       "      <th>bgTons</th>\n",
       "    </tr>\n",
       "  </thead>\n",
       "  <tbody>\n",
       "    <tr>\n",
       "      <th>0</th>\n",
       "      <td>60855046011</td>\n",
       "      <td>G</td>\n",
       "      <td>3.417532</td>\n",
       "    </tr>\n",
       "    <tr>\n",
       "      <th>3</th>\n",
       "      <td>60855091051</td>\n",
       "      <td>G</td>\n",
       "      <td>6.038411</td>\n",
       "    </tr>\n",
       "    <tr>\n",
       "      <th>6</th>\n",
       "      <td>60855091052</td>\n",
       "      <td>G</td>\n",
       "      <td>2.820326</td>\n",
       "    </tr>\n",
       "    <tr>\n",
       "      <th>9</th>\n",
       "      <td>60855091053</td>\n",
       "      <td>G</td>\n",
       "      <td>3.001942</td>\n",
       "    </tr>\n",
       "    <tr>\n",
       "      <th>12</th>\n",
       "      <td>60855091081</td>\n",
       "      <td>G</td>\n",
       "      <td>1.776370</td>\n",
       "    </tr>\n",
       "  </tbody>\n",
       "</table>\n",
       "</div>"
      ],
      "text/plain": [
       "          GEOID Z1COMM_x    bgTons\n",
       "0   60855046011        G  3.417532\n",
       "3   60855091051        G  6.038411\n",
       "6   60855091052        G  2.820326\n",
       "9   60855091053        G  3.001942\n",
       "12  60855091081        G  1.776370"
      ]
     },
     "execution_count": 18,
     "metadata": {},
     "output_type": "execute_result"
    }
   ],
   "source": [
    "y_G.head()"
   ]
  },
  {
   "cell_type": "code",
   "execution_count": 19,
   "metadata": {
    "collapsed": true
   },
   "outputs": [],
   "source": [
    "y_GO = pd.merge(y_G, y_O, on='GEOID')"
   ]
  },
  {
   "cell_type": "code",
   "execution_count": 20,
   "metadata": {},
   "outputs": [
    {
     "data": {
      "text/html": [
       "<div>\n",
       "<style>\n",
       "    .dataframe thead tr:only-child th {\n",
       "        text-align: right;\n",
       "    }\n",
       "\n",
       "    .dataframe thead th {\n",
       "        text-align: left;\n",
       "    }\n",
       "\n",
       "    .dataframe tbody tr th {\n",
       "        vertical-align: top;\n",
       "    }\n",
       "</style>\n",
       "<table border=\"1\" class=\"dataframe\">\n",
       "  <thead>\n",
       "    <tr style=\"text-align: right;\">\n",
       "      <th></th>\n",
       "      <th>GEOID</th>\n",
       "      <th>Z1COMM_x_x</th>\n",
       "      <th>bgTons_x</th>\n",
       "      <th>Z1COMM_x_y</th>\n",
       "      <th>bgTons_y</th>\n",
       "    </tr>\n",
       "  </thead>\n",
       "  <tbody>\n",
       "    <tr>\n",
       "      <th>0</th>\n",
       "      <td>60855046011</td>\n",
       "      <td>G</td>\n",
       "      <td>3.417532</td>\n",
       "      <td>O</td>\n",
       "      <td>2.715642</td>\n",
       "    </tr>\n",
       "    <tr>\n",
       "      <th>1</th>\n",
       "      <td>60855091051</td>\n",
       "      <td>G</td>\n",
       "      <td>6.038411</td>\n",
       "      <td>O</td>\n",
       "      <td>3.142073</td>\n",
       "    </tr>\n",
       "    <tr>\n",
       "      <th>2</th>\n",
       "      <td>60855091052</td>\n",
       "      <td>G</td>\n",
       "      <td>2.820326</td>\n",
       "      <td>O</td>\n",
       "      <td>2.109063</td>\n",
       "    </tr>\n",
       "    <tr>\n",
       "      <th>3</th>\n",
       "      <td>60855091053</td>\n",
       "      <td>G</td>\n",
       "      <td>3.001942</td>\n",
       "      <td>O</td>\n",
       "      <td>1.826215</td>\n",
       "    </tr>\n",
       "    <tr>\n",
       "      <th>4</th>\n",
       "      <td>60855091081</td>\n",
       "      <td>G</td>\n",
       "      <td>1.776370</td>\n",
       "      <td>O</td>\n",
       "      <td>1.170674</td>\n",
       "    </tr>\n",
       "  </tbody>\n",
       "</table>\n",
       "</div>"
      ],
      "text/plain": [
       "         GEOID Z1COMM_x_x  bgTons_x Z1COMM_x_y  bgTons_y\n",
       "0  60855046011          G  3.417532          O  2.715642\n",
       "1  60855091051          G  6.038411          O  3.142073\n",
       "2  60855091052          G  2.820326          O  2.109063\n",
       "3  60855091053          G  3.001942          O  1.826215\n",
       "4  60855091081          G  1.776370          O  1.170674"
      ]
     },
     "execution_count": 20,
     "metadata": {},
     "output_type": "execute_result"
    }
   ],
   "source": [
    "y_GO.head()# y =  pd.merge(y_GO, y_R, on='GEOID')"
   ]
  },
  {
   "cell_type": "code",
   "execution_count": 21,
   "metadata": {
    "collapsed": true
   },
   "outputs": [],
   "source": [
    " y =  pd.merge(y_GO, y_R, on='GEOID')"
   ]
  },
  {
   "cell_type": "code",
   "execution_count": 22,
   "metadata": {},
   "outputs": [
    {
     "data": {
      "text/html": [
       "<div>\n",
       "<style>\n",
       "    .dataframe thead tr:only-child th {\n",
       "        text-align: right;\n",
       "    }\n",
       "\n",
       "    .dataframe thead th {\n",
       "        text-align: left;\n",
       "    }\n",
       "\n",
       "    .dataframe tbody tr th {\n",
       "        vertical-align: top;\n",
       "    }\n",
       "</style>\n",
       "<table border=\"1\" class=\"dataframe\">\n",
       "  <thead>\n",
       "    <tr style=\"text-align: right;\">\n",
       "      <th></th>\n",
       "      <th>GEOID</th>\n",
       "      <th>Z1COMM_x_x</th>\n",
       "      <th>bgTons_x</th>\n",
       "      <th>Z1COMM_x_y</th>\n",
       "      <th>bgTons_y</th>\n",
       "      <th>Z1COMM_x</th>\n",
       "      <th>bgTons</th>\n",
       "    </tr>\n",
       "  </thead>\n",
       "  <tbody>\n",
       "    <tr>\n",
       "      <th>0</th>\n",
       "      <td>60855046011</td>\n",
       "      <td>G</td>\n",
       "      <td>3.417532</td>\n",
       "      <td>O</td>\n",
       "      <td>2.715642</td>\n",
       "      <td>R</td>\n",
       "      <td>1.419062</td>\n",
       "    </tr>\n",
       "    <tr>\n",
       "      <th>1</th>\n",
       "      <td>60855091051</td>\n",
       "      <td>G</td>\n",
       "      <td>6.038411</td>\n",
       "      <td>O</td>\n",
       "      <td>3.142073</td>\n",
       "      <td>R</td>\n",
       "      <td>3.062613</td>\n",
       "    </tr>\n",
       "    <tr>\n",
       "      <th>2</th>\n",
       "      <td>60855091052</td>\n",
       "      <td>G</td>\n",
       "      <td>2.820326</td>\n",
       "      <td>O</td>\n",
       "      <td>2.109063</td>\n",
       "      <td>R</td>\n",
       "      <td>1.794390</td>\n",
       "    </tr>\n",
       "    <tr>\n",
       "      <th>3</th>\n",
       "      <td>60855091053</td>\n",
       "      <td>G</td>\n",
       "      <td>3.001942</td>\n",
       "      <td>O</td>\n",
       "      <td>1.826215</td>\n",
       "      <td>R</td>\n",
       "      <td>1.100159</td>\n",
       "    </tr>\n",
       "    <tr>\n",
       "      <th>4</th>\n",
       "      <td>60855091081</td>\n",
       "      <td>G</td>\n",
       "      <td>1.776370</td>\n",
       "      <td>O</td>\n",
       "      <td>1.170674</td>\n",
       "      <td>R</td>\n",
       "      <td>0.488146</td>\n",
       "    </tr>\n",
       "  </tbody>\n",
       "</table>\n",
       "</div>"
      ],
      "text/plain": [
       "         GEOID Z1COMM_x_x  bgTons_x Z1COMM_x_y  bgTons_y Z1COMM_x    bgTons\n",
       "0  60855046011          G  3.417532          O  2.715642        R  1.419062\n",
       "1  60855091051          G  6.038411          O  3.142073        R  3.062613\n",
       "2  60855091052          G  2.820326          O  2.109063        R  1.794390\n",
       "3  60855091053          G  3.001942          O  1.826215        R  1.100159\n",
       "4  60855091081          G  1.776370          O  1.170674        R  0.488146"
      ]
     },
     "execution_count": 22,
     "metadata": {},
     "output_type": "execute_result"
    }
   ],
   "source": [
    "y.head()"
   ]
  },
  {
   "cell_type": "code",
   "execution_count": 23,
   "metadata": {
    "collapsed": true
   },
   "outputs": [],
   "source": [
    "y['totalWaste'] = y['bgTons_x'] + y['bgTons_y'] + y['bgTons']"
   ]
  },
  {
   "cell_type": "code",
   "execution_count": 24,
   "metadata": {},
   "outputs": [
    {
     "data": {
      "text/html": [
       "<div>\n",
       "<style>\n",
       "    .dataframe thead tr:only-child th {\n",
       "        text-align: right;\n",
       "    }\n",
       "\n",
       "    .dataframe thead th {\n",
       "        text-align: left;\n",
       "    }\n",
       "\n",
       "    .dataframe tbody tr th {\n",
       "        vertical-align: top;\n",
       "    }\n",
       "</style>\n",
       "<table border=\"1\" class=\"dataframe\">\n",
       "  <thead>\n",
       "    <tr style=\"text-align: right;\">\n",
       "      <th></th>\n",
       "      <th>GEOID</th>\n",
       "      <th>Z1COMM_x_x</th>\n",
       "      <th>bgTons_x</th>\n",
       "      <th>Z1COMM_x_y</th>\n",
       "      <th>bgTons_y</th>\n",
       "      <th>Z1COMM_x</th>\n",
       "      <th>bgTons</th>\n",
       "      <th>totalWaste</th>\n",
       "    </tr>\n",
       "  </thead>\n",
       "  <tbody>\n",
       "    <tr>\n",
       "      <th>0</th>\n",
       "      <td>60855046011</td>\n",
       "      <td>G</td>\n",
       "      <td>3.417532</td>\n",
       "      <td>O</td>\n",
       "      <td>2.715642</td>\n",
       "      <td>R</td>\n",
       "      <td>1.419062</td>\n",
       "      <td>7.552236</td>\n",
       "    </tr>\n",
       "    <tr>\n",
       "      <th>1</th>\n",
       "      <td>60855091051</td>\n",
       "      <td>G</td>\n",
       "      <td>6.038411</td>\n",
       "      <td>O</td>\n",
       "      <td>3.142073</td>\n",
       "      <td>R</td>\n",
       "      <td>3.062613</td>\n",
       "      <td>12.243097</td>\n",
       "    </tr>\n",
       "    <tr>\n",
       "      <th>2</th>\n",
       "      <td>60855091052</td>\n",
       "      <td>G</td>\n",
       "      <td>2.820326</td>\n",
       "      <td>O</td>\n",
       "      <td>2.109063</td>\n",
       "      <td>R</td>\n",
       "      <td>1.794390</td>\n",
       "      <td>6.723779</td>\n",
       "    </tr>\n",
       "    <tr>\n",
       "      <th>3</th>\n",
       "      <td>60855091053</td>\n",
       "      <td>G</td>\n",
       "      <td>3.001942</td>\n",
       "      <td>O</td>\n",
       "      <td>1.826215</td>\n",
       "      <td>R</td>\n",
       "      <td>1.100159</td>\n",
       "      <td>5.928316</td>\n",
       "    </tr>\n",
       "    <tr>\n",
       "      <th>4</th>\n",
       "      <td>60855091081</td>\n",
       "      <td>G</td>\n",
       "      <td>1.776370</td>\n",
       "      <td>O</td>\n",
       "      <td>1.170674</td>\n",
       "      <td>R</td>\n",
       "      <td>0.488146</td>\n",
       "      <td>3.435189</td>\n",
       "    </tr>\n",
       "  </tbody>\n",
       "</table>\n",
       "</div>"
      ],
      "text/plain": [
       "         GEOID Z1COMM_x_x  bgTons_x Z1COMM_x_y  bgTons_y Z1COMM_x    bgTons  \\\n",
       "0  60855046011          G  3.417532          O  2.715642        R  1.419062   \n",
       "1  60855091051          G  6.038411          O  3.142073        R  3.062613   \n",
       "2  60855091052          G  2.820326          O  2.109063        R  1.794390   \n",
       "3  60855091053          G  3.001942          O  1.826215        R  1.100159   \n",
       "4  60855091081          G  1.776370          O  1.170674        R  0.488146   \n",
       "\n",
       "   totalWaste  \n",
       "0    7.552236  \n",
       "1   12.243097  \n",
       "2    6.723779  \n",
       "3    5.928316  \n",
       "4    3.435189  "
      ]
     },
     "execution_count": 24,
     "metadata": {},
     "output_type": "execute_result"
    }
   ],
   "source": [
    "y.head()"
   ]
  },
  {
   "cell_type": "code",
   "execution_count": 25,
   "metadata": {
    "collapsed": true
   },
   "outputs": [],
   "source": [
    "y['nonLF'] = y['totalWaste'] - y['bgTons_x']"
   ]
  },
  {
   "cell_type": "code",
   "execution_count": 26,
   "metadata": {},
   "outputs": [
    {
     "data": {
      "text/html": [
       "<div>\n",
       "<style>\n",
       "    .dataframe thead tr:only-child th {\n",
       "        text-align: right;\n",
       "    }\n",
       "\n",
       "    .dataframe thead th {\n",
       "        text-align: left;\n",
       "    }\n",
       "\n",
       "    .dataframe tbody tr th {\n",
       "        vertical-align: top;\n",
       "    }\n",
       "</style>\n",
       "<table border=\"1\" class=\"dataframe\">\n",
       "  <thead>\n",
       "    <tr style=\"text-align: right;\">\n",
       "      <th></th>\n",
       "      <th>GEOID</th>\n",
       "      <th>Z1COMM_x_x</th>\n",
       "      <th>bgTons_x</th>\n",
       "      <th>Z1COMM_x_y</th>\n",
       "      <th>bgTons_y</th>\n",
       "      <th>Z1COMM_x</th>\n",
       "      <th>bgTons</th>\n",
       "      <th>totalWaste</th>\n",
       "      <th>nonLF</th>\n",
       "    </tr>\n",
       "  </thead>\n",
       "  <tbody>\n",
       "    <tr>\n",
       "      <th>0</th>\n",
       "      <td>60855046011</td>\n",
       "      <td>G</td>\n",
       "      <td>3.417532</td>\n",
       "      <td>O</td>\n",
       "      <td>2.715642</td>\n",
       "      <td>R</td>\n",
       "      <td>1.419062</td>\n",
       "      <td>7.552236</td>\n",
       "      <td>4.134705</td>\n",
       "    </tr>\n",
       "    <tr>\n",
       "      <th>1</th>\n",
       "      <td>60855091051</td>\n",
       "      <td>G</td>\n",
       "      <td>6.038411</td>\n",
       "      <td>O</td>\n",
       "      <td>3.142073</td>\n",
       "      <td>R</td>\n",
       "      <td>3.062613</td>\n",
       "      <td>12.243097</td>\n",
       "      <td>6.204686</td>\n",
       "    </tr>\n",
       "    <tr>\n",
       "      <th>2</th>\n",
       "      <td>60855091052</td>\n",
       "      <td>G</td>\n",
       "      <td>2.820326</td>\n",
       "      <td>O</td>\n",
       "      <td>2.109063</td>\n",
       "      <td>R</td>\n",
       "      <td>1.794390</td>\n",
       "      <td>6.723779</td>\n",
       "      <td>3.903453</td>\n",
       "    </tr>\n",
       "    <tr>\n",
       "      <th>3</th>\n",
       "      <td>60855091053</td>\n",
       "      <td>G</td>\n",
       "      <td>3.001942</td>\n",
       "      <td>O</td>\n",
       "      <td>1.826215</td>\n",
       "      <td>R</td>\n",
       "      <td>1.100159</td>\n",
       "      <td>5.928316</td>\n",
       "      <td>2.926374</td>\n",
       "    </tr>\n",
       "    <tr>\n",
       "      <th>4</th>\n",
       "      <td>60855091081</td>\n",
       "      <td>G</td>\n",
       "      <td>1.776370</td>\n",
       "      <td>O</td>\n",
       "      <td>1.170674</td>\n",
       "      <td>R</td>\n",
       "      <td>0.488146</td>\n",
       "      <td>3.435189</td>\n",
       "      <td>1.658820</td>\n",
       "    </tr>\n",
       "  </tbody>\n",
       "</table>\n",
       "</div>"
      ],
      "text/plain": [
       "         GEOID Z1COMM_x_x  bgTons_x Z1COMM_x_y  bgTons_y Z1COMM_x    bgTons  \\\n",
       "0  60855046011          G  3.417532          O  2.715642        R  1.419062   \n",
       "1  60855091051          G  6.038411          O  3.142073        R  3.062613   \n",
       "2  60855091052          G  2.820326          O  2.109063        R  1.794390   \n",
       "3  60855091053          G  3.001942          O  1.826215        R  1.100159   \n",
       "4  60855091081          G  1.776370          O  1.170674        R  0.488146   \n",
       "\n",
       "   totalWaste     nonLF  \n",
       "0    7.552236  4.134705  \n",
       "1   12.243097  6.204686  \n",
       "2    6.723779  3.903453  \n",
       "3    5.928316  2.926374  \n",
       "4    3.435189  1.658820  "
      ]
     },
     "execution_count": 26,
     "metadata": {},
     "output_type": "execute_result"
    }
   ],
   "source": [
    "y.head()"
   ]
  },
  {
   "cell_type": "code",
   "execution_count": 27,
   "metadata": {
    "collapsed": true
   },
   "outputs": [],
   "source": [
    "y['per_NLF'] = y['nonLF']/y['totalWaste']"
   ]
  },
  {
   "cell_type": "code",
   "execution_count": 28,
   "metadata": {},
   "outputs": [
    {
     "data": {
      "text/html": [
       "<div>\n",
       "<style>\n",
       "    .dataframe thead tr:only-child th {\n",
       "        text-align: right;\n",
       "    }\n",
       "\n",
       "    .dataframe thead th {\n",
       "        text-align: left;\n",
       "    }\n",
       "\n",
       "    .dataframe tbody tr th {\n",
       "        vertical-align: top;\n",
       "    }\n",
       "</style>\n",
       "<table border=\"1\" class=\"dataframe\">\n",
       "  <thead>\n",
       "    <tr style=\"text-align: right;\">\n",
       "      <th></th>\n",
       "      <th>GEOID</th>\n",
       "      <th>Z1COMM_x_x</th>\n",
       "      <th>bgTons_x</th>\n",
       "      <th>Z1COMM_x_y</th>\n",
       "      <th>bgTons_y</th>\n",
       "      <th>Z1COMM_x</th>\n",
       "      <th>bgTons</th>\n",
       "      <th>totalWaste</th>\n",
       "      <th>nonLF</th>\n",
       "      <th>per_NLF</th>\n",
       "    </tr>\n",
       "  </thead>\n",
       "  <tbody>\n",
       "    <tr>\n",
       "      <th>0</th>\n",
       "      <td>60855046011</td>\n",
       "      <td>G</td>\n",
       "      <td>3.417532</td>\n",
       "      <td>O</td>\n",
       "      <td>2.715642</td>\n",
       "      <td>R</td>\n",
       "      <td>1.419062</td>\n",
       "      <td>7.552236</td>\n",
       "      <td>4.134705</td>\n",
       "      <td>0.547481</td>\n",
       "    </tr>\n",
       "    <tr>\n",
       "      <th>1</th>\n",
       "      <td>60855091051</td>\n",
       "      <td>G</td>\n",
       "      <td>6.038411</td>\n",
       "      <td>O</td>\n",
       "      <td>3.142073</td>\n",
       "      <td>R</td>\n",
       "      <td>3.062613</td>\n",
       "      <td>12.243097</td>\n",
       "      <td>6.204686</td>\n",
       "      <td>0.506791</td>\n",
       "    </tr>\n",
       "    <tr>\n",
       "      <th>2</th>\n",
       "      <td>60855091052</td>\n",
       "      <td>G</td>\n",
       "      <td>2.820326</td>\n",
       "      <td>O</td>\n",
       "      <td>2.109063</td>\n",
       "      <td>R</td>\n",
       "      <td>1.794390</td>\n",
       "      <td>6.723779</td>\n",
       "      <td>3.903453</td>\n",
       "      <td>0.580545</td>\n",
       "    </tr>\n",
       "    <tr>\n",
       "      <th>3</th>\n",
       "      <td>60855091053</td>\n",
       "      <td>G</td>\n",
       "      <td>3.001942</td>\n",
       "      <td>O</td>\n",
       "      <td>1.826215</td>\n",
       "      <td>R</td>\n",
       "      <td>1.100159</td>\n",
       "      <td>5.928316</td>\n",
       "      <td>2.926374</td>\n",
       "      <td>0.493627</td>\n",
       "    </tr>\n",
       "    <tr>\n",
       "      <th>4</th>\n",
       "      <td>60855091081</td>\n",
       "      <td>G</td>\n",
       "      <td>1.776370</td>\n",
       "      <td>O</td>\n",
       "      <td>1.170674</td>\n",
       "      <td>R</td>\n",
       "      <td>0.488146</td>\n",
       "      <td>3.435189</td>\n",
       "      <td>1.658820</td>\n",
       "      <td>0.482890</td>\n",
       "    </tr>\n",
       "  </tbody>\n",
       "</table>\n",
       "</div>"
      ],
      "text/plain": [
       "         GEOID Z1COMM_x_x  bgTons_x Z1COMM_x_y  bgTons_y Z1COMM_x    bgTons  \\\n",
       "0  60855046011          G  3.417532          O  2.715642        R  1.419062   \n",
       "1  60855091051          G  6.038411          O  3.142073        R  3.062613   \n",
       "2  60855091052          G  2.820326          O  2.109063        R  1.794390   \n",
       "3  60855091053          G  3.001942          O  1.826215        R  1.100159   \n",
       "4  60855091081          G  1.776370          O  1.170674        R  0.488146   \n",
       "\n",
       "   totalWaste     nonLF   per_NLF  \n",
       "0    7.552236  4.134705  0.547481  \n",
       "1   12.243097  6.204686  0.506791  \n",
       "2    6.723779  3.903453  0.580545  \n",
       "3    5.928316  2.926374  0.493627  \n",
       "4    3.435189  1.658820  0.482890  "
      ]
     },
     "execution_count": 28,
     "metadata": {},
     "output_type": "execute_result"
    }
   ],
   "source": [
    "y.head()"
   ]
  },
  {
   "cell_type": "code",
   "execution_count": 33,
   "metadata": {},
   "outputs": [
    {
     "data": {
      "text/html": [
       "<div>\n",
       "<style>\n",
       "    .dataframe thead tr:only-child th {\n",
       "        text-align: right;\n",
       "    }\n",
       "\n",
       "    .dataframe thead th {\n",
       "        text-align: left;\n",
       "    }\n",
       "\n",
       "    .dataframe tbody tr th {\n",
       "        vertical-align: top;\n",
       "    }\n",
       "</style>\n",
       "<table border=\"1\" class=\"dataframe\">\n",
       "  <thead>\n",
       "    <tr style=\"text-align: right;\">\n",
       "      <th></th>\n",
       "      <th>Id2</th>\n",
       "      <th>med_hh_inc</th>\n",
       "      <th>med_age</th>\n",
       "      <th>p_vacant</th>\n",
       "      <th>avg_hh_size</th>\n",
       "      <th>p_renters</th>\n",
       "      <th>p_r1000_plus</th>\n",
       "      <th>p_ccasian</th>\n",
       "      <th>p_phh_ba</th>\n",
       "      <th>p_phh_stem</th>\n",
       "      <th>p_phh_biz</th>\n",
       "      <th>p_phh_ed</th>\n",
       "      <th>p_phh_hum</th>\n",
       "      <th>p_nonfam_hh</th>\n",
       "      <th>p_apt</th>\n",
       "    </tr>\n",
       "  </thead>\n",
       "  <tbody>\n",
       "    <tr>\n",
       "      <th>0</th>\n",
       "      <td>60855001001</td>\n",
       "      <td>59118.0</td>\n",
       "      <td>27.2</td>\n",
       "      <td>0.000000</td>\n",
       "      <td>3.10</td>\n",
       "      <td>0.673423</td>\n",
       "      <td>0.611888</td>\n",
       "      <td>0.332618</td>\n",
       "      <td>0.671329</td>\n",
       "      <td>0.307692</td>\n",
       "      <td>0.132867</td>\n",
       "      <td>0.000000</td>\n",
       "      <td>0.230769</td>\n",
       "      <td>0.391608</td>\n",
       "      <td>0.293706</td>\n",
       "    </tr>\n",
       "    <tr>\n",
       "      <th>1</th>\n",
       "      <td>60855001002</td>\n",
       "      <td>110714.0</td>\n",
       "      <td>33.7</td>\n",
       "      <td>0.000000</td>\n",
       "      <td>2.84</td>\n",
       "      <td>0.677642</td>\n",
       "      <td>0.468373</td>\n",
       "      <td>0.205062</td>\n",
       "      <td>0.862952</td>\n",
       "      <td>0.554217</td>\n",
       "      <td>0.147590</td>\n",
       "      <td>0.021084</td>\n",
       "      <td>0.140060</td>\n",
       "      <td>0.343373</td>\n",
       "      <td>0.218373</td>\n",
       "    </tr>\n",
       "    <tr>\n",
       "      <th>2</th>\n",
       "      <td>60855001003</td>\n",
       "      <td>62730.0</td>\n",
       "      <td>26.9</td>\n",
       "      <td>0.000000</td>\n",
       "      <td>4.67</td>\n",
       "      <td>0.618702</td>\n",
       "      <td>0.577540</td>\n",
       "      <td>0.279008</td>\n",
       "      <td>0.641711</td>\n",
       "      <td>0.370766</td>\n",
       "      <td>0.149733</td>\n",
       "      <td>0.030303</td>\n",
       "      <td>0.090909</td>\n",
       "      <td>0.351159</td>\n",
       "      <td>0.229947</td>\n",
       "    </tr>\n",
       "    <tr>\n",
       "      <th>3</th>\n",
       "      <td>60855001004</td>\n",
       "      <td>85648.0</td>\n",
       "      <td>34.1</td>\n",
       "      <td>0.100679</td>\n",
       "      <td>2.64</td>\n",
       "      <td>0.674658</td>\n",
       "      <td>0.533937</td>\n",
       "      <td>0.323202</td>\n",
       "      <td>0.803167</td>\n",
       "      <td>0.437783</td>\n",
       "      <td>0.138009</td>\n",
       "      <td>0.011312</td>\n",
       "      <td>0.216063</td>\n",
       "      <td>0.420814</td>\n",
       "      <td>0.489819</td>\n",
       "    </tr>\n",
       "    <tr>\n",
       "      <th>4</th>\n",
       "      <td>60855002001</td>\n",
       "      <td>103265.0</td>\n",
       "      <td>30.6</td>\n",
       "      <td>0.028517</td>\n",
       "      <td>2.71</td>\n",
       "      <td>0.570927</td>\n",
       "      <td>0.509506</td>\n",
       "      <td>0.507653</td>\n",
       "      <td>0.994297</td>\n",
       "      <td>0.610266</td>\n",
       "      <td>0.057034</td>\n",
       "      <td>0.022814</td>\n",
       "      <td>0.304183</td>\n",
       "      <td>0.513308</td>\n",
       "      <td>0.281369</td>\n",
       "    </tr>\n",
       "  </tbody>\n",
       "</table>\n",
       "</div>"
      ],
      "text/plain": [
       "           Id2  med_hh_inc  med_age  p_vacant  avg_hh_size  p_renters  \\\n",
       "0  60855001001     59118.0     27.2  0.000000         3.10   0.673423   \n",
       "1  60855001002    110714.0     33.7  0.000000         2.84   0.677642   \n",
       "2  60855001003     62730.0     26.9  0.000000         4.67   0.618702   \n",
       "3  60855001004     85648.0     34.1  0.100679         2.64   0.674658   \n",
       "4  60855002001    103265.0     30.6  0.028517         2.71   0.570927   \n",
       "\n",
       "   p_r1000_plus  p_ccasian  p_phh_ba  p_phh_stem  p_phh_biz  p_phh_ed  \\\n",
       "0      0.611888   0.332618  0.671329    0.307692   0.132867  0.000000   \n",
       "1      0.468373   0.205062  0.862952    0.554217   0.147590  0.021084   \n",
       "2      0.577540   0.279008  0.641711    0.370766   0.149733  0.030303   \n",
       "3      0.533937   0.323202  0.803167    0.437783   0.138009  0.011312   \n",
       "4      0.509506   0.507653  0.994297    0.610266   0.057034  0.022814   \n",
       "\n",
       "   p_phh_hum  p_nonfam_hh     p_apt  \n",
       "0   0.230769     0.391608  0.293706  \n",
       "1   0.140060     0.343373  0.218373  \n",
       "2   0.090909     0.351159  0.229947  \n",
       "3   0.216063     0.420814  0.489819  \n",
       "4   0.304183     0.513308  0.281369  "
      ]
     },
     "execution_count": 33,
     "metadata": {},
     "output_type": "execute_result"
    }
   ],
   "source": [
    "x = pd.read_csv(r\"C:\\Data\\Waste_Intervention\\Mountain_View\\census_merged_3.csv\")\n",
    "x.head()"
   ]
  },
  {
   "cell_type": "code",
   "execution_count": 34,
   "metadata": {},
   "outputs": [],
   "source": [
    "div_rate = pd.merge(x, y, right_on='GEOID', left_on='Id2')\n",
    "\n",
    "div_rate.to_csv(r\"C:\\Data\\Waste_Intervention\\Mountain_View\\div_rate_all.csv\")"
   ]
  },
  {
   "cell_type": "code",
   "execution_count": 98,
   "metadata": {},
   "outputs": [
    {
     "data": {
      "text/plain": [
       "count    56.000000\n",
       "mean      0.509190\n",
       "std       0.070802\n",
       "min       0.268017\n",
       "25%       0.474059\n",
       "50%       0.506763\n",
       "75%       0.566571\n",
       "max       0.613565\n",
       "Name: per_NLF, dtype: float64"
      ]
     },
     "execution_count": 98,
     "metadata": {},
     "output_type": "execute_result"
    }
   ],
   "source": [
    "df = pd.read_csv(r\"C:\\Data\\Waste_Intervention\\Mountain_View\\div_rate_all.csv\")\n",
    "df['per_NLF'].describe()\n"
   ]
  },
  {
   "cell_type": "code",
   "execution_count": 100,
   "metadata": {},
   "outputs": [
    {
     "data": {
      "text/plain": [
       "<matplotlib.axes._subplots.AxesSubplot at 0x25288e10>"
      ]
     },
     "execution_count": 100,
     "metadata": {},
     "output_type": "execute_result"
    },
    {
     "data": {
      "image/png": "[encoded data removed]",
      "text/plain": [
       "<matplotlib.figure.Figure at 0x55f5afd0>"
      ]
     },
     "metadata": {},
     "output_type": "display_data"
    }
   ],
   "source": [
    "df.boxplot('per_NLF')"
   ]
  },
  {
   "cell_type": "code",
   "execution_count": 47,
   "metadata": {
    "collapsed": true
   },
   "outputs": [],
   "source": [
    "import matplotlib.pyplot as plt\n",
    "import seaborn as sns\n",
    "%matplotlib inline\n",
    "\n",
    "import re\n",
    "\n",
    "from sklearn.model_selection import cross_val_score\n",
    "from sklearn import (\n",
    "    metrics, \n",
    "    linear_model, \n",
    "    ensemble,\n",
    "    neighbors,\n",
    ")\n",
    "\n",
    "from sklearn.linear_model import LinearRegression\n",
    "from sklearn.model_selection import train_test_split\n",
    "from sklearn import feature_selection"
   ]
  },
  {
   "cell_type": "code",
   "execution_count": 49,
   "metadata": {},
   "outputs": [
    {
     "data": {
      "text/plain": [
       "<matplotlib.axes._subplots.AxesSubplot at 0xd899438>"
      ]
     },
     "execution_count": 49,
     "metadata": {},
     "output_type": "execute_result"
    },
    {
     "data": {
      "image/png": "[encoded data removed]",
      "text/plain": [
       "<matplotlib.figure.Figure at 0xd77a588>"
      ]
     },
     "metadata": {},
     "output_type": "display_data"
    }
   ],
   "source": [
    "fig, ax = plt.subplots(figsize=(10,10))\n",
    "\n",
    "sns.heatmap(df.corr(), ax=ax)\n",
    "\n"
   ]
  },
  {
   "cell_type": "code",
   "execution_count": 118,
   "metadata": {},
   "outputs": [
    {
     "name": "stdout",
     "output_type": "stream",
     "text": [
      "Intercept: 0.185102394096\n",
      "Coefficients: [ -1.91479979e-07   4.60612136e-03  -2.67727530e-01   1.48987359e-02\n",
      "  -9.87613773e-02   1.52087203e-01   6.34688744e-02   1.89259083e+07\n",
      "  -1.89259083e+07  -1.89259084e+07  -1.89259082e+07  -1.89259080e+07\n",
      "  -1.64076285e-02  -1.72521845e-02]\n",
      "R-Squared: 0.477963521181\n"
     ]
    }
   ],
   "source": [
    "features_all = df.drop(['per_NLF', 'Id2'], axis=1)\n",
    "target =  df['per_NLF']\n",
    "\n",
    "X = features\n",
    "\n",
    "y = target\n",
    "\n",
    "# Initialize and fit the model\n",
    "linreg = LinearRegression()\n",
    "linreg.fit(X, y)\n",
    "\n",
    "# Print the intercept and coefficients\n",
    "print 'Intercept:', linreg.intercept_\n",
    "print 'Coefficients:',linreg.coef_\n",
    "print 'R-Squared:', linreg.score(X, y)\n",
    "\n"
   ]
  },
  {
   "cell_type": "code",
   "execution_count": 103,
   "metadata": {},
   "outputs": [
    {
     "data": {
      "image/png": "[encoded data removed]",
      "text/plain": [
       "<matplotlib.figure.Figure at 0x1a9d2160>"
      ]
     },
     "metadata": {},
     "output_type": "display_data"
    }
   ],
   "source": [
    "import matplotlib.pyplot as plt\n",
    "%matplotlib inline\n",
    "plt.style.use('seaborn')\n",
    "\n",
    "\n",
    "g = sns.pairplot(df, x_vars=['med_hh_inc', 'med_age', 'p_vacant', 'avg_hh_size'], y_vars='per_NLF',  size=15, aspect=0.7, kind='reg')\n",
    "\n",
    "g.fig.set_size_inches(15,2)\n"
   ]
  },
  {
   "cell_type": "code",
   "execution_count": 104,
   "metadata": {},
   "outputs": [
    {
     "data": {
      "image/png": "[encoded data removed]",
      "text/plain": [
       "<matplotlib.figure.Figure at 0x1add5860>"
      ]
     },
     "metadata": {},
     "output_type": "display_data"
    }
   ],
   "source": [
    "g = sns.pairplot(df, x_vars=['p_renters', 'p_r1000_plus', 'p_ccasian', 'p_phh_ba'], y_vars='per_NLF',  size=15, aspect=0.7, kind='reg')\n",
    "\n",
    "g.fig.set_size_inches(15,2)"
   ]
  },
  {
   "cell_type": "code",
   "execution_count": 107,
   "metadata": {},
   "outputs": [
    {
     "data": {
      "image/png": "[encoded data removed]",
      "text/plain": [
       "<matplotlib.figure.Figure at 0x12c40dc18>"
      ]
     },
     "metadata": {},
     "output_type": "display_data"
    }
   ],
   "source": [
    "g = sns.pairplot(df, x_vars=['p_phh_stem',\n",
    "       'p_phh_biz', 'p_phh_ed', 'p_phh_hum'], y_vars='per_NLF',  size=15, aspect=0.7, kind='reg')\n",
    "\n",
    "g.fig.set_size_inches(15,2)"
   ]
  },
  {
   "cell_type": "code",
   "execution_count": 106,
   "metadata": {},
   "outputs": [
    {
     "data": {
      "image/png": "[encoded data removed]",
      "text/plain": [
       "<matplotlib.figure.Figure at 0x12c9350f0>"
      ]
     },
     "metadata": {},
     "output_type": "display_data"
    }
   ],
   "source": [
    "\n",
    "\n",
    "g = sns.pairplot(df, x_vars=[ 'p_phh_hum', 'p_nonfam_hh', 'p_apt'], y_vars='per_NLF',  size=15, aspect=0.7, kind='reg')\n",
    "\n",
    "g.fig.set_size_inches(15,2)"
   ]
  },
  {
   "cell_type": "code",
   "execution_count": 131,
   "metadata": {},
   "outputs": [
    {
     "name": "stdout",
     "output_type": "stream",
     "text": [
      "0.925335251199\n",
      "[-0.30020396 -0.40860798 -4.77100593]\n"
     ]
    }
   ],
   "source": [
    "from sklearn.ensemble import RandomForestRegressor\n",
    "\n",
    "cls = RandomForestRegressor(n_estimators=50)\n",
    "cls.fit(X,y)\n",
    "\n",
    "print cls.score(X,y)\n",
    "print cross_val_score(cls, X, y )"
   ]
  },
  {
   "cell_type": "code",
   "execution_count": 138,
   "metadata": {},
   "outputs": [],
   "source": [
    "feature_importances = cls.feature_importances_\n",
    "f_zip = zip(features, feature_importances)"
   ]
  },
  {
   "cell_type": "code",
   "execution_count": 139,
   "metadata": {},
   "outputs": [
    {
     "name": "stdout",
     "output_type": "stream",
     "text": [
      "('med_hh_inc', 0.021833734605622643)\n",
      "('med_age', 0.14188542782600144)\n",
      "('p_vacant', 0.029195688081678238)\n",
      "('avg_hh_size', 0.06336913162749272)\n",
      "('p_renters', 0.028119084295113086)\n",
      "('p_r1000_plus', 0.062194992132091301)\n",
      "('p_ccasian', 0.041866644171379877)\n",
      "('p_phh_ba', 0.094887654359521734)\n",
      "('p_phh_stem', 0.049112841478810759)\n",
      "('p_phh_biz', 0.012325230754034138)\n",
      "('p_phh_ed', 0.021225180313106849)\n",
      "('p_phh_hum', 0.10680549438436307)\n",
      "('p_nonfam_hh', 0.030785699807264168)\n",
      "('p_apt', 0.29639319616352)\n"
     ]
    }
   ],
   "source": [
    "for i in f_zip:\n",
    "    print i"
   ]
  },
  {
   "cell_type": "code",
   "execution_count": null,
   "metadata": {
    "collapsed": true
   },
   "outputs": [],
   "source": []
  }
 ],
 "metadata": {
  "kernelspec": {
   "display_name": "Python 2",
   "language": "python",
   "name": "python2"
  },
  "language_info": {
   "codemirror_mode": {
    "name": "ipython",
    "version": 2
   },
   "file_extension": ".py",
   "mimetype": "text/x-python",
   "name": "python",
   "nbconvert_exporter": "python",
   "pygments_lexer": "ipython2",
   "version": "2.7.13"
  }
 },
 "nbformat": 4,
 "nbformat_minor": 2
}
